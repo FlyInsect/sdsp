{
 "cells": [
  {
   "cell_type": "code",
   "execution_count": 1,
   "id": "187c1d0f",
   "metadata": {},
   "outputs": [],
   "source": [
    "import pandas as pd\n",
    "import numpy as np"
   ]
  },
  {
   "cell_type": "markdown",
   "id": "884da6fd",
   "metadata": {},
   "source": [
    "### Original 322 dimensional feature"
   ]
  },
  {
   "cell_type": "code",
   "execution_count": 3,
   "id": "6d587ff6",
   "metadata": {},
   "outputs": [
    {
     "data": {
      "text/html": [
       "<div>\n",
       "<style scoped>\n",
       "    .dataframe tbody tr th:only-of-type {\n",
       "        vertical-align: middle;\n",
       "    }\n",
       "\n",
       "    .dataframe tbody tr th {\n",
       "        vertical-align: top;\n",
       "    }\n",
       "\n",
       "    .dataframe thead th {\n",
       "        text-align: right;\n",
       "    }\n",
       "</style>\n",
       "<table border=\"1\" class=\"dataframe\">\n",
       "  <thead>\n",
       "    <tr style=\"text-align: right;\">\n",
       "      <th></th>\n",
       "      <th>MeSH Symptom Term</th>\n",
       "      <th>MeSH Disease Term</th>\n",
       "      <th>PubMed occurrence</th>\n",
       "      <th>TFIDF score</th>\n",
       "    </tr>\n",
       "  </thead>\n",
       "  <tbody>\n",
       "    <tr>\n",
       "      <th>0</th>\n",
       "      <td>Aging, Premature</td>\n",
       "      <td>Respiratory Syncytial Virus Infections</td>\n",
       "      <td>1</td>\n",
       "      <td>3.464551</td>\n",
       "    </tr>\n",
       "    <tr>\n",
       "      <th>1</th>\n",
       "      <td>Aging, Premature</td>\n",
       "      <td>Orthomyxoviridae Infections</td>\n",
       "      <td>1</td>\n",
       "      <td>3.464551</td>\n",
       "    </tr>\n",
       "    <tr>\n",
       "      <th>2</th>\n",
       "      <td>Aging, Premature</td>\n",
       "      <td>HIV Infections</td>\n",
       "      <td>3</td>\n",
       "      <td>10.393654</td>\n",
       "    </tr>\n",
       "    <tr>\n",
       "      <th>3</th>\n",
       "      <td>Aging, Premature</td>\n",
       "      <td>Acquired Immunodeficiency Syndrome</td>\n",
       "      <td>3</td>\n",
       "      <td>10.393654</td>\n",
       "    </tr>\n",
       "    <tr>\n",
       "      <th>4</th>\n",
       "      <td>Aging, Premature</td>\n",
       "      <td>Breast Neoplasms</td>\n",
       "      <td>1</td>\n",
       "      <td>3.464551</td>\n",
       "    </tr>\n",
       "  </tbody>\n",
       "</table>\n",
       "</div>"
      ],
      "text/plain": [
       "  MeSH Symptom Term                       MeSH Disease Term  \\\n",
       "0  Aging, Premature  Respiratory Syncytial Virus Infections   \n",
       "1  Aging, Premature             Orthomyxoviridae Infections   \n",
       "2  Aging, Premature                          HIV Infections   \n",
       "3  Aging, Premature      Acquired Immunodeficiency Syndrome   \n",
       "4  Aging, Premature                        Breast Neoplasms   \n",
       "\n",
       "   PubMed occurrence  TFIDF score  \n",
       "0                  1     3.464551  \n",
       "1                  1     3.464551  \n",
       "2                  3    10.393654  \n",
       "3                  3    10.393654  \n",
       "4                  1     3.464551  "
      ]
     },
     "execution_count": 3,
     "metadata": {},
     "output_type": "execute_result"
    }
   ],
   "source": [
    "sym = pd.read_csv(\"../final/Supplementary Data 3.txt\",sep = \"\\t\")\n",
    "sym.head()"
   ]
  },
  {
   "cell_type": "code",
   "execution_count": 7,
   "id": "6c48e9de",
   "metadata": {},
   "outputs": [
    {
     "name": "stdout",
     "output_type": "stream",
     "text": [
      "322\n"
     ]
    }
   ],
   "source": [
    "sym_old_ls = set(sym[\"MeSH Symptom Term\"])\n",
    "print(len(sym_old_ls))"
   ]
  },
  {
   "cell_type": "markdown",
   "id": "4dc1b89e",
   "metadata": {},
   "source": [
    "### New 385 dimensional feature"
   ]
  },
  {
   "cell_type": "code",
   "execution_count": 8,
   "id": "df309281",
   "metadata": {},
   "outputs": [
    {
     "data": {
      "text/html": [
       "<div>\n",
       "<style scoped>\n",
       "    .dataframe tbody tr th:only-of-type {\n",
       "        vertical-align: middle;\n",
       "    }\n",
       "\n",
       "    .dataframe tbody tr th {\n",
       "        vertical-align: top;\n",
       "    }\n",
       "\n",
       "    .dataframe thead th {\n",
       "        text-align: right;\n",
       "    }\n",
       "</style>\n",
       "<table border=\"1\" class=\"dataframe\">\n",
       "  <thead>\n",
       "    <tr style=\"text-align: right;\">\n",
       "      <th></th>\n",
       "      <th>Aging, Premature</th>\n",
       "      <th>Asthenia</th>\n",
       "      <th>Body Temperature Changes</th>\n",
       "      <th>Fever</th>\n",
       "      <th>Fever of Unknown Origin</th>\n",
       "      <th>Sweating Sickness</th>\n",
       "      <th>Hypothermia</th>\n",
       "      <th>Body Weight</th>\n",
       "      <th>Birth Weight</th>\n",
       "      <th>Fetal Macrosomia</th>\n",
       "      <th>...</th>\n",
       "      <th>Urinary Incontinence, Stress</th>\n",
       "      <th>Urinary Incontinence, Urge</th>\n",
       "      <th>Oliguria</th>\n",
       "      <th>Polyuria</th>\n",
       "      <th>Proteinuria</th>\n",
       "      <th>Albuminuria</th>\n",
       "      <th>Hemoglobinuria</th>\n",
       "      <th>Urinoma</th>\n",
       "      <th>Virilism</th>\n",
       "      <th>Hirsutism</th>\n",
       "    </tr>\n",
       "  </thead>\n",
       "  <tbody>\n",
       "    <tr>\n",
       "      <th>count</th>\n",
       "      <td>1108</td>\n",
       "      <td>1388</td>\n",
       "      <td>51132</td>\n",
       "      <td>41710</td>\n",
       "      <td>4304</td>\n",
       "      <td>26</td>\n",
       "      <td>9806</td>\n",
       "      <td>472368</td>\n",
       "      <td>41945</td>\n",
       "      <td>2798</td>\n",
       "      <td>...</td>\n",
       "      <td>11463</td>\n",
       "      <td>978</td>\n",
       "      <td>1165</td>\n",
       "      <td>1976</td>\n",
       "      <td>37968</td>\n",
       "      <td>15010</td>\n",
       "      <td>967</td>\n",
       "      <td>128</td>\n",
       "      <td>5182</td>\n",
       "      <td>3652</td>\n",
       "    </tr>\n",
       "  </tbody>\n",
       "</table>\n",
       "<p>1 rows × 385 columns</p>\n",
       "</div>"
      ],
      "text/plain": [
       "       Aging, Premature  Asthenia  Body Temperature Changes  Fever  \\\n",
       "count              1108      1388                     51132  41710   \n",
       "\n",
       "       Fever of Unknown Origin  Sweating Sickness  Hypothermia  Body Weight  \\\n",
       "count                     4304                 26         9806       472368   \n",
       "\n",
       "       Birth Weight  Fetal Macrosomia  ...  Urinary Incontinence, Stress  \\\n",
       "count         41945              2798  ...                         11463   \n",
       "\n",
       "       Urinary Incontinence, Urge  Oliguria  Polyuria  Proteinuria  \\\n",
       "count                         978      1165      1976        37968   \n",
       "\n",
       "       Albuminuria  Hemoglobinuria  Urinoma  Virilism  Hirsutism  \n",
       "count        15010             967      128      5182       3652  \n",
       "\n",
       "[1 rows x 385 columns]"
      ]
     },
     "execution_count": 8,
     "metadata": {},
     "output_type": "execute_result"
    }
   ],
   "source": [
    "sym_count = pd.read_csv(\"sym_PMID_count.csv\",index_col=0)\n",
    "sym_count.head()"
   ]
  },
  {
   "cell_type": "code",
   "execution_count": 9,
   "id": "32f05162",
   "metadata": {
    "scrolled": true
   },
   "outputs": [
    {
     "name": "stdout",
     "output_type": "stream",
     "text": [
      "385\n"
     ]
    }
   ],
   "source": [
    "sym_new_ls = set(sym_count.columns)\n",
    "print(len(sym_new_ls))"
   ]
  },
  {
   "cell_type": "markdown",
   "id": "14452c37",
   "metadata": {},
   "source": [
    "### Compare the difference between old and new symptoms"
   ]
  },
  {
   "cell_type": "code",
   "execution_count": 10,
   "id": "77a8f951",
   "metadata": {},
   "outputs": [
    {
     "name": "stdout",
     "output_type": "stream",
     "text": [
      "313\n"
     ]
    }
   ],
   "source": [
    "print(len(sym_old_ls & sym_new_ls))"
   ]
  },
  {
   "cell_type": "code",
   "execution_count": 12,
   "id": "d0a0cd24",
   "metadata": {},
   "outputs": [
    {
     "data": {
      "text/plain": [
       "{'Acute Coronary Syndrome',\n",
       " 'Anoxia',\n",
       " 'Colic',\n",
       " 'Coprophagia',\n",
       " 'Learning Disorders',\n",
       " 'Mental Retardation',\n",
       " 'Reflex, Babinski',\n",
       " 'Respiratory Aspiration',\n",
       " 'Sleep Disorders'}"
      ]
     },
     "execution_count": 12,
     "metadata": {},
     "output_type": "execute_result"
    }
   ],
   "source": [
    "dif_sym = sym_old_ls - sym_new_ls\n",
    "dif_sym"
   ]
  },
  {
   "cell_type": "code",
   "execution_count": null,
   "id": "0069571a",
   "metadata": {},
   "outputs": [],
   "source": [
    "{'Acute Coronary Syndrome',[C14.280.647.124,C14.907.585.124]\n",
    " 'Anoxia',Hypoxia\n",
    " 'Colic', [C16.614.166]\n",
    " 'Coprophagia',[F01.145.113.547.500]\n",
    " 'Learning Disorders',Learning Disabilities\n",
    " 'Mental Retardation',Intellectual Disability\n",
    " 'Reflex, Babinski',Reflex, Abnormal\n",
    " 'Respiratory Aspiration',[C08.618.749,C23.550.773]\n",
    " 'Sleep Disorders'}Sleep Wake Disorders"
   ]
  },
  {
   "cell_type": "markdown",
   "id": "de846c35",
   "metadata": {},
   "source": [
    "### Diseases involved in the original features"
   ]
  },
  {
   "cell_type": "code",
   "execution_count": 4,
   "id": "44275c75",
   "metadata": {},
   "outputs": [
    {
     "data": {
      "text/html": [
       "<div>\n",
       "<style scoped>\n",
       "    .dataframe tbody tr th:only-of-type {\n",
       "        vertical-align: middle;\n",
       "    }\n",
       "\n",
       "    .dataframe tbody tr th {\n",
       "        vertical-align: top;\n",
       "    }\n",
       "\n",
       "    .dataframe thead th {\n",
       "        text-align: right;\n",
       "    }\n",
       "</style>\n",
       "<table border=\"1\" class=\"dataframe\">\n",
       "  <thead>\n",
       "    <tr style=\"text-align: right;\">\n",
       "      <th></th>\n",
       "      <th>disease_A</th>\n",
       "      <th>disease_B</th>\n",
       "      <th>s_AB (observed)</th>\n",
       "    </tr>\n",
       "  </thead>\n",
       "  <tbody>\n",
       "    <tr>\n",
       "      <th>0</th>\n",
       "      <td>abnormalities, multiple</td>\n",
       "      <td>actinomycetales infections</td>\n",
       "      <td>0.810442</td>\n",
       "    </tr>\n",
       "    <tr>\n",
       "      <th>1</th>\n",
       "      <td>abnormalities, multiple</td>\n",
       "      <td>adenocarcinoma</td>\n",
       "      <td>0.306936</td>\n",
       "    </tr>\n",
       "    <tr>\n",
       "      <th>2</th>\n",
       "      <td>abnormalities, multiple</td>\n",
       "      <td>adnexal diseases</td>\n",
       "      <td>0.366111</td>\n",
       "    </tr>\n",
       "    <tr>\n",
       "      <th>3</th>\n",
       "      <td>abnormalities, multiple</td>\n",
       "      <td>adrenal gland diseases</td>\n",
       "      <td>0.649266</td>\n",
       "    </tr>\n",
       "    <tr>\n",
       "      <th>4</th>\n",
       "      <td>abnormalities, multiple</td>\n",
       "      <td>albuminuria</td>\n",
       "      <td>0.212946</td>\n",
       "    </tr>\n",
       "  </tbody>\n",
       "</table>\n",
       "</div>"
      ],
      "text/plain": [
       "                 disease_A                   disease_B  s_AB (observed)\n",
       "0  abnormalities, multiple  actinomycetales infections         0.810442\n",
       "1  abnormalities, multiple              adenocarcinoma         0.306936\n",
       "2  abnormalities, multiple            adnexal diseases         0.366111\n",
       "3  abnormalities, multiple      adrenal gland diseases         0.649266\n",
       "4  abnormalities, multiple                 albuminuria         0.212946"
      ]
     },
     "execution_count": 4,
     "metadata": {},
     "output_type": "execute_result"
    }
   ],
   "source": [
    "dis_sim = pd.read_csv(\"../final/dis_sim.csv\")\n",
    "dis_sim.head()"
   ]
  },
  {
   "cell_type": "code",
   "execution_count": 7,
   "id": "b60bc52a",
   "metadata": {},
   "outputs": [
    {
     "name": "stdout",
     "output_type": "stream",
     "text": [
      "299\n"
     ]
    }
   ],
   "source": [
    "dis_old_ls = set(dis_sim[\"disease_A\"]) | set(dis_sim[\"disease_B\"])\n",
    "print(len(dis_old_ls))"
   ]
  },
  {
   "cell_type": "markdown",
   "id": "077dbb9c",
   "metadata": {},
   "source": [
    "### Diseases involved in the new features"
   ]
  },
  {
   "cell_type": "code",
   "execution_count": 9,
   "id": "549c423d",
   "metadata": {},
   "outputs": [
    {
     "data": {
      "text/html": [
       "<div>\n",
       "<style scoped>\n",
       "    .dataframe tbody tr th:only-of-type {\n",
       "        vertical-align: middle;\n",
       "    }\n",
       "\n",
       "    .dataframe tbody tr th {\n",
       "        vertical-align: top;\n",
       "    }\n",
       "\n",
       "    .dataframe thead th {\n",
       "        text-align: right;\n",
       "    }\n",
       "</style>\n",
       "<table border=\"1\" class=\"dataframe\">\n",
       "  <thead>\n",
       "    <tr style=\"text-align: right;\">\n",
       "      <th></th>\n",
       "      <th>22q11 Deletion Syndrome</th>\n",
       "      <th>46, XX Disorders of Sex Development</th>\n",
       "      <th>46, XX Testicular Disorders of Sex Development</th>\n",
       "      <th>Abdominal Abscess</th>\n",
       "      <th>Abdominal Injuries</th>\n",
       "      <th>Abdominal Neoplasms</th>\n",
       "      <th>Abducens Nerve Diseases</th>\n",
       "      <th>Abducens Nerve Injury</th>\n",
       "      <th>Aberrant Crypt Foci</th>\n",
       "      <th>Abetalipoproteinemia</th>\n",
       "      <th>...</th>\n",
       "      <th>Yersinia Infections</th>\n",
       "      <th>Yersinia pseudotuberculosis Infections</th>\n",
       "      <th>Zellweger Syndrome</th>\n",
       "      <th>Zenker Diverticulum</th>\n",
       "      <th>Zika Virus Infection</th>\n",
       "      <th>Zollinger-Ellison Syndrome</th>\n",
       "      <th>Zoonoses</th>\n",
       "      <th>Zoster Sine Herpete</th>\n",
       "      <th>Zygomatic Fractures</th>\n",
       "      <th>Zygomycosis</th>\n",
       "    </tr>\n",
       "  </thead>\n",
       "  <tbody>\n",
       "    <tr>\n",
       "      <th>count</th>\n",
       "      <td>1929</td>\n",
       "      <td>1870</td>\n",
       "      <td>48</td>\n",
       "      <td>8113</td>\n",
       "      <td>13848</td>\n",
       "      <td>25337</td>\n",
       "      <td>896</td>\n",
       "      <td>76</td>\n",
       "      <td>180</td>\n",
       "      <td>379</td>\n",
       "      <td>...</td>\n",
       "      <td>6494</td>\n",
       "      <td>707</td>\n",
       "      <td>403</td>\n",
       "      <td>774</td>\n",
       "      <td>4398</td>\n",
       "      <td>1707</td>\n",
       "      <td>7730</td>\n",
       "      <td>30</td>\n",
       "      <td>1079</td>\n",
       "      <td>3753</td>\n",
       "    </tr>\n",
       "  </tbody>\n",
       "</table>\n",
       "<p>1 rows × 4536 columns</p>\n",
       "</div>"
      ],
      "text/plain": [
       "       22q11 Deletion Syndrome  46, XX Disorders of Sex Development  \\\n",
       "count                     1929                                 1870   \n",
       "\n",
       "       46, XX Testicular Disorders of Sex Development  Abdominal Abscess  \\\n",
       "count                                              48               8113   \n",
       "\n",
       "       Abdominal Injuries  Abdominal Neoplasms  Abducens Nerve Diseases  \\\n",
       "count               13848                25337                      896   \n",
       "\n",
       "       Abducens Nerve Injury  Aberrant Crypt Foci  Abetalipoproteinemia  ...  \\\n",
       "count                     76                  180                   379  ...   \n",
       "\n",
       "       Yersinia Infections  Yersinia pseudotuberculosis Infections  \\\n",
       "count                 6494                                     707   \n",
       "\n",
       "       Zellweger Syndrome  Zenker Diverticulum  Zika Virus Infection  \\\n",
       "count                 403                  774                  4398   \n",
       "\n",
       "       Zollinger-Ellison Syndrome  Zoonoses  Zoster Sine Herpete  \\\n",
       "count                        1707      7730                   30   \n",
       "\n",
       "       Zygomatic Fractures  Zygomycosis  \n",
       "count                 1079         3753  \n",
       "\n",
       "[1 rows x 4536 columns]"
      ]
     },
     "execution_count": 9,
     "metadata": {},
     "output_type": "execute_result"
    }
   ],
   "source": [
    "dis_count = pd.read_csv(\"dis_PMID_count.csv\",index_col=0)\n",
    "dis_count.head()"
   ]
  },
  {
   "cell_type": "code",
   "execution_count": 10,
   "id": "c91e2f6c",
   "metadata": {},
   "outputs": [
    {
     "name": "stdout",
     "output_type": "stream",
     "text": [
      "4536\n"
     ]
    }
   ],
   "source": [
    "dis_new_ls = set(dis_count.columns.str.lower())#转小写比较\n",
    "print(len(dis_new_ls))"
   ]
  },
  {
   "cell_type": "markdown",
   "id": "a8caf5b1",
   "metadata": {},
   "source": [
    "### Compare new and old diseases\n",
    "- All diseases involved in the old label are included in the newly extracted diseases (diseases that are not removed and are also symptoms of term) 299/289"
   ]
  },
  {
   "cell_type": "code",
   "execution_count": 11,
   "id": "4fa0aa1a",
   "metadata": {},
   "outputs": [
    {
     "name": "stdout",
     "output_type": "stream",
     "text": [
      "289\n",
      "10\n"
     ]
    },
    {
     "data": {
      "text/plain": [
       "{'body weight',\n",
       " 'death',\n",
       " 'death, sudden',\n",
       " 'metabolic syndrome x',\n",
       " 'overweight',\n",
       " 'pathologic processes',\n",
       " 'pathological conditions, anatomical',\n",
       " 'signs and symptoms',\n",
       " 'sleep disorders',\n",
       " 'urological manifestations'}"
      ]
     },
     "execution_count": 11,
     "metadata": {},
     "output_type": "execute_result"
    }
   ],
   "source": [
    "common_dis = dis_new_ls & dis_old_ls\n",
    "print(len(common_dis))\n",
    "\n",
    "dif_dis = dis_old_ls - dis_new_ls\n",
    "print(len(dif_dis))\n",
    "dif_dis"
   ]
  },
  {
   "cell_type": "code",
   "execution_count": 23,
   "id": "dd81bc86",
   "metadata": {},
   "outputs": [],
   "source": [
    "# Export 10 updated diseases\n",
    "# pd.DataFrame(dif_dis,columns=[\"dif_dis\"]).to_csv(\"dif_dis.csv\")"
   ]
  },
  {
   "cell_type": "code",
   "execution_count": null,
   "id": "a03613eb",
   "metadata": {},
   "outputs": [],
   "source": []
  }
 ],
 "metadata": {
  "kernelspec": {
   "display_name": "Python 3",
   "language": "python",
   "name": "python3"
  },
  "language_info": {
   "codemirror_mode": {
    "name": "ipython",
    "version": 3
   },
   "file_extension": ".py",
   "mimetype": "text/x-python",
   "name": "python",
   "nbconvert_exporter": "python",
   "pygments_lexer": "ipython3",
   "version": "3.7.10"
  },
  "toc": {
   "base_numbering": 1,
   "nav_menu": {},
   "number_sections": true,
   "sideBar": true,
   "skip_h1_title": false,
   "title_cell": "Table of Contents",
   "title_sidebar": "Contents",
   "toc_cell": false,
   "toc_position": {},
   "toc_section_display": true,
   "toc_window_display": true
  }
 },
 "nbformat": 4,
 "nbformat_minor": 5
}
