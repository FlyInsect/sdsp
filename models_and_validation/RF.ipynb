{
 "cells": [
  {
   "cell_type": "code",
   "execution_count": 1,
   "id": "c58653c0",
   "metadata": {},
   "outputs": [],
   "source": [
    "import pandas as pd\n",
    "import numpy as np"
   ]
  },
  {
   "cell_type": "markdown",
   "id": "c2ed2cbc",
   "metadata": {},
   "source": [
    "## load data"
   ]
  },
  {
   "cell_type": "code",
   "execution_count": 3,
   "id": "b956283c",
   "metadata": {},
   "outputs": [
    {
     "name": "stdout",
     "output_type": "stream",
     "text": [
      "32827\n",
      "2418\n"
     ]
    }
   ],
   "source": [
    "y = pd.read_csv(\"cls_labelWithfea.csv\")\n",
    "print(len(y.loc[y[\"label\"] == 0]))\n",
    "print(len(y.loc[y[\"label\"] == 1]))\n",
    "y = y[\"label\"]"
   ]
  },
  {
   "cell_type": "code",
   "execution_count": 12,
   "id": "b9ce35d0",
   "metadata": {},
   "outputs": [
    {
     "name": "stdout",
     "output_type": "stream",
     "text": [
      "(35245, 692)\n"
     ]
    },
    {
     "data": {
      "text/html": [
       "<div>\n",
       "<style scoped>\n",
       "    .dataframe tbody tr th:only-of-type {\n",
       "        vertical-align: middle;\n",
       "    }\n",
       "\n",
       "    .dataframe tbody tr th {\n",
       "        vertical-align: top;\n",
       "    }\n",
       "\n",
       "    .dataframe thead th {\n",
       "        text-align: right;\n",
       "    }\n",
       "</style>\n",
       "<table border=\"1\" class=\"dataframe\">\n",
       "  <thead>\n",
       "    <tr style=\"text-align: right;\">\n",
       "      <th></th>\n",
       "      <th>0</th>\n",
       "      <th>1</th>\n",
       "      <th>2</th>\n",
       "      <th>3</th>\n",
       "      <th>4</th>\n",
       "      <th>5</th>\n",
       "      <th>6</th>\n",
       "      <th>7</th>\n",
       "      <th>8</th>\n",
       "      <th>9</th>\n",
       "      <th>...</th>\n",
       "      <th>38.1.1</th>\n",
       "      <th>39.1.1</th>\n",
       "      <th>40.1.1</th>\n",
       "      <th>41.1.1</th>\n",
       "      <th>42.1.1</th>\n",
       "      <th>43.1.1</th>\n",
       "      <th>44.1.1</th>\n",
       "      <th>45.1.1</th>\n",
       "      <th>46.1.1</th>\n",
       "      <th>47.1.1</th>\n",
       "    </tr>\n",
       "  </thead>\n",
       "  <tbody>\n",
       "    <tr>\n",
       "      <th>0</th>\n",
       "      <td>1.646934</td>\n",
       "      <td>16.806405</td>\n",
       "      <td>21.451611</td>\n",
       "      <td>11.759815</td>\n",
       "      <td>115.787869</td>\n",
       "      <td>2.653693</td>\n",
       "      <td>93.246009</td>\n",
       "      <td>2261.805817</td>\n",
       "      <td>5.061076</td>\n",
       "      <td>18.577704</td>\n",
       "      <td>...</td>\n",
       "      <td>0.0</td>\n",
       "      <td>0.0</td>\n",
       "      <td>0.0</td>\n",
       "      <td>0.0</td>\n",
       "      <td>0.0</td>\n",
       "      <td>0.0</td>\n",
       "      <td>0.0</td>\n",
       "      <td>0.0</td>\n",
       "      <td>0.0</td>\n",
       "      <td>0.0</td>\n",
       "    </tr>\n",
       "    <tr>\n",
       "      <th>1</th>\n",
       "      <td>1.646934</td>\n",
       "      <td>16.806405</td>\n",
       "      <td>21.451611</td>\n",
       "      <td>11.759815</td>\n",
       "      <td>115.787869</td>\n",
       "      <td>2.653693</td>\n",
       "      <td>93.246009</td>\n",
       "      <td>2261.805817</td>\n",
       "      <td>5.061076</td>\n",
       "      <td>18.577704</td>\n",
       "      <td>...</td>\n",
       "      <td>0.0</td>\n",
       "      <td>0.0</td>\n",
       "      <td>0.0</td>\n",
       "      <td>0.0</td>\n",
       "      <td>0.0</td>\n",
       "      <td>0.0</td>\n",
       "      <td>0.0</td>\n",
       "      <td>0.0</td>\n",
       "      <td>0.0</td>\n",
       "      <td>0.0</td>\n",
       "    </tr>\n",
       "    <tr>\n",
       "      <th>2</th>\n",
       "      <td>1.646934</td>\n",
       "      <td>16.806405</td>\n",
       "      <td>21.451611</td>\n",
       "      <td>11.759815</td>\n",
       "      <td>115.787869</td>\n",
       "      <td>2.653693</td>\n",
       "      <td>93.246009</td>\n",
       "      <td>2261.805817</td>\n",
       "      <td>5.061076</td>\n",
       "      <td>18.577704</td>\n",
       "      <td>...</td>\n",
       "      <td>0.0</td>\n",
       "      <td>0.0</td>\n",
       "      <td>0.0</td>\n",
       "      <td>0.0</td>\n",
       "      <td>0.0</td>\n",
       "      <td>0.0</td>\n",
       "      <td>0.0</td>\n",
       "      <td>0.0</td>\n",
       "      <td>0.0</td>\n",
       "      <td>0.0</td>\n",
       "    </tr>\n",
       "    <tr>\n",
       "      <th>3</th>\n",
       "      <td>1.646934</td>\n",
       "      <td>16.806405</td>\n",
       "      <td>21.451611</td>\n",
       "      <td>11.759815</td>\n",
       "      <td>115.787869</td>\n",
       "      <td>2.653693</td>\n",
       "      <td>93.246009</td>\n",
       "      <td>2261.805817</td>\n",
       "      <td>5.061076</td>\n",
       "      <td>18.577704</td>\n",
       "      <td>...</td>\n",
       "      <td>0.0</td>\n",
       "      <td>0.0</td>\n",
       "      <td>0.0</td>\n",
       "      <td>0.0</td>\n",
       "      <td>0.0</td>\n",
       "      <td>0.0</td>\n",
       "      <td>0.0</td>\n",
       "      <td>0.0</td>\n",
       "      <td>0.0</td>\n",
       "      <td>0.0</td>\n",
       "    </tr>\n",
       "    <tr>\n",
       "      <th>4</th>\n",
       "      <td>1.646934</td>\n",
       "      <td>16.806405</td>\n",
       "      <td>21.451611</td>\n",
       "      <td>11.759815</td>\n",
       "      <td>115.787869</td>\n",
       "      <td>2.653693</td>\n",
       "      <td>93.246009</td>\n",
       "      <td>2261.805817</td>\n",
       "      <td>5.061076</td>\n",
       "      <td>18.577704</td>\n",
       "      <td>...</td>\n",
       "      <td>0.0</td>\n",
       "      <td>0.0</td>\n",
       "      <td>0.0</td>\n",
       "      <td>0.0</td>\n",
       "      <td>0.0</td>\n",
       "      <td>0.0</td>\n",
       "      <td>0.0</td>\n",
       "      <td>0.0</td>\n",
       "      <td>0.0</td>\n",
       "      <td>1.0</td>\n",
       "    </tr>\n",
       "  </tbody>\n",
       "</table>\n",
       "<p>5 rows × 692 columns</p>\n",
       "</div>"
      ],
      "text/plain": [
       "          0          1          2          3           4         5          6  \\\n",
       "0  1.646934  16.806405  21.451611  11.759815  115.787869  2.653693  93.246009   \n",
       "1  1.646934  16.806405  21.451611  11.759815  115.787869  2.653693  93.246009   \n",
       "2  1.646934  16.806405  21.451611  11.759815  115.787869  2.653693  93.246009   \n",
       "3  1.646934  16.806405  21.451611  11.759815  115.787869  2.653693  93.246009   \n",
       "4  1.646934  16.806405  21.451611  11.759815  115.787869  2.653693  93.246009   \n",
       "\n",
       "             7         8          9  ...  38.1.1  39.1.1  40.1.1  41.1.1  \\\n",
       "0  2261.805817  5.061076  18.577704  ...     0.0     0.0     0.0     0.0   \n",
       "1  2261.805817  5.061076  18.577704  ...     0.0     0.0     0.0     0.0   \n",
       "2  2261.805817  5.061076  18.577704  ...     0.0     0.0     0.0     0.0   \n",
       "3  2261.805817  5.061076  18.577704  ...     0.0     0.0     0.0     0.0   \n",
       "4  2261.805817  5.061076  18.577704  ...     0.0     0.0     0.0     0.0   \n",
       "\n",
       "   42.1.1  43.1.1  44.1.1  45.1.1  46.1.1  47.1.1  \n",
       "0     0.0     0.0     0.0     0.0     0.0     0.0  \n",
       "1     0.0     0.0     0.0     0.0     0.0     0.0  \n",
       "2     0.0     0.0     0.0     0.0     0.0     0.0  \n",
       "3     0.0     0.0     0.0     0.0     0.0     0.0  \n",
       "4     0.0     0.0     0.0     0.0     0.0     1.0  \n",
       "\n",
       "[5 rows x 692 columns]"
      ]
     },
     "execution_count": 12,
     "metadata": {},
     "output_type": "execute_result"
    }
   ],
   "source": [
    "fea_concat = pd.read_csv(\"sym_mesh_concat.csv\",index_col=0)\n",
    "print(fea_concat.shape)\n",
    "fea_concat.head()"
   ]
  },
  {
   "cell_type": "code",
   "execution_count": 14,
   "id": "34f372cb",
   "metadata": {},
   "outputs": [],
   "source": [
    "from sklearn.model_selection import cross_val_score\n",
    "from sklearn.model_selection import validation_curve\n",
    "\n",
    "from sklearn.model_selection import StratifiedKFold,train_test_split\n",
    "from sklearn.metrics import confusion_matrix\n",
    "from sklearn.metrics import accuracy_score,precision_score,recall_score,f1_score\n",
    "\n",
    "from sklearn.utils import shuffle\n",
    "\n",
    "from imblearn.under_sampling import RandomUnderSampler # Random UnderSampler\n",
    "from sklearn.metrics import roc_auc_score\n",
    "from sklearn.metrics import accuracy_score\n",
    "from sklearn.metrics import average_precision_score\n",
    "from sklearn.metrics import roc_curve,auc"
   ]
  },
  {
   "cell_type": "markdown",
   "id": "fd350edd",
   "metadata": {},
   "source": [
    "## 负采样+划分测试集"
   ]
  },
  {
   "cell_type": "code",
   "execution_count": 18,
   "id": "7375fb00",
   "metadata": {},
   "outputs": [
    {
     "name": "stdout",
     "output_type": "stream",
     "text": [
      "负采样后数据集大小: 4836\n",
      "(3868, 692) (968, 692)\n"
     ]
    }
   ],
   "source": [
    "import random as python_random\n",
    "seed = 1\n",
    "np.random.seed(seed) # This is necessary for starting Numpy generated random numbers in a well-defined initial state.\n",
    "python_random.seed(seed)# This is necessary for starting core Python generated random numbers in a well-defined state.\n",
    "\n",
    "rus = RandomUnderSampler(sampling_strategy=1,random_state=seed) \n",
    "rus_x, rus_y = rus.fit_resample(fea_concat ,y) #rus_y(Series)\n",
    "print('负采样后数据集大小:',len(rus_y))\n",
    "\n",
    "fea_train,fea_test,y_train,y_test=train_test_split(\n",
    "                rus_x,\n",
    "                rus_y,\n",
    "                test_size=0.2, shuffle=True)\n",
    "\n",
    "print(fea_train.shape,fea_test.shape)"
   ]
  },
  {
   "cell_type": "markdown",
   "id": "e76a5a68",
   "metadata": {},
   "source": [
    "## RF"
   ]
  },
  {
   "cell_type": "markdown",
   "id": "197fec91",
   "metadata": {},
   "source": [
    "### GridSearchCV"
   ]
  },
  {
   "cell_type": "code",
   "execution_count": 33,
   "id": "a18adfd9",
   "metadata": {
    "scrolled": true
   },
   "outputs": [
    {
     "name": "stdout",
     "output_type": "stream",
     "text": [
      "Fitting 5 folds for each of 1 candidates, totalling 5 fits\n",
      "[CV] END max_depth=10, min_samples_leaf=5, min_samples_split=10, n_estimators=2000; total time=  16.2s\n",
      "[CV] END max_depth=10, min_samples_leaf=5, min_samples_split=10, n_estimators=2000; total time=  16.4s\n",
      "[CV] END max_depth=10, min_samples_leaf=5, min_samples_split=10, n_estimators=2000; total time=  16.2s\n",
      "[CV] END max_depth=10, min_samples_leaf=5, min_samples_split=10, n_estimators=2000; total time=  16.3s\n",
      "[CV] END max_depth=10, min_samples_leaf=5, min_samples_split=10, n_estimators=2000; total time=  16.2s\n",
      "train_acc: [0.83628523]\n",
      "train_auc: [0.92195991]\n",
      "test_acc: [0.71561452]\n",
      "test_auc: [0.78130718]\n",
      "train_acc:0.8362852276489072---test_acc:0.7156145224318153  with:   {'max_depth': 10, 'min_samples_leaf': 5, 'min_samples_split': 10, 'n_estimators': 2000}\n",
      " \n",
      " train_auc:0.9219599108893094---test_auc:0.7813071780315515  with:   {'max_depth': 10, 'min_samples_leaf': 5, 'min_samples_split': 10, 'n_estimators': 2000}\n",
      "\n",
      "\n",
      " grid.best_score_: 0.7813071780315515 \n",
      " best_params_: {'max_depth': 10, 'min_samples_leaf': 5, 'min_samples_split': 10, 'n_estimators': 2000}\n"
     ]
    }
   ],
   "source": [
    "from sklearn.ensemble import RandomForestClassifier\n",
    "from sklearn.model_selection import GridSearchCV\n",
    "\n",
    "clf=RandomForestClassifier(class_weight={1:1,0:1},\n",
    "                           random_state=seed)\n",
    "\n",
    "kfold = StratifiedKFold(n_splits=5,shuffle=True,random_state=seed)\n",
    "\n",
    "trees=[2000]\n",
    "maxdepths=[10]\n",
    "min_samples_leafs=[5]\n",
    "min_samples_splits=[10]\n",
    "#max_featuress=list(range(20,41,2))#default 25\n",
    "param_grid=dict(n_estimators= trees,\n",
    "                max_depth=maxdepths,\n",
    "                min_samples_leaf=min_samples_leafs,\n",
    "                min_samples_split=min_samples_splits)\n",
    "\n",
    "scorings=[\"accuracy\",\"roc_auc\"]\n",
    "\n",
    "grid = GridSearchCV(clf, param_grid, cv=kfold, \n",
    "                    scoring=scorings,return_train_score = True,refit=\"roc_auc\",\n",
    "                   verbose=2)\n",
    "grid_result=grid.fit(fea_train,y_train)\n",
    "\n",
    "# GridSearchCV results\n",
    "params = grid_result.cv_results_[\"params\"]\n",
    "mean_train_accuracy=grid_result.cv_results_[\"mean_train_accuracy\"]\n",
    "mean_train_roc_auc=grid_result.cv_results_[\"mean_train_roc_auc\"]\n",
    "\n",
    "mean_test_accuracy=grid_result.cv_results_[\"mean_test_accuracy\"]\n",
    "mean_test_roc_auc=grid_result.cv_results_[\"mean_test_roc_auc\"]\n",
    "\n",
    "print(\"train_acc:\",mean_train_accuracy)\n",
    "print(\"train_auc:\",mean_train_roc_auc)\n",
    "print(\"test_acc:\",mean_test_accuracy)\n",
    "print(\"test_auc:\",mean_test_roc_auc)\n",
    "\n",
    "for mean_train_acc,mean_test_acc,mean_train_auc,mean_test_auc,param in zip(\n",
    "                                        mean_train_accuracy,mean_test_accuracy,\n",
    "                                        mean_train_roc_auc,mean_test_roc_auc,params):\n",
    "    print(\"train_acc:{}---test_acc:{}  with:   {}\\n\" .format(mean_train_acc,mean_test_acc,param),\"\\n\",\n",
    "         \"train_auc:{}---test_auc:{}  with:   {}\\n\" .format(mean_train_auc,mean_test_auc,param))\n",
    "    \n",
    "print(\"\\n grid.best_score_:\",grid.best_score_ ,\"\\n best_params_:\",grid.best_params_)\n",
    "#print(grid_result.cv_results_.keys())"
   ]
  },
  {
   "cell_type": "markdown",
   "id": "49e43e85",
   "metadata": {},
   "source": [
    "min_samples_split=100,\n",
    "min_samples_leaf=20,\n",
    "\n",
    "grid.best_score_: 0.7672469198360907 \n",
    "best_params_: {'max_depth': 20, 'n_estimators': 200}\n",
    "    \n",
    "    #############\n",
    "min_samples_split=50,\n",
    "min_samples_leaf=10,\n",
    "    \n",
    "grid.best_score_: 0.7828178384472568 \n",
    "best_params_: {'max_depth': 50, 'n_estimators': 100}\n",
    "    \n",
    "    \n",
    "    #################\n",
    "grid.best_score_: 0.7763511180871401 \n",
    "best_params_: {'max_depth': 50, 'min_samples_leaf': 5, 'min_samples_split': 100, 'n_estimators': 300}\n",
    "\n",
    "      ############\n",
    "grid.best_score_: 0.7865976307593436 \n",
    "best_params_: {'max_depth': 50, 'min_samples_leaf': 5, 'min_samples_split': 50, 'n_estimators': 700}\n",
    "\n",
    "       #####\n",
    "grid.best_score_: 0.7952418093456814 \n",
    "best_params_: {'max_depth': 50, 'min_samples_leaf': 5, 'min_samples_split': 20, 'n_estimators': 2000}\n",
    "\n",
    "    ######不太过拟合\n",
    "grid.best_score_: 0.7813071780315515 \n",
    "best_params_: {'max_depth': 10, 'min_samples_leaf': 5, 'min_samples_split': 10, 'n_estimators': 2000}"
   ]
  },
  {
   "cell_type": "markdown",
   "id": "88770d1d",
   "metadata": {},
   "source": [
    "### Test"
   ]
  },
  {
   "cell_type": "code",
   "execution_count": 86,
   "id": "62b6f6f8",
   "metadata": {
    "code_folding": []
   },
   "outputs": [],
   "source": [
    "#y_test-binary-int;y_pred-proba-float\n",
    "def test_metric(y_test,y_pred):\n",
    "    y_test=np.array(y_test)\n",
    "    y_pred=np.array(y_pred)\n",
    "    \n",
    "    y_pred_bina = np.around(y_pred,0).astype(int)\n",
    "    class_acc=accuracy_score(y_test,y_pred_bina)\n",
    "    \n",
    "    y_test_int = y_test.astype(int)\n",
    "    fpr,tpr,threshold=roc_curve(y_test_int,y_pred)#y_test-int(ndarray)\n",
    "    print(len(fpr))\n",
    "    roc_auc=auc(fpr,tpr)\n",
    "    \n",
    "    print('accuracy {}'.format(str(class_acc)), 'AUC:{}'.format(roc_auc))\n",
    "\n",
    "    return np.array(class_acc),np.array(roc_auc)\n"
   ]
  },
  {
   "cell_type": "code",
   "execution_count": 88,
   "id": "5126d528",
   "metadata": {
    "scrolled": true
   },
   "outputs": [
    {
     "name": "stdout",
     "output_type": "stream",
     "text": [
      "388\n",
      "accuracy 0.6911157024793388 AUC:0.7648338032982995\n",
      "predictions lenth：968\n",
      " accuracy 0.6911157024793388 \n",
      " AUC 0.7648338032982995 \n",
      "\n"
     ]
    }
   ],
   "source": [
    "clf=RandomForestClassifier(n_estimators=2000,\n",
    "                           max_depth=10,\n",
    "                           min_samples_leaf=5,\n",
    "                           min_samples_split=10,\n",
    "                           class_weight={1:1,0:1})\n",
    "clf.fit(fea_train,y_train)\n",
    "\n",
    "predictions=[i[1] for i in clf.predict_proba(fea_test)]\n",
    "\n",
    "accuracy,AUC = test_metric(y_test,predictions)\n",
    "\n",
    "print('predictions lenth：{}\\n'.format(len(predictions)),\n",
    "    'accuracy {} \\n'.format(accuracy),\n",
    "     'AUC {} \\n'.format(AUC))\n"
   ]
  },
  {
   "cell_type": "code",
   "execution_count": 92,
   "id": "6b04b814",
   "metadata": {},
   "outputs": [
    {
     "name": "stdout",
     "output_type": "stream",
     "text": [
      "(2, 968)\n"
     ]
    },
    {
     "data": {
      "text/html": [
       "<div>\n",
       "<style scoped>\n",
       "    .dataframe tbody tr th:only-of-type {\n",
       "        vertical-align: middle;\n",
       "    }\n",
       "\n",
       "    .dataframe tbody tr th {\n",
       "        vertical-align: top;\n",
       "    }\n",
       "\n",
       "    .dataframe thead th {\n",
       "        text-align: right;\n",
       "    }\n",
       "</style>\n",
       "<table border=\"1\" class=\"dataframe\">\n",
       "  <thead>\n",
       "    <tr style=\"text-align: right;\">\n",
       "      <th></th>\n",
       "      <th>label</th>\n",
       "      <th>predict</th>\n",
       "    </tr>\n",
       "  </thead>\n",
       "  <tbody>\n",
       "    <tr>\n",
       "      <th>0</th>\n",
       "      <td>0.0</td>\n",
       "      <td>0.381249</td>\n",
       "    </tr>\n",
       "    <tr>\n",
       "      <th>1</th>\n",
       "      <td>0.0</td>\n",
       "      <td>0.519821</td>\n",
       "    </tr>\n",
       "    <tr>\n",
       "      <th>2</th>\n",
       "      <td>0.0</td>\n",
       "      <td>0.390581</td>\n",
       "    </tr>\n",
       "    <tr>\n",
       "      <th>3</th>\n",
       "      <td>1.0</td>\n",
       "      <td>0.654111</td>\n",
       "    </tr>\n",
       "    <tr>\n",
       "      <th>4</th>\n",
       "      <td>0.0</td>\n",
       "      <td>0.500389</td>\n",
       "    </tr>\n",
       "  </tbody>\n",
       "</table>\n",
       "</div>"
      ],
      "text/plain": [
       "   label   predict\n",
       "0    0.0  0.381249\n",
       "1    0.0  0.519821\n",
       "2    0.0  0.390581\n",
       "3    1.0  0.654111\n",
       "4    0.0  0.500389"
      ]
     },
     "execution_count": 92,
     "metadata": {},
     "output_type": "execute_result"
    }
   ],
   "source": [
    "AUC_data = np.array([list(y_test),list(predictions)])\n",
    "print(AUC_data.shape)\n",
    "AUC_data_df=pd.DataFrame(AUC_data.T,columns=[\"label\",\"predict\"])\n",
    "AUC_data_df.head()"
   ]
  },
  {
   "cell_type": "code",
   "execution_count": 94,
   "id": "8fcaec2a",
   "metadata": {},
   "outputs": [],
   "source": [
    "# AUC_data_df.to_csv(\"auc_data_rf.csv\")"
   ]
  },
  {
   "cell_type": "code",
   "execution_count": null,
   "id": "87f67841",
   "metadata": {},
   "outputs": [],
   "source": []
  }
 ],
 "metadata": {
  "kernelspec": {
   "display_name": "Python 3",
   "language": "python",
   "name": "python3"
  },
  "language_info": {
   "codemirror_mode": {
    "name": "ipython",
    "version": 3
   },
   "file_extension": ".py",
   "mimetype": "text/x-python",
   "name": "python",
   "nbconvert_exporter": "python",
   "pygments_lexer": "ipython3",
   "version": "3.7.10"
  },
  "toc": {
   "base_numbering": 1,
   "nav_menu": {},
   "number_sections": true,
   "sideBar": true,
   "skip_h1_title": false,
   "title_cell": "Table of Contents",
   "title_sidebar": "Contents",
   "toc_cell": false,
   "toc_position": {
    "height": "calc(100% - 180px)",
    "left": "10px",
    "top": "150px",
    "width": "178.275px"
   },
   "toc_section_display": true,
   "toc_window_display": true
  }
 },
 "nbformat": 4,
 "nbformat_minor": 5
}
