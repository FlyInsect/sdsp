{
 "cells": [
  {
   "cell_type": "markdown",
   "id": "cf117654",
   "metadata": {},
   "source": [
    "### Extract disease and symptom entries\n",
    "new version:\n",
    "terms need to exclude from disease:\n",
    "       C22 Animal disease\n",
    "       C23 all\n",
    "...symptom： \n",
    "        C23.888 Mesh_symptom.txt"
   ]
  },
  {
   "cell_type": "code",
   "execution_count": 1,
   "id": "976d82b2",
   "metadata": {},
   "outputs": [],
   "source": [
    "from tqdm import tqdm"
   ]
  },
  {
   "cell_type": "code",
   "execution_count": 55,
   "id": "dda19291",
   "metadata": {
    "scrolled": true
   },
   "outputs": [
    {
     "name": "stderr",
     "output_type": "stream",
     "text": [
      "100%|████████████████████████████████████████████████████████████████████████| 60666/60666 [00:00<00:00, 731462.45it/s]"
     ]
    },
    {
     "name": "stdout",
     "output_type": "stream",
     "text": [
      "Infections\tC01\n",
      "\n",
      "Neoplasms\tC04\n",
      "\n",
      "Musculoskeletal Diseases\tC05\n",
      "\n",
      "Digestive System Diseases\tC06\n",
      "\n",
      "Stomatognathic Diseases\tC07\n",
      "\n",
      "Respiratory Tract Diseases\tC08\n",
      "\n",
      "Otorhinolaryngologic Diseases\tC09\n",
      "\n",
      "Nervous System Diseases\tC10\n",
      "\n",
      "Eye Diseases\tC11\n",
      "\n",
      "Male Urogenital Diseases\tC12\n",
      "\n",
      "Female Urogenital Diseases and Pregnancy Complications\tC13\n",
      "\n",
      "Cardiovascular Diseases\tC14\n",
      "\n",
      "Hemic and Lymphatic Diseases\tC15\n",
      "\n",
      "Congenital, Hereditary, and Neonatal Diseases and Abnormalities\tC16\n",
      "\n",
      "Skin and Connective Tissue Diseases\tC17\n",
      "\n",
      "Nutritional and Metabolic Diseases\tC18\n",
      "\n",
      "Endocrine System Diseases\tC19\n",
      "\n",
      "Immune System Diseases\tC20\n",
      "\n",
      "Disorders of Environmental Origin\tC21\n",
      "\n",
      "Animal Diseases\tC22\n",
      "\n",
      "Pathological Conditions, Signs and Symptoms\tC23\n",
      "\n",
      "Occupational Diseases\tC24\n",
      "\n",
      "Chemically-Induced Disorders\tC25\n",
      "\n",
      "Wounds and Injuries\tC26\n",
      "\n"
     ]
    },
    {
     "name": "stderr",
     "output_type": "stream",
     "text": [
      "\n"
     ]
    }
   ],
   "source": [
    "\n",
    "fo = open(\"mtrees2020.txt\", \"r\")\n",
    "\n",
    "disease_file = open(\"Mesh_disease.txt\",\"w\")\n",
    "symptom_file = open(\"Mesh_symptom.txt\",\"w\")\n",
    "\n",
    "for line in tqdm(fo.readlines()):\n",
    "    temlist = line.split(\".\")\n",
    "    tem = temlist[0]\n",
    "    tem1 = \"\"\n",
    "\n",
    "    if len(temlist)==1 and tem[-4]==\"C\":\n",
    "        print(line)\n",
    "        disease_file.write(line)\n",
    "        continue\n",
    "        \n",
    "\n",
    "    if tem[-3]==\"C\":\n",
    "        if(len(temlist)>1):\n",
    "            tem1 = temlist[1]\n",
    "            \n",
    "\n",
    "        if str(tem[-3:])== \"C23\" and tem1==\"888\":\n",
    "            symptom_file.write(line)\n",
    "            \n",
    "\n",
    "        if str(tem[-3:]) in[\"C22\",\"C23\"]:\n",
    "            continue\n",
    "            \n",
    "        disease_file.write(line)\n",
    "    \n",
    "    \n",
    "\n",
    "fo.close()\n",
    "disease_file.close()\n",
    "symptom_file.close()"
   ]
  },
  {
   "cell_type": "markdown",
   "id": "8d4a05cb",
   "metadata": {},
   "source": [
    "### Disease entry deduplication\n",
    "10943--->4536"
   ]
  },
  {
   "cell_type": "code",
   "execution_count": 8,
   "id": "66e7631d",
   "metadata": {},
   "outputs": [],
   "source": [
    "import pandas as pd \n",
    "import numpy as np"
   ]
  },
  {
   "cell_type": "code",
   "execution_count": 56,
   "id": "d6042f11",
   "metadata": {},
   "outputs": [
    {
     "name": "stdout",
     "output_type": "stream",
     "text": [
      "(10943, 2)\n"
     ]
    },
    {
     "data": {
      "text/html": [
       "<div>\n",
       "<style scoped>\n",
       "    .dataframe tbody tr th:only-of-type {\n",
       "        vertical-align: middle;\n",
       "    }\n",
       "\n",
       "    .dataframe tbody tr th {\n",
       "        vertical-align: top;\n",
       "    }\n",
       "\n",
       "    .dataframe thead th {\n",
       "        text-align: right;\n",
       "    }\n",
       "</style>\n",
       "<table border=\"1\" class=\"dataframe\">\n",
       "  <thead>\n",
       "    <tr style=\"text-align: right;\">\n",
       "      <th></th>\n",
       "      <th>Mesh_dis_name</th>\n",
       "      <th>Mesh_id</th>\n",
       "    </tr>\n",
       "  </thead>\n",
       "  <tbody>\n",
       "    <tr>\n",
       "      <th>0</th>\n",
       "      <td>Infections</td>\n",
       "      <td>C01</td>\n",
       "    </tr>\n",
       "    <tr>\n",
       "      <th>1</th>\n",
       "      <td>Aneurysm, Infected</td>\n",
       "      <td>C01.069</td>\n",
       "    </tr>\n",
       "    <tr>\n",
       "      <th>2</th>\n",
       "      <td>Arthritis, Infectious</td>\n",
       "      <td>C01.100</td>\n",
       "    </tr>\n",
       "    <tr>\n",
       "      <th>3</th>\n",
       "      <td>Arthritis, Reactive</td>\n",
       "      <td>C01.100.500</td>\n",
       "    </tr>\n",
       "    <tr>\n",
       "      <th>4</th>\n",
       "      <td>Asymptomatic Infections</td>\n",
       "      <td>C01.125</td>\n",
       "    </tr>\n",
       "  </tbody>\n",
       "</table>\n",
       "</div>"
      ],
      "text/plain": [
       "             Mesh_dis_name      Mesh_id\n",
       "0               Infections          C01\n",
       "1       Aneurysm, Infected      C01.069\n",
       "2    Arthritis, Infectious      C01.100\n",
       "3      Arthritis, Reactive  C01.100.500\n",
       "4  Asymptomatic Infections      C01.125"
      ]
     },
     "execution_count": 56,
     "metadata": {},
     "output_type": "execute_result"
    }
   ],
   "source": [
    "dis = pd.read_csv(\"Mesh_disease.txt\",sep=\"\\t\",header=None)\n",
    "dis.columns=[\"Mesh_dis_name\",\"Mesh_id\"]\n",
    "print(dis.shape)\n",
    "dis.head()"
   ]
  },
  {
   "cell_type": "code",
   "execution_count": 57,
   "id": "e332bba5",
   "metadata": {},
   "outputs": [
    {
     "name": "stdout",
     "output_type": "stream",
     "text": [
      "(4536, 2)\n"
     ]
    },
    {
     "data": {
      "text/html": [
       "<div>\n",
       "<style scoped>\n",
       "    .dataframe tbody tr th:only-of-type {\n",
       "        vertical-align: middle;\n",
       "    }\n",
       "\n",
       "    .dataframe tbody tr th {\n",
       "        vertical-align: top;\n",
       "    }\n",
       "\n",
       "    .dataframe thead th {\n",
       "        text-align: right;\n",
       "    }\n",
       "</style>\n",
       "<table border=\"1\" class=\"dataframe\">\n",
       "  <thead>\n",
       "    <tr style=\"text-align: right;\">\n",
       "      <th></th>\n",
       "      <th>Mesh_dis_name</th>\n",
       "      <th>Mesh_id</th>\n",
       "    </tr>\n",
       "  </thead>\n",
       "  <tbody>\n",
       "    <tr>\n",
       "      <th>0</th>\n",
       "      <td>Infections</td>\n",
       "      <td>C01</td>\n",
       "    </tr>\n",
       "    <tr>\n",
       "      <th>1</th>\n",
       "      <td>Aneurysm, Infected</td>\n",
       "      <td>C01.069</td>\n",
       "    </tr>\n",
       "    <tr>\n",
       "      <th>2</th>\n",
       "      <td>Arthritis, Infectious</td>\n",
       "      <td>C01.100</td>\n",
       "    </tr>\n",
       "    <tr>\n",
       "      <th>3</th>\n",
       "      <td>Arthritis, Reactive</td>\n",
       "      <td>C01.100.500</td>\n",
       "    </tr>\n",
       "    <tr>\n",
       "      <th>4</th>\n",
       "      <td>Asymptomatic Infections</td>\n",
       "      <td>C01.125</td>\n",
       "    </tr>\n",
       "  </tbody>\n",
       "</table>\n",
       "</div>"
      ],
      "text/plain": [
       "             Mesh_dis_name      Mesh_id\n",
       "0               Infections          C01\n",
       "1       Aneurysm, Infected      C01.069\n",
       "2    Arthritis, Infectious      C01.100\n",
       "3      Arthritis, Reactive  C01.100.500\n",
       "4  Asymptomatic Infections      C01.125"
      ]
     },
     "execution_count": 57,
     "metadata": {},
     "output_type": "execute_result"
    }
   ],
   "source": [
    "dis_unique = dis.drop_duplicates(subset=\"Mesh_dis_name\",keep=\"first\") #Keep only the first occurrence of duplicates\n",
    "print(dis_unique.shape)\n",
    "dis_unique.head()"
   ]
  },
  {
   "cell_type": "code",
   "execution_count": 58,
   "id": "6524fb8e",
   "metadata": {},
   "outputs": [],
   "source": [
    "# dis_unique.to_csv(\"Mesh_disease_unique.csv\")"
   ]
  },
  {
   "cell_type": "markdown",
   "id": "f764df58",
   "metadata": {},
   "source": [
    "### Symptom entry deduplication"
   ]
  },
  {
   "cell_type": "code",
   "execution_count": 9,
   "id": "50f0a280",
   "metadata": {},
   "outputs": [
    {
     "name": "stdout",
     "output_type": "stream",
     "text": [
      "(405, 2)\n"
     ]
    },
    {
     "data": {
      "text/html": [
       "<div>\n",
       "<style scoped>\n",
       "    .dataframe tbody tr th:only-of-type {\n",
       "        vertical-align: middle;\n",
       "    }\n",
       "\n",
       "    .dataframe tbody tr th {\n",
       "        vertical-align: top;\n",
       "    }\n",
       "\n",
       "    .dataframe thead th {\n",
       "        text-align: right;\n",
       "    }\n",
       "</style>\n",
       "<table border=\"1\" class=\"dataframe\">\n",
       "  <thead>\n",
       "    <tr style=\"text-align: right;\">\n",
       "      <th></th>\n",
       "      <th>Mesh_sym_name</th>\n",
       "      <th>Mesh_id</th>\n",
       "    </tr>\n",
       "  </thead>\n",
       "  <tbody>\n",
       "    <tr>\n",
       "      <th>0</th>\n",
       "      <td>Aging, Premature</td>\n",
       "      <td>C23.888.069</td>\n",
       "    </tr>\n",
       "    <tr>\n",
       "      <th>1</th>\n",
       "      <td>Asthenia</td>\n",
       "      <td>C23.888.089</td>\n",
       "    </tr>\n",
       "    <tr>\n",
       "      <th>2</th>\n",
       "      <td>Body Temperature Changes</td>\n",
       "      <td>C23.888.119</td>\n",
       "    </tr>\n",
       "    <tr>\n",
       "      <th>3</th>\n",
       "      <td>Fever</td>\n",
       "      <td>C23.888.119.344</td>\n",
       "    </tr>\n",
       "    <tr>\n",
       "      <th>4</th>\n",
       "      <td>Fever of Unknown Origin</td>\n",
       "      <td>C23.888.119.344.345</td>\n",
       "    </tr>\n",
       "  </tbody>\n",
       "</table>\n",
       "</div>"
      ],
      "text/plain": [
       "              Mesh_sym_name              Mesh_id\n",
       "0          Aging, Premature          C23.888.069\n",
       "1                  Asthenia          C23.888.089\n",
       "2  Body Temperature Changes          C23.888.119\n",
       "3                     Fever      C23.888.119.344\n",
       "4   Fever of Unknown Origin  C23.888.119.344.345"
      ]
     },
     "execution_count": 9,
     "metadata": {},
     "output_type": "execute_result"
    }
   ],
   "source": [
    "sym = pd.read_csv(\"Mesh_symptom.txt\",sep=\"\\t\",header=None)\n",
    "sym.columns=[\"Mesh_sym_name\",\"Mesh_id\"]\n",
    "print(sym.shape)\n",
    "sym.head()"
   ]
  },
  {
   "cell_type": "code",
   "execution_count": 11,
   "id": "3512c789",
   "metadata": {},
   "outputs": [
    {
     "name": "stdout",
     "output_type": "stream",
     "text": [
      "(385, 2)\n"
     ]
    },
    {
     "data": {
      "text/html": [
       "<div>\n",
       "<style scoped>\n",
       "    .dataframe tbody tr th:only-of-type {\n",
       "        vertical-align: middle;\n",
       "    }\n",
       "\n",
       "    .dataframe tbody tr th {\n",
       "        vertical-align: top;\n",
       "    }\n",
       "\n",
       "    .dataframe thead th {\n",
       "        text-align: right;\n",
       "    }\n",
       "</style>\n",
       "<table border=\"1\" class=\"dataframe\">\n",
       "  <thead>\n",
       "    <tr style=\"text-align: right;\">\n",
       "      <th></th>\n",
       "      <th>Mesh_sym_name</th>\n",
       "      <th>Mesh_id</th>\n",
       "    </tr>\n",
       "  </thead>\n",
       "  <tbody>\n",
       "    <tr>\n",
       "      <th>400</th>\n",
       "      <td>Albuminuria</td>\n",
       "      <td>C23.888.942.750.269</td>\n",
       "    </tr>\n",
       "    <tr>\n",
       "      <th>401</th>\n",
       "      <td>Hemoglobinuria</td>\n",
       "      <td>C23.888.942.750.634</td>\n",
       "    </tr>\n",
       "    <tr>\n",
       "      <th>402</th>\n",
       "      <td>Urinoma</td>\n",
       "      <td>C23.888.942.900</td>\n",
       "    </tr>\n",
       "    <tr>\n",
       "      <th>403</th>\n",
       "      <td>Virilism</td>\n",
       "      <td>C23.888.971</td>\n",
       "    </tr>\n",
       "    <tr>\n",
       "      <th>404</th>\n",
       "      <td>Hirsutism</td>\n",
       "      <td>C23.888.971.468</td>\n",
       "    </tr>\n",
       "  </tbody>\n",
       "</table>\n",
       "</div>"
      ],
      "text/plain": [
       "      Mesh_sym_name              Mesh_id\n",
       "400     Albuminuria  C23.888.942.750.269\n",
       "401  Hemoglobinuria  C23.888.942.750.634\n",
       "402         Urinoma      C23.888.942.900\n",
       "403        Virilism          C23.888.971\n",
       "404       Hirsutism      C23.888.971.468"
      ]
     },
     "execution_count": 11,
     "metadata": {},
     "output_type": "execute_result"
    }
   ],
   "source": [
    "sym_unique = sym.drop_duplicates(subset=\"Mesh_sym_name\",keep=\"first\") \n",
    "print(sym_unique.shape)\n",
    "sym.tail()"
   ]
  },
  {
   "cell_type": "code",
   "execution_count": 12,
   "id": "53e674d9",
   "metadata": {},
   "outputs": [],
   "source": [
    "# sym_unique.to_csv(\"Mesh_symptom_unique.csv\")"
   ]
  },
  {
   "cell_type": "code",
   "execution_count": null,
   "id": "f4d9c194",
   "metadata": {},
   "outputs": [],
   "source": []
  }
 ],
 "metadata": {
  "kernelspec": {
   "display_name": "Python 3",
   "language": "python",
   "name": "python3"
  },
  "language_info": {
   "codemirror_mode": {
    "name": "ipython",
    "version": 3
   },
   "file_extension": ".py",
   "mimetype": "text/x-python",
   "name": "python",
   "nbconvert_exporter": "python",
   "pygments_lexer": "ipython3",
   "version": "3.7.10"
  },
  "toc": {
   "base_numbering": 1,
   "nav_menu": {},
   "number_sections": true,
   "sideBar": true,
   "skip_h1_title": false,
   "title_cell": "Table of Contents",
   "title_sidebar": "Contents",
   "toc_cell": false,
   "toc_position": {},
   "toc_section_display": true,
   "toc_window_display": true
  }
 },
 "nbformat": 4,
 "nbformat_minor": 5
}
