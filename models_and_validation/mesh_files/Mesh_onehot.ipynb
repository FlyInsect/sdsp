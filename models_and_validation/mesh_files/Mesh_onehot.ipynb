{
 "cells": [
  {
   "cell_type": "code",
   "execution_count": 1,
   "id": "38efd835",
   "metadata": {},
   "outputs": [],
   "source": [
    "import pandas as pd\n",
    "import numpy as np\n",
    "\n",
    "from sklearn.preprocessing import MultiLabelBinarizer"
   ]
  },
  {
   "cell_type": "markdown",
   "id": "a3044015",
   "metadata": {},
   "source": [
    "### extract all diseases 's multi_label"
   ]
  },
  {
   "cell_type": "code",
   "execution_count": 2,
   "id": "ecf60294",
   "metadata": {
    "scrolled": true
   },
   "outputs": [
    {
     "name": "stdout",
     "output_type": "stream",
     "text": [
      "<class 'dict'>\n",
      "['C10', 'C14']\n"
     ]
    }
   ],
   "source": [
    "import json\n",
    "f=open(\"dis_mesh.json\",\"r\")\n",
    "dict_data=list()\n",
    "\n",
    "for line in f:\n",
    "    dict_data.append(json.loads(line))\n",
    "f.close()\n",
    "\n",
    "print(type(dict_data[0]))\n",
    "print(dict_data[0][\"Stroke\"]) #data[0]-dict"
   ]
  },
  {
   "cell_type": "code",
   "execution_count": 13,
   "id": "0856759a",
   "metadata": {
    "scrolled": true
   },
   "outputs": [
    {
     "name": "stdout",
     "output_type": "stream",
     "text": [
      "4093 4093\n",
      "24\n"
     ]
    },
    {
     "data": {
      "text/plain": [
       "[{'C23'}, {'C10'}]"
      ]
     },
     "execution_count": 13,
     "metadata": {},
     "output_type": "execute_result"
    }
   ],
   "source": [
    "mul_labels =[] \n",
    "dis=[] \n",
    "\n",
    "classi = []\n",
    "\n",
    "for k, v in dict_data[0].items():\n",
    "    dis.append(k.lower())\n",
    "    #print(type(k),type(v)) str,list\n",
    "    mul_labels.append(set(v))\n",
    "    \n",
    "    for i in v:\n",
    "        classi.append(i)\n",
    "    \n",
    "print(len(mul_labels),len(dis))\n",
    "print(len(set(classi)))\n",
    "mul_labels[:2]"
   ]
  },
  {
   "cell_type": "code",
   "execution_count": 4,
   "id": "4b159470",
   "metadata": {},
   "outputs": [
    {
     "name": "stdout",
     "output_type": "stream",
     "text": [
      "24\n"
     ]
    },
    {
     "data": {
      "text/plain": [
       "array([0, 0, 0, 0, 0, 0, 0, 0, 0, 0, 0, 0, 0, 0, 0, 0, 0, 0, 0, 0, 1, 0,\n",
       "       0, 0])"
      ]
     },
     "execution_count": 4,
     "metadata": {},
     "output_type": "execute_result"
    }
   ],
   "source": [
    "mlb = MultiLabelBinarizer()\n",
    "label_array = mlb.fit_transform(mul_labels)\n",
    "\n",
    "print(len(label_array[0]))\n",
    "label_array[0]"
   ]
  },
  {
   "cell_type": "code",
   "execution_count": 6,
   "id": "fc798939",
   "metadata": {},
   "outputs": [
    {
     "data": {
      "text/plain": [
       "array([[0, 0, 0, ..., 0, 0, 0],\n",
       "       [0, 0, 0, ..., 0, 0, 0],\n",
       "       [0, 0, 0, ..., 0, 0, 0],\n",
       "       ...,\n",
       "       [1, 0, 0, ..., 0, 0, 0],\n",
       "       [0, 0, 0, ..., 0, 0, 0],\n",
       "       [0, 0, 0, ..., 0, 0, 0]])"
      ]
     },
     "execution_count": 6,
     "metadata": {},
     "output_type": "execute_result"
    }
   ],
   "source": [
    "label_array"
   ]
  },
  {
   "cell_type": "code",
   "execution_count": 61,
   "id": "549e5ba7",
   "metadata": {},
   "outputs": [],
   "source": [
    "# pd.DataFrame(label_array,index=dis).to_csv(\"Mesh_files/label_array.csv\")"
   ]
  },
  {
   "cell_type": "code",
   "execution_count": null,
   "id": "46f93450",
   "metadata": {},
   "outputs": [],
   "source": []
  },
  {
   "cell_type": "markdown",
   "id": "9fb2c036",
   "metadata": {},
   "source": [
    "### extract 264 diseases 's multi_label\n",
    "<font color=\"red\"> the left 2 disease label of 266 disease set as[0,...,0]</font>"
   ]
  },
  {
   "cell_type": "code",
   "execution_count": 56,
   "id": "e5175a02",
   "metadata": {},
   "outputs": [
    {
     "name": "stdout",
     "output_type": "stream",
     "text": [
      "39\n"
     ]
    }
   ],
   "source": [
    "for i in range(200):\n",
    "    if \"Abnormalities, Multiple\" == list(dict_data[0].keys())[i]:\n",
    "        print(i)"
   ]
  },
  {
   "cell_type": "code",
   "execution_count": 55,
   "id": "f1bca68c",
   "metadata": {},
   "outputs": [
    {
     "data": {
      "text/plain": [
       "['Postoperative Complications',\n",
       " 'Brain Diseases',\n",
       " 'Pain',\n",
       " 'Cerebral Infarction',\n",
       " 'Epilepsy',\n",
       " 'Hypertension',\n",
       " 'Brain Neoplasms',\n",
       " 'Multiple Sclerosis',\n",
       " 'Brain Injuries',\n",
       " 'Stroke']"
      ]
     },
     "execution_count": 55,
     "metadata": {},
     "output_type": "execute_result"
    }
   ],
   "source": [
    "list(dict_data[0].keys())[:10]"
   ]
  },
  {
   "cell_type": "code",
   "execution_count": null,
   "id": "8bae9406",
   "metadata": {},
   "outputs": [],
   "source": []
  }
 ],
 "metadata": {
  "kernelspec": {
   "display_name": "Python 3",
   "language": "python",
   "name": "python3"
  },
  "language_info": {
   "codemirror_mode": {
    "name": "ipython",
    "version": 3
   },
   "file_extension": ".py",
   "mimetype": "text/x-python",
   "name": "python",
   "nbconvert_exporter": "python",
   "pygments_lexer": "ipython3",
   "version": "3.7.10"
  },
  "toc": {
   "base_numbering": 1,
   "nav_menu": {},
   "number_sections": true,
   "sideBar": true,
   "skip_h1_title": false,
   "title_cell": "Table of Contents",
   "title_sidebar": "Contents",
   "toc_cell": false,
   "toc_position": {},
   "toc_section_display": true,
   "toc_window_display": true
  }
 },
 "nbformat": 4,
 "nbformat_minor": 5
}
