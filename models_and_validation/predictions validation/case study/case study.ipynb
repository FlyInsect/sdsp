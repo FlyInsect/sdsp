{
 "cells": [
  {
   "cell_type": "code",
   "execution_count": 1,
   "id": "9e828d45",
   "metadata": {},
   "outputs": [],
   "source": [
    "import pandas as pd\n",
    "import numpy as np\n",
    "from tqdm import tqdm"
   ]
  },
  {
   "cell_type": "code",
   "execution_count": 2,
   "id": "5bcbf91c",
   "metadata": {},
   "outputs": [
    {
     "name": "stdout",
     "output_type": "stream",
     "text": [
      "(4268, 385)\n"
     ]
    },
    {
     "data": {
      "text/html": [
       "<div>\n",
       "<style scoped>\n",
       "    .dataframe tbody tr th:only-of-type {\n",
       "        vertical-align: middle;\n",
       "    }\n",
       "\n",
       "    .dataframe tbody tr th {\n",
       "        vertical-align: top;\n",
       "    }\n",
       "\n",
       "    .dataframe thead th {\n",
       "        text-align: right;\n",
       "    }\n",
       "</style>\n",
       "<table border=\"1\" class=\"dataframe\">\n",
       "  <thead>\n",
       "    <tr style=\"text-align: right;\">\n",
       "      <th></th>\n",
       "      <th>Pediatric Obesity</th>\n",
       "      <th>Orthostatic Intolerance</th>\n",
       "      <th>Seizures</th>\n",
       "      <th>Muscle Weakness</th>\n",
       "      <th>Persistent Vegetative State</th>\n",
       "      <th>Chills</th>\n",
       "      <th>Sweating Sickness</th>\n",
       "      <th>Ataxia</th>\n",
       "      <th>Nocturia</th>\n",
       "      <th>Fetal Distress</th>\n",
       "      <th>...</th>\n",
       "      <th>Hypercalciuria</th>\n",
       "      <th>Chronic Pain</th>\n",
       "      <th>Hematemesis</th>\n",
       "      <th>Angina Pectoris</th>\n",
       "      <th>Vision, Low</th>\n",
       "      <th>Muscle Hypertonia</th>\n",
       "      <th>Hearing Loss, Functional</th>\n",
       "      <th>Breakthrough Pain</th>\n",
       "      <th>Mutism</th>\n",
       "      <th>Cerebrospinal Fluid Otorrhea</th>\n",
       "    </tr>\n",
       "  </thead>\n",
       "  <tbody>\n",
       "    <tr>\n",
       "      <th>Nevus, Intradermal</th>\n",
       "      <td>0.0</td>\n",
       "      <td>0.0</td>\n",
       "      <td>0.0</td>\n",
       "      <td>0.000000</td>\n",
       "      <td>0.0</td>\n",
       "      <td>0.0</td>\n",
       "      <td>0.0</td>\n",
       "      <td>0.0</td>\n",
       "      <td>0.0</td>\n",
       "      <td>0.0</td>\n",
       "      <td>...</td>\n",
       "      <td>0.0</td>\n",
       "      <td>0.000000</td>\n",
       "      <td>0.0</td>\n",
       "      <td>0.0</td>\n",
       "      <td>0.0</td>\n",
       "      <td>0.0</td>\n",
       "      <td>0.0</td>\n",
       "      <td>0.0</td>\n",
       "      <td>0.0</td>\n",
       "      <td>0.0</td>\n",
       "    </tr>\n",
       "    <tr>\n",
       "      <th>Superinfection</th>\n",
       "      <td>0.0</td>\n",
       "      <td>0.0</td>\n",
       "      <td>0.0</td>\n",
       "      <td>0.635781</td>\n",
       "      <td>0.0</td>\n",
       "      <td>0.0</td>\n",
       "      <td>0.0</td>\n",
       "      <td>0.0</td>\n",
       "      <td>0.0</td>\n",
       "      <td>0.0</td>\n",
       "      <td>...</td>\n",
       "      <td>0.0</td>\n",
       "      <td>1.309646</td>\n",
       "      <td>0.0</td>\n",
       "      <td>0.0</td>\n",
       "      <td>0.0</td>\n",
       "      <td>0.0</td>\n",
       "      <td>0.0</td>\n",
       "      <td>0.0</td>\n",
       "      <td>0.0</td>\n",
       "      <td>0.0</td>\n",
       "    </tr>\n",
       "  </tbody>\n",
       "</table>\n",
       "<p>2 rows × 385 columns</p>\n",
       "</div>"
      ],
      "text/plain": [
       "                    Pediatric Obesity  Orthostatic Intolerance  Seizures  \\\n",
       "Nevus, Intradermal                0.0                      0.0       0.0   \n",
       "Superinfection                    0.0                      0.0       0.0   \n",
       "\n",
       "                    Muscle Weakness  Persistent Vegetative State  Chills  \\\n",
       "Nevus, Intradermal         0.000000                          0.0     0.0   \n",
       "Superinfection             0.635781                          0.0     0.0   \n",
       "\n",
       "                    Sweating Sickness  Ataxia  Nocturia  Fetal Distress  ...  \\\n",
       "Nevus, Intradermal                0.0     0.0       0.0             0.0  ...   \n",
       "Superinfection                    0.0     0.0       0.0             0.0  ...   \n",
       "\n",
       "                    Hypercalciuria  Chronic Pain  Hematemesis  \\\n",
       "Nevus, Intradermal             0.0      0.000000          0.0   \n",
       "Superinfection                 0.0      1.309646          0.0   \n",
       "\n",
       "                    Angina Pectoris  Vision, Low  Muscle Hypertonia  \\\n",
       "Nevus, Intradermal              0.0          0.0                0.0   \n",
       "Superinfection                  0.0          0.0                0.0   \n",
       "\n",
       "                    Hearing Loss, Functional  Breakthrough Pain  Mutism  \\\n",
       "Nevus, Intradermal                       0.0                0.0     0.0   \n",
       "Superinfection                           0.0                0.0     0.0   \n",
       "\n",
       "                    Cerebrospinal Fluid Otorrhea  \n",
       "Nevus, Intradermal                           0.0  \n",
       "Superinfection                               0.0  \n",
       "\n",
       "[2 rows x 385 columns]"
      ]
     },
     "execution_count": 2,
     "metadata": {},
     "output_type": "execute_result"
    }
   ],
   "source": [
    "sym_fea = pd.read_csv(\"../../../../extract_pubmed/2020_TF-IDF_dropdup.csv\",index_col=0)\n",
    "print(sym_fea.shape)\n",
    "sym_fea[:2]"
   ]
  },
  {
   "cell_type": "code",
   "execution_count": 5,
   "id": "8ab635ee",
   "metadata": {},
   "outputs": [
    {
     "name": "stderr",
     "output_type": "stream",
     "text": [
      "E:\\Anaconda\\envs\\tf2\\lib\\site-packages\\numpy\\lib\\arraysetops.py:583: FutureWarning: elementwise comparison failed; returning scalar instead, but in the future will perform elementwise comparison\n",
      "  mask |= (ar1 == a)\n"
     ]
    }
   ],
   "source": [
    "predict_score = pd.read_csv(\"../../visualization/model_predictAll_result.csv\",index_col=0)"
   ]
  },
  {
   "cell_type": "markdown",
   "id": "4cdc3251",
   "metadata": {},
   "source": [
    "### case1 --Sepsis/Coronavirus Infections"
   ]
  },
  {
   "cell_type": "markdown",
   "id": "df105afa",
   "metadata": {},
   "source": [
    "#### sepsis"
   ]
  },
  {
   "cell_type": "code",
   "execution_count": 7,
   "id": "d38c0ff8",
   "metadata": {},
   "outputs": [
    {
     "data": {
      "text/plain": [
       "1536"
      ]
     },
     "execution_count": 7,
     "metadata": {},
     "output_type": "execute_result"
    }
   ],
   "source": [
    "list(sym_fea.index).index(\"Sepsis\")"
   ]
  },
  {
   "cell_type": "code",
   "execution_count": 11,
   "id": "87d249da",
   "metadata": {},
   "outputs": [
    {
     "name": "stdout",
     "output_type": "stream",
     "text": [
      "(4268, 1)\n"
     ]
    },
    {
     "data": {
      "text/html": [
       "<div>\n",
       "<style scoped>\n",
       "    .dataframe tbody tr th:only-of-type {\n",
       "        vertical-align: middle;\n",
       "    }\n",
       "\n",
       "    .dataframe tbody tr th {\n",
       "        vertical-align: top;\n",
       "    }\n",
       "\n",
       "    .dataframe thead th {\n",
       "        text-align: right;\n",
       "    }\n",
       "</style>\n",
       "<table border=\"1\" class=\"dataframe\">\n",
       "  <thead>\n",
       "    <tr style=\"text-align: right;\">\n",
       "      <th></th>\n",
       "      <th>predict_score</th>\n",
       "    </tr>\n",
       "  </thead>\n",
       "  <tbody>\n",
       "    <tr>\n",
       "      <th>Nevus, Intradermal</th>\n",
       "      <td>0.003913</td>\n",
       "    </tr>\n",
       "    <tr>\n",
       "      <th>Superinfection</th>\n",
       "      <td>0.555936</td>\n",
       "    </tr>\n",
       "    <tr>\n",
       "      <th>Coloboma</th>\n",
       "      <td>0.000785</td>\n",
       "    </tr>\n",
       "    <tr>\n",
       "      <th>Abnormalities, Radiation-Induced</th>\n",
       "      <td>0.003942</td>\n",
       "    </tr>\n",
       "    <tr>\n",
       "      <th>Bronchial Hyperreactivity</th>\n",
       "      <td>0.066401</td>\n",
       "    </tr>\n",
       "  </tbody>\n",
       "</table>\n",
       "</div>"
      ],
      "text/plain": [
       "                                  predict_score\n",
       "Nevus, Intradermal                     0.003913\n",
       "Superinfection                         0.555936\n",
       "Coloboma                               0.000785\n",
       "Abnormalities, Radiation-Induced       0.003942\n",
       "Bronchial Hyperreactivity              0.066401"
      ]
     },
     "execution_count": 11,
     "metadata": {},
     "output_type": "execute_result"
    }
   ],
   "source": [
    "sepsis_to_others_score = predict_score.loc[4268*1536:4268*1537-1]\n",
    "sepsis_to_others_score.index = sym_fea.index\n",
    "print(sepsis_to_others_score.shape)\n",
    "sepsis_to_others_score.head()"
   ]
  },
  {
   "cell_type": "code",
   "execution_count": 19,
   "id": "e62ac178",
   "metadata": {
    "scrolled": true
   },
   "outputs": [
    {
     "data": {
      "text/html": [
       "<div>\n",
       "<style scoped>\n",
       "    .dataframe tbody tr th:only-of-type {\n",
       "        vertical-align: middle;\n",
       "    }\n",
       "\n",
       "    .dataframe tbody tr th {\n",
       "        vertical-align: top;\n",
       "    }\n",
       "\n",
       "    .dataframe thead th {\n",
       "        text-align: right;\n",
       "    }\n",
       "</style>\n",
       "<table border=\"1\" class=\"dataframe\">\n",
       "  <thead>\n",
       "    <tr style=\"text-align: right;\">\n",
       "      <th></th>\n",
       "      <th>predict_score</th>\n",
       "    </tr>\n",
       "  </thead>\n",
       "  <tbody>\n",
       "    <tr>\n",
       "      <th>Eosinophilic Granuloma</th>\n",
       "      <td>0.995000</td>\n",
       "    </tr>\n",
       "    <tr>\n",
       "      <th>Bisphosphonate-Associated Osteonecrosis of the Jaw</th>\n",
       "      <td>0.994714</td>\n",
       "    </tr>\n",
       "    <tr>\n",
       "      <th>Hematuria</th>\n",
       "      <td>0.993927</td>\n",
       "    </tr>\n",
       "    <tr>\n",
       "      <th>Granuloma, Giant Cell</th>\n",
       "      <td>0.992790</td>\n",
       "    </tr>\n",
       "    <tr>\n",
       "      <th>Empyema, Pleural</th>\n",
       "      <td>0.992364</td>\n",
       "    </tr>\n",
       "  </tbody>\n",
       "</table>\n",
       "</div>"
      ],
      "text/plain": [
       "                                                    predict_score\n",
       "Eosinophilic Granuloma                                   0.995000\n",
       "Bisphosphonate-Associated Osteonecrosis of the Jaw       0.994714\n",
       "Hematuria                                                0.993927\n",
       "Granuloma, Giant Cell                                    0.992790\n",
       "Empyema, Pleural                                         0.992364"
      ]
     },
     "execution_count": 19,
     "metadata": {},
     "output_type": "execute_result"
    }
   ],
   "source": [
    "sepsis_to_others_score.sort_values(by=\"predict_score\",ascending=False)\n",
    "sepsis_to_others_score.head()"
   ]
  },
  {
   "cell_type": "code",
   "execution_count": 20,
   "id": "7c8796d5",
   "metadata": {},
   "outputs": [],
   "source": [
    "# sepsis_to_others_score.to_csv(\"sepsis_to_otherDiseases_score.csv\")"
   ]
  },
  {
   "cell_type": "markdown",
   "id": "12fd1acf",
   "metadata": {},
   "source": [
    "#### Coronavirus Infections"
   ]
  },
  {
   "cell_type": "code",
   "execution_count": 6,
   "id": "a4760b81",
   "metadata": {
    "scrolled": true
   },
   "outputs": [
    {
     "name": "stdout",
     "output_type": "stream",
     "text": [
      "599\n",
      "(4268, 1)\n"
     ]
    },
    {
     "data": {
      "text/html": [
       "<div>\n",
       "<style scoped>\n",
       "    .dataframe tbody tr th:only-of-type {\n",
       "        vertical-align: middle;\n",
       "    }\n",
       "\n",
       "    .dataframe tbody tr th {\n",
       "        vertical-align: top;\n",
       "    }\n",
       "\n",
       "    .dataframe thead th {\n",
       "        text-align: right;\n",
       "    }\n",
       "</style>\n",
       "<table border=\"1\" class=\"dataframe\">\n",
       "  <thead>\n",
       "    <tr style=\"text-align: right;\">\n",
       "      <th></th>\n",
       "      <th>predict_score</th>\n",
       "    </tr>\n",
       "  </thead>\n",
       "  <tbody>\n",
       "    <tr>\n",
       "      <th>Nevus, Intradermal</th>\n",
       "      <td>0.014005</td>\n",
       "    </tr>\n",
       "    <tr>\n",
       "      <th>Superinfection</th>\n",
       "      <td>0.941535</td>\n",
       "    </tr>\n",
       "    <tr>\n",
       "      <th>Coloboma</th>\n",
       "      <td>0.000302</td>\n",
       "    </tr>\n",
       "    <tr>\n",
       "      <th>Abnormalities, Radiation-Induced</th>\n",
       "      <td>0.008768</td>\n",
       "    </tr>\n",
       "    <tr>\n",
       "      <th>Bronchial Hyperreactivity</th>\n",
       "      <td>0.304016</td>\n",
       "    </tr>\n",
       "  </tbody>\n",
       "</table>\n",
       "</div>"
      ],
      "text/plain": [
       "                                  predict_score\n",
       "Nevus, Intradermal                     0.014005\n",
       "Superinfection                         0.941535\n",
       "Coloboma                               0.000302\n",
       "Abnormalities, Radiation-Induced       0.008768\n",
       "Bronchial Hyperreactivity              0.304016"
      ]
     },
     "execution_count": 6,
     "metadata": {},
     "output_type": "execute_result"
    }
   ],
   "source": [
    "print(list(sym_fea.index).index(\"Coronavirus Infections\"))\n",
    "ci_to_others_score = predict_score.loc[4268*599:4268*600-1]\n",
    "ci_to_others_score.index = sym_fea.index\n",
    "print(ci_to_others_score.shape)\n",
    "ci_to_others_score.head()"
   ]
  },
  {
   "cell_type": "code",
   "execution_count": 8,
   "id": "55724510",
   "metadata": {},
   "outputs": [
    {
     "name": "stderr",
     "output_type": "stream",
     "text": [
      "E:\\Anaconda\\envs\\tf2\\lib\\site-packages\\ipykernel_launcher.py:1: SettingWithCopyWarning: \n",
      "A value is trying to be set on a copy of a slice from a DataFrame\n",
      "\n",
      "See the caveats in the documentation: https://pandas.pydata.org/pandas-docs/stable/user_guide/indexing.html#returning-a-view-versus-a-copy\n",
      "  \"\"\"Entry point for launching an IPython kernel.\n"
     ]
    },
    {
     "data": {
      "text/html": [
       "<div>\n",
       "<style scoped>\n",
       "    .dataframe tbody tr th:only-of-type {\n",
       "        vertical-align: middle;\n",
       "    }\n",
       "\n",
       "    .dataframe tbody tr th {\n",
       "        vertical-align: top;\n",
       "    }\n",
       "\n",
       "    .dataframe thead th {\n",
       "        text-align: right;\n",
       "    }\n",
       "</style>\n",
       "<table border=\"1\" class=\"dataframe\">\n",
       "  <thead>\n",
       "    <tr style=\"text-align: right;\">\n",
       "      <th></th>\n",
       "      <th>predict_score</th>\n",
       "    </tr>\n",
       "  </thead>\n",
       "  <tbody>\n",
       "    <tr>\n",
       "      <th>AIDS-Associated Nephropathy</th>\n",
       "      <td>0.994733</td>\n",
       "    </tr>\n",
       "    <tr>\n",
       "      <th>Empyema, Pleural</th>\n",
       "      <td>0.992308</td>\n",
       "    </tr>\n",
       "    <tr>\n",
       "      <th>Herpes Labialis</th>\n",
       "      <td>0.991370</td>\n",
       "    </tr>\n",
       "    <tr>\n",
       "      <th>Empyema, Tuberculous</th>\n",
       "      <td>0.989053</td>\n",
       "    </tr>\n",
       "    <tr>\n",
       "      <th>Granuloma, Giant Cell</th>\n",
       "      <td>0.984989</td>\n",
       "    </tr>\n",
       "  </tbody>\n",
       "</table>\n",
       "</div>"
      ],
      "text/plain": [
       "                             predict_score\n",
       "AIDS-Associated Nephropathy       0.994733\n",
       "Empyema, Pleural                  0.992308\n",
       "Herpes Labialis                   0.991370\n",
       "Empyema, Tuberculous              0.989053\n",
       "Granuloma, Giant Cell             0.984989"
      ]
     },
     "execution_count": 8,
     "metadata": {},
     "output_type": "execute_result"
    }
   ],
   "source": [
    "ci_to_others_score.sort_values(by=\"predict_score\",ascending=False,inplace=True)\n",
    "# ci_to_others_score.to_csv(\"CoronavirusInfections_to_otherDiseases_score.csv\")\n",
    "ci_to_others_score.head()"
   ]
  },
  {
   "cell_type": "markdown",
   "id": "a5eb9a7a",
   "metadata": {},
   "source": [
    "### Nutrition Disorders"
   ]
  },
  {
   "cell_type": "code",
   "execution_count": 17,
   "id": "61196193",
   "metadata": {
    "scrolled": true
   },
   "outputs": [
    {
     "name": "stdout",
     "output_type": "stream",
     "text": [
      "1591\n",
      "(4268, 1)\n"
     ]
    },
    {
     "data": {
      "text/html": [
       "<div>\n",
       "<style scoped>\n",
       "    .dataframe tbody tr th:only-of-type {\n",
       "        vertical-align: middle;\n",
       "    }\n",
       "\n",
       "    .dataframe tbody tr th {\n",
       "        vertical-align: top;\n",
       "    }\n",
       "\n",
       "    .dataframe thead th {\n",
       "        text-align: right;\n",
       "    }\n",
       "</style>\n",
       "<table border=\"1\" class=\"dataframe\">\n",
       "  <thead>\n",
       "    <tr style=\"text-align: right;\">\n",
       "      <th></th>\n",
       "      <th>predict_score</th>\n",
       "    </tr>\n",
       "  </thead>\n",
       "  <tbody>\n",
       "    <tr>\n",
       "      <th>Nevus, Intradermal</th>\n",
       "      <td>NaN</td>\n",
       "    </tr>\n",
       "    <tr>\n",
       "      <th>Superinfection</th>\n",
       "      <td>NaN</td>\n",
       "    </tr>\n",
       "    <tr>\n",
       "      <th>Coloboma</th>\n",
       "      <td>NaN</td>\n",
       "    </tr>\n",
       "    <tr>\n",
       "      <th>Abnormalities, Radiation-Induced</th>\n",
       "      <td>NaN</td>\n",
       "    </tr>\n",
       "    <tr>\n",
       "      <th>Bronchial Hyperreactivity</th>\n",
       "      <td>NaN</td>\n",
       "    </tr>\n",
       "  </tbody>\n",
       "</table>\n",
       "</div>"
      ],
      "text/plain": [
       "                                  predict_score\n",
       "Nevus, Intradermal                          NaN\n",
       "Superinfection                              NaN\n",
       "Coloboma                                    NaN\n",
       "Abnormalities, Radiation-Induced            NaN\n",
       "Bronchial Hyperreactivity                   NaN"
      ]
     },
     "execution_count": 17,
     "metadata": {},
     "output_type": "execute_result"
    }
   ],
   "source": [
    "print(list(sym_fea.index).index(\"Nutrition Disorders\"))\n",
    "nd_to_others_score = predict_score.loc[4268*1591:4268*1592-1]\n",
    "nd_to_others_score.index = sym_fea.index\n",
    "print(nd_to_others_score.shape)\n",
    "nd_to_others_score.head()"
   ]
  },
  {
   "cell_type": "code",
   "execution_count": 11,
   "id": "a8222dde",
   "metadata": {},
   "outputs": [
    {
     "name": "stderr",
     "output_type": "stream",
     "text": [
      "E:\\Anaconda\\envs\\tf2\\lib\\site-packages\\ipykernel_launcher.py:1: SettingWithCopyWarning: \n",
      "A value is trying to be set on a copy of a slice from a DataFrame\n",
      "\n",
      "See the caveats in the documentation: https://pandas.pydata.org/pandas-docs/stable/user_guide/indexing.html#returning-a-view-versus-a-copy\n",
      "  \"\"\"Entry point for launching an IPython kernel.\n"
     ]
    },
    {
     "data": {
      "text/html": [
       "<div>\n",
       "<style scoped>\n",
       "    .dataframe tbody tr th:only-of-type {\n",
       "        vertical-align: middle;\n",
       "    }\n",
       "\n",
       "    .dataframe tbody tr th {\n",
       "        vertical-align: top;\n",
       "    }\n",
       "\n",
       "    .dataframe thead th {\n",
       "        text-align: right;\n",
       "    }\n",
       "</style>\n",
       "<table border=\"1\" class=\"dataframe\">\n",
       "  <thead>\n",
       "    <tr style=\"text-align: right;\">\n",
       "      <th></th>\n",
       "      <th>predict_score</th>\n",
       "    </tr>\n",
       "  </thead>\n",
       "  <tbody>\n",
       "    <tr>\n",
       "      <th>Nevus, Intradermal</th>\n",
       "      <td>NaN</td>\n",
       "    </tr>\n",
       "    <tr>\n",
       "      <th>Superinfection</th>\n",
       "      <td>NaN</td>\n",
       "    </tr>\n",
       "    <tr>\n",
       "      <th>Coloboma</th>\n",
       "      <td>NaN</td>\n",
       "    </tr>\n",
       "    <tr>\n",
       "      <th>Abnormalities, Radiation-Induced</th>\n",
       "      <td>NaN</td>\n",
       "    </tr>\n",
       "    <tr>\n",
       "      <th>Bronchial Hyperreactivity</th>\n",
       "      <td>NaN</td>\n",
       "    </tr>\n",
       "  </tbody>\n",
       "</table>\n",
       "</div>"
      ],
      "text/plain": [
       "                                  predict_score\n",
       "Nevus, Intradermal                          NaN\n",
       "Superinfection                              NaN\n",
       "Coloboma                                    NaN\n",
       "Abnormalities, Radiation-Induced            NaN\n",
       "Bronchial Hyperreactivity                   NaN"
      ]
     },
     "execution_count": 11,
     "metadata": {},
     "output_type": "execute_result"
    }
   ],
   "source": [
    "nd_to_others_score.sort_values(by=\"predict_score\",ascending=False,inplace=True)\n",
    "# nd_to_others_score.to_csv(\"NutritionDisorders_to_otherDiseases_score.csv\")\n",
    "nd_to_others_score.head()"
   ]
  },
  {
   "cell_type": "markdown",
   "id": "f9cf3e35",
   "metadata": {},
   "source": [
    "### case2 --- disease pairs from comorbidity"
   ]
  },
  {
   "cell_type": "code",
   "execution_count": 7,
   "id": "ebb337e7",
   "metadata": {},
   "outputs": [
    {
     "name": "stdout",
     "output_type": "stream",
     "text": [
      "348\n",
      "2052\n"
     ]
    }
   ],
   "source": [
    "print(list(sym_fea.index).index(\"Diabetes Mellitus, Type 2\"))\n",
    "print(list(sym_fea.index).index(\"Diabetes Mellitus, Type 1\"))"
   ]
  },
  {
   "cell_type": "code",
   "execution_count": 28,
   "id": "d97c0910",
   "metadata": {},
   "outputs": [
    {
     "data": {
      "text/plain": [
       "predict_score    0.897585\n",
       "Name: 1487316, dtype: float64"
      ]
     },
     "execution_count": 28,
     "metadata": {},
     "output_type": "execute_result"
    }
   ],
   "source": [
    "predict_score.loc[4268*348+2052]"
   ]
  },
  {
   "cell_type": "code",
   "execution_count": 29,
   "id": "0a0b7abd",
   "metadata": {},
   "outputs": [
    {
     "data": {
      "text/plain": [
       "predict_score    0.757827\n",
       "Name: 8758284, dtype: float64"
      ]
     },
     "execution_count": 29,
     "metadata": {},
     "output_type": "execute_result"
    }
   ],
   "source": [
    "predict_score.loc[4268*2052+348]"
   ]
  },
  {
   "cell_type": "code",
   "execution_count": 15,
   "id": "ac061244",
   "metadata": {},
   "outputs": [
    {
     "name": "stdout",
     "output_type": "stream",
     "text": [
      "4075\n"
     ]
    }
   ],
   "source": [
    "print(list(sym_fea.index).index(\"Kidney Failure, Chronic\"))"
   ]
  },
  {
   "cell_type": "code",
   "execution_count": 17,
   "id": "2a9841be",
   "metadata": {},
   "outputs": [
    {
     "name": "stdout",
     "output_type": "stream",
     "text": [
      "(152, 3)\n"
     ]
    },
    {
     "data": {
      "text/html": [
       "<div>\n",
       "<style scoped>\n",
       "    .dataframe tbody tr th:only-of-type {\n",
       "        vertical-align: middle;\n",
       "    }\n",
       "\n",
       "    .dataframe tbody tr th {\n",
       "        vertical-align: top;\n",
       "    }\n",
       "\n",
       "    .dataframe thead th {\n",
       "        text-align: right;\n",
       "    }\n",
       "</style>\n",
       "<table border=\"1\" class=\"dataframe\">\n",
       "  <thead>\n",
       "    <tr style=\"text-align: right;\">\n",
       "      <th></th>\n",
       "      <th>disA</th>\n",
       "      <th>disB</th>\n",
       "      <th>RR</th>\n",
       "    </tr>\n",
       "  </thead>\n",
       "  <tbody>\n",
       "    <tr>\n",
       "      <th>0</th>\n",
       "      <td>Diabetes Mellitus, Type 2</td>\n",
       "      <td>Diabetes Mellitus, Type 1</td>\n",
       "      <td>6.086008</td>\n",
       "    </tr>\n",
       "    <tr>\n",
       "      <th>1</th>\n",
       "      <td>Diabetes Mellitus, Type 2</td>\n",
       "      <td>Kidney Failure, Chronic</td>\n",
       "      <td>2.442088</td>\n",
       "    </tr>\n",
       "    <tr>\n",
       "      <th>2</th>\n",
       "      <td>Essential Hypertension</td>\n",
       "      <td>Kidney Failure, Chronic</td>\n",
       "      <td>1.641585</td>\n",
       "    </tr>\n",
       "  </tbody>\n",
       "</table>\n",
       "</div>"
      ],
      "text/plain": [
       "                        disA                       disB        RR\n",
       "0  Diabetes Mellitus, Type 2  Diabetes Mellitus, Type 1  6.086008\n",
       "1  Diabetes Mellitus, Type 2    Kidney Failure, Chronic  2.442088\n",
       "2     Essential Hypertension    Kidney Failure, Chronic  1.641585"
      ]
     },
     "execution_count": 17,
     "metadata": {},
     "output_type": "execute_result"
    }
   ],
   "source": [
    "trajectory = pd.read_csv(\"../disease trajectory/trajectory_after_idtrans.csv\",index_col=0)\n",
    "print(trajectory.shape)\n",
    "trajectory[:3]"
   ]
  },
  {
   "cell_type": "code",
   "execution_count": 19,
   "id": "a1b8a204",
   "metadata": {},
   "outputs": [
    {
     "data": {
      "text/html": [
       "<div>\n",
       "<style scoped>\n",
       "    .dataframe tbody tr th:only-of-type {\n",
       "        vertical-align: middle;\n",
       "    }\n",
       "\n",
       "    .dataframe tbody tr th {\n",
       "        vertical-align: top;\n",
       "    }\n",
       "\n",
       "    .dataframe thead th {\n",
       "        text-align: right;\n",
       "    }\n",
       "</style>\n",
       "<table border=\"1\" class=\"dataframe\">\n",
       "  <thead>\n",
       "    <tr style=\"text-align: right;\">\n",
       "      <th></th>\n",
       "      <th>disA</th>\n",
       "      <th>disB</th>\n",
       "      <th>RR</th>\n",
       "    </tr>\n",
       "  </thead>\n",
       "  <tbody>\n",
       "    <tr>\n",
       "      <th>73</th>\n",
       "      <td>Myelodysplastic Syndromes</td>\n",
       "      <td>Leukemia, Myeloid</td>\n",
       "      <td>42.357861</td>\n",
       "    </tr>\n",
       "    <tr>\n",
       "      <th>119</th>\n",
       "      <td>Leukemia, Lymphoid</td>\n",
       "      <td>Anemia, Hemolytic</td>\n",
       "      <td>18.565025</td>\n",
       "    </tr>\n",
       "    <tr>\n",
       "      <th>81</th>\n",
       "      <td>Tonsillar Neoplasms</td>\n",
       "      <td>Dental Caries</td>\n",
       "      <td>17.830967</td>\n",
       "    </tr>\n",
       "    <tr>\n",
       "      <th>24</th>\n",
       "      <td>Asthma</td>\n",
       "      <td>Status Asthmaticus</td>\n",
       "      <td>17.176378</td>\n",
       "    </tr>\n",
       "    <tr>\n",
       "      <th>52</th>\n",
       "      <td>Leukemia, Lymphoid</td>\n",
       "      <td>Herpes Zoster</td>\n",
       "      <td>16.971138</td>\n",
       "    </tr>\n",
       "    <tr>\n",
       "      <th>19</th>\n",
       "      <td>Kidney Failure, Chronic</td>\n",
       "      <td>Peritonitis</td>\n",
       "      <td>12.568475</td>\n",
       "    </tr>\n",
       "    <tr>\n",
       "      <th>104</th>\n",
       "      <td>Lymphoma, Follicular</td>\n",
       "      <td>Herpes Zoster</td>\n",
       "      <td>12.499761</td>\n",
       "    </tr>\n",
       "    <tr>\n",
       "      <th>12</th>\n",
       "      <td>Diabetes Mellitus, Type 1</td>\n",
       "      <td>Diabetes Mellitus</td>\n",
       "      <td>12.281802</td>\n",
       "    </tr>\n",
       "    <tr>\n",
       "      <th>69</th>\n",
       "      <td>Renal Insufficiency</td>\n",
       "      <td>Peritonitis</td>\n",
       "      <td>11.281845</td>\n",
       "    </tr>\n",
       "    <tr>\n",
       "      <th>57</th>\n",
       "      <td>Laryngeal Neoplasms</td>\n",
       "      <td>Dental Caries</td>\n",
       "      <td>9.420489</td>\n",
       "    </tr>\n",
       "  </tbody>\n",
       "</table>\n",
       "</div>"
      ],
      "text/plain": [
       "                          disA                disB         RR\n",
       "73   Myelodysplastic Syndromes   Leukemia, Myeloid  42.357861\n",
       "119         Leukemia, Lymphoid   Anemia, Hemolytic  18.565025\n",
       "81         Tonsillar Neoplasms       Dental Caries  17.830967\n",
       "24                      Asthma  Status Asthmaticus  17.176378\n",
       "52          Leukemia, Lymphoid       Herpes Zoster  16.971138\n",
       "19     Kidney Failure, Chronic         Peritonitis  12.568475\n",
       "104       Lymphoma, Follicular       Herpes Zoster  12.499761\n",
       "12   Diabetes Mellitus, Type 1   Diabetes Mellitus  12.281802\n",
       "69         Renal Insufficiency         Peritonitis  11.281845\n",
       "57         Laryngeal Neoplasms       Dental Caries   9.420489"
      ]
     },
     "execution_count": 19,
     "metadata": {},
     "output_type": "execute_result"
    }
   ],
   "source": [
    "trajectory.sort_values(by=\"RR\",inplace=True,ascending=False)\n",
    "trajectory[:10]"
   ]
  },
  {
   "cell_type": "code",
   "execution_count": 20,
   "id": "4d6e42ac",
   "metadata": {},
   "outputs": [],
   "source": [
    "# trajectory[:10].to_csv(\"trajectoryRR_top10\")"
   ]
  },
  {
   "cell_type": "code",
   "execution_count": 60,
   "id": "d902646e",
   "metadata": {},
   "outputs": [
    {
     "name": "stderr",
     "output_type": "stream",
     "text": [
      "100%|█████████████████████████████████████████████████████████████████████████████████| 30/30 [00:00<00:00, 234.47it/s]"
     ]
    },
    {
     "name": "stdout",
     "output_type": "stream",
     "text": [
      "(30, 5)\n"
     ]
    },
    {
     "name": "stderr",
     "output_type": "stream",
     "text": [
      "\n"
     ]
    },
    {
     "data": {
      "text/html": [
       "<div>\n",
       "<style scoped>\n",
       "    .dataframe tbody tr th:only-of-type {\n",
       "        vertical-align: middle;\n",
       "    }\n",
       "\n",
       "    .dataframe tbody tr th {\n",
       "        vertical-align: top;\n",
       "    }\n",
       "\n",
       "    .dataframe thead th {\n",
       "        text-align: right;\n",
       "    }\n",
       "</style>\n",
       "<table border=\"1\" class=\"dataframe\">\n",
       "  <thead>\n",
       "    <tr style=\"text-align: right;\">\n",
       "      <th></th>\n",
       "      <th>disA</th>\n",
       "      <th>disB</th>\n",
       "      <th>scoreAB</th>\n",
       "      <th>scoreBA</th>\n",
       "      <th>aveScore</th>\n",
       "    </tr>\n",
       "  </thead>\n",
       "  <tbody>\n",
       "    <tr>\n",
       "      <th>0</th>\n",
       "      <td>Myelodysplastic Syndromes</td>\n",
       "      <td>Leukemia, Myeloid</td>\n",
       "      <td>0.743329</td>\n",
       "      <td>0.247336</td>\n",
       "      <td>0.495332</td>\n",
       "    </tr>\n",
       "    <tr>\n",
       "      <th>1</th>\n",
       "      <td>Leukemia, Lymphoid</td>\n",
       "      <td>Anemia, Hemolytic</td>\n",
       "      <td>0.970010</td>\n",
       "      <td>0.796378</td>\n",
       "      <td>0.883194</td>\n",
       "    </tr>\n",
       "    <tr>\n",
       "      <th>2</th>\n",
       "      <td>Tonsillar Neoplasms</td>\n",
       "      <td>Dental Caries</td>\n",
       "      <td>0.961520</td>\n",
       "      <td>0.693401</td>\n",
       "      <td>0.827460</td>\n",
       "    </tr>\n",
       "    <tr>\n",
       "      <th>3</th>\n",
       "      <td>Asthma</td>\n",
       "      <td>Status Asthmaticus</td>\n",
       "      <td>0.931600</td>\n",
       "      <td>0.934386</td>\n",
       "      <td>0.932993</td>\n",
       "    </tr>\n",
       "    <tr>\n",
       "      <th>4</th>\n",
       "      <td>Leukemia, Lymphoid</td>\n",
       "      <td>Herpes Zoster</td>\n",
       "      <td>0.004160</td>\n",
       "      <td>0.014376</td>\n",
       "      <td>0.009268</td>\n",
       "    </tr>\n",
       "    <tr>\n",
       "      <th>5</th>\n",
       "      <td>Kidney Failure, Chronic</td>\n",
       "      <td>Peritonitis</td>\n",
       "      <td>0.735383</td>\n",
       "      <td>0.783018</td>\n",
       "      <td>0.759200</td>\n",
       "    </tr>\n",
       "    <tr>\n",
       "      <th>6</th>\n",
       "      <td>Lymphoma, Follicular</td>\n",
       "      <td>Herpes Zoster</td>\n",
       "      <td>0.048649</td>\n",
       "      <td>0.090692</td>\n",
       "      <td>0.069671</td>\n",
       "    </tr>\n",
       "    <tr>\n",
       "      <th>7</th>\n",
       "      <td>Diabetes Mellitus, Type 1</td>\n",
       "      <td>Diabetes Mellitus</td>\n",
       "      <td>0.887563</td>\n",
       "      <td>0.890264</td>\n",
       "      <td>0.888914</td>\n",
       "    </tr>\n",
       "    <tr>\n",
       "      <th>8</th>\n",
       "      <td>Renal Insufficiency</td>\n",
       "      <td>Peritonitis</td>\n",
       "      <td>0.712544</td>\n",
       "      <td>0.768649</td>\n",
       "      <td>0.740596</td>\n",
       "    </tr>\n",
       "    <tr>\n",
       "      <th>9</th>\n",
       "      <td>Laryngeal Neoplasms</td>\n",
       "      <td>Dental Caries</td>\n",
       "      <td>0.948467</td>\n",
       "      <td>0.800699</td>\n",
       "      <td>0.874583</td>\n",
       "    </tr>\n",
       "    <tr>\n",
       "      <th>10</th>\n",
       "      <td>Liver Diseases, Alcoholic</td>\n",
       "      <td>Peritonitis</td>\n",
       "      <td>0.270367</td>\n",
       "      <td>0.157745</td>\n",
       "      <td>0.214056</td>\n",
       "    </tr>\n",
       "    <tr>\n",
       "      <th>11</th>\n",
       "      <td>Asthma</td>\n",
       "      <td>Bronchiectasis</td>\n",
       "      <td>0.902135</td>\n",
       "      <td>0.796092</td>\n",
       "      <td>0.849114</td>\n",
       "    </tr>\n",
       "    <tr>\n",
       "      <th>12</th>\n",
       "      <td>Diabetes Mellitus, Type 2</td>\n",
       "      <td>Diabetes Mellitus</td>\n",
       "      <td>0.851596</td>\n",
       "      <td>0.837264</td>\n",
       "      <td>0.844430</td>\n",
       "    </tr>\n",
       "    <tr>\n",
       "      <th>13</th>\n",
       "      <td>Multiple Sclerosis</td>\n",
       "      <td>Trigeminal Nerve Diseases</td>\n",
       "      <td>0.906840</td>\n",
       "      <td>0.958855</td>\n",
       "      <td>0.932848</td>\n",
       "    </tr>\n",
       "    <tr>\n",
       "      <th>14</th>\n",
       "      <td>Diabetes Mellitus, Type 2</td>\n",
       "      <td>Diabetes Mellitus, Type 1</td>\n",
       "      <td>0.897585</td>\n",
       "      <td>0.757827</td>\n",
       "      <td>0.827706</td>\n",
       "    </tr>\n",
       "    <tr>\n",
       "      <th>15</th>\n",
       "      <td>Dermatitis, Atopic</td>\n",
       "      <td>Status Asthmaticus</td>\n",
       "      <td>0.177746</td>\n",
       "      <td>0.337823</td>\n",
       "      <td>0.257785</td>\n",
       "    </tr>\n",
       "    <tr>\n",
       "      <th>16</th>\n",
       "      <td>Multiple Sclerosis</td>\n",
       "      <td>Cystitis</td>\n",
       "      <td>0.272125</td>\n",
       "      <td>0.017980</td>\n",
       "      <td>0.145052</td>\n",
       "    </tr>\n",
       "    <tr>\n",
       "      <th>17</th>\n",
       "      <td>Stroke</td>\n",
       "      <td>Cerebral Hemorrhage</td>\n",
       "      <td>0.723957</td>\n",
       "      <td>0.982595</td>\n",
       "      <td>0.853276</td>\n",
       "    </tr>\n",
       "    <tr>\n",
       "      <th>18</th>\n",
       "      <td>Cerebral Hemorrhage</td>\n",
       "      <td>Epilepsy</td>\n",
       "      <td>0.389850</td>\n",
       "      <td>0.546454</td>\n",
       "      <td>0.468152</td>\n",
       "    </tr>\n",
       "    <tr>\n",
       "      <th>19</th>\n",
       "      <td>Diabetes Mellitus, Type 1</td>\n",
       "      <td>Kidney Failure, Chronic</td>\n",
       "      <td>0.809217</td>\n",
       "      <td>0.704483</td>\n",
       "      <td>0.756850</td>\n",
       "    </tr>\n",
       "    <tr>\n",
       "      <th>20</th>\n",
       "      <td>Brain Neoplasms</td>\n",
       "      <td>Neoplasms</td>\n",
       "      <td>0.782770</td>\n",
       "      <td>0.713683</td>\n",
       "      <td>0.748227</td>\n",
       "    </tr>\n",
       "    <tr>\n",
       "      <th>21</th>\n",
       "      <td>Stomach Ulcer</td>\n",
       "      <td>Stomach Neoplasms</td>\n",
       "      <td>0.734170</td>\n",
       "      <td>0.704794</td>\n",
       "      <td>0.719482</td>\n",
       "    </tr>\n",
       "    <tr>\n",
       "      <th>22</th>\n",
       "      <td>Diabetes Mellitus, Type 1</td>\n",
       "      <td>Renal Insufficiency</td>\n",
       "      <td>0.812870</td>\n",
       "      <td>0.776545</td>\n",
       "      <td>0.794707</td>\n",
       "    </tr>\n",
       "    <tr>\n",
       "      <th>23</th>\n",
       "      <td>Diabetes Mellitus, Type 1</td>\n",
       "      <td>Malabsorption Syndromes</td>\n",
       "      <td>0.947171</td>\n",
       "      <td>0.920703</td>\n",
       "      <td>0.933937</td>\n",
       "    </tr>\n",
       "    <tr>\n",
       "      <th>24</th>\n",
       "      <td>Dental Caries</td>\n",
       "      <td>Neoplasms</td>\n",
       "      <td>0.824827</td>\n",
       "      <td>0.618135</td>\n",
       "      <td>0.721481</td>\n",
       "    </tr>\n",
       "    <tr>\n",
       "      <th>25</th>\n",
       "      <td>Cardiomyopathies</td>\n",
       "      <td>Gout</td>\n",
       "      <td>0.015588</td>\n",
       "      <td>0.109623</td>\n",
       "      <td>0.062605</td>\n",
       "    </tr>\n",
       "    <tr>\n",
       "      <th>26</th>\n",
       "      <td>Gout</td>\n",
       "      <td>Kidney Failure, Chronic</td>\n",
       "      <td>0.664972</td>\n",
       "      <td>0.269033</td>\n",
       "      <td>0.467002</td>\n",
       "    </tr>\n",
       "    <tr>\n",
       "      <th>27</th>\n",
       "      <td>Stroke</td>\n",
       "      <td>Epilepsy</td>\n",
       "      <td>0.234452</td>\n",
       "      <td>0.269896</td>\n",
       "      <td>0.252174</td>\n",
       "    </tr>\n",
       "    <tr>\n",
       "      <th>28</th>\n",
       "      <td>Gout</td>\n",
       "      <td>Renal Insufficiency</td>\n",
       "      <td>0.584819</td>\n",
       "      <td>0.270450</td>\n",
       "      <td>0.427635</td>\n",
       "    </tr>\n",
       "    <tr>\n",
       "      <th>29</th>\n",
       "      <td>Laryngeal Neoplasms</td>\n",
       "      <td>Esophageal Neoplasms</td>\n",
       "      <td>0.939229</td>\n",
       "      <td>0.335051</td>\n",
       "      <td>0.637140</td>\n",
       "    </tr>\n",
       "  </tbody>\n",
       "</table>\n",
       "</div>"
      ],
      "text/plain": [
       "                         disA                       disB   scoreAB   scoreBA  \\\n",
       "0   Myelodysplastic Syndromes          Leukemia, Myeloid  0.743329  0.247336   \n",
       "1          Leukemia, Lymphoid          Anemia, Hemolytic  0.970010  0.796378   \n",
       "2         Tonsillar Neoplasms              Dental Caries  0.961520  0.693401   \n",
       "3                      Asthma         Status Asthmaticus  0.931600  0.934386   \n",
       "4          Leukemia, Lymphoid              Herpes Zoster  0.004160  0.014376   \n",
       "5     Kidney Failure, Chronic                Peritonitis  0.735383  0.783018   \n",
       "6        Lymphoma, Follicular              Herpes Zoster  0.048649  0.090692   \n",
       "7   Diabetes Mellitus, Type 1          Diabetes Mellitus  0.887563  0.890264   \n",
       "8         Renal Insufficiency                Peritonitis  0.712544  0.768649   \n",
       "9         Laryngeal Neoplasms              Dental Caries  0.948467  0.800699   \n",
       "10  Liver Diseases, Alcoholic                Peritonitis  0.270367  0.157745   \n",
       "11                     Asthma             Bronchiectasis  0.902135  0.796092   \n",
       "12  Diabetes Mellitus, Type 2          Diabetes Mellitus  0.851596  0.837264   \n",
       "13         Multiple Sclerosis  Trigeminal Nerve Diseases  0.906840  0.958855   \n",
       "14  Diabetes Mellitus, Type 2  Diabetes Mellitus, Type 1  0.897585  0.757827   \n",
       "15         Dermatitis, Atopic         Status Asthmaticus  0.177746  0.337823   \n",
       "16         Multiple Sclerosis                   Cystitis  0.272125  0.017980   \n",
       "17                     Stroke        Cerebral Hemorrhage  0.723957  0.982595   \n",
       "18        Cerebral Hemorrhage                   Epilepsy  0.389850  0.546454   \n",
       "19  Diabetes Mellitus, Type 1    Kidney Failure, Chronic  0.809217  0.704483   \n",
       "20            Brain Neoplasms                  Neoplasms  0.782770  0.713683   \n",
       "21              Stomach Ulcer          Stomach Neoplasms  0.734170  0.704794   \n",
       "22  Diabetes Mellitus, Type 1        Renal Insufficiency  0.812870  0.776545   \n",
       "23  Diabetes Mellitus, Type 1    Malabsorption Syndromes  0.947171  0.920703   \n",
       "24              Dental Caries                  Neoplasms  0.824827  0.618135   \n",
       "25           Cardiomyopathies                       Gout  0.015588  0.109623   \n",
       "26                       Gout    Kidney Failure, Chronic  0.664972  0.269033   \n",
       "27                     Stroke                   Epilepsy  0.234452  0.269896   \n",
       "28                       Gout        Renal Insufficiency  0.584819  0.270450   \n",
       "29        Laryngeal Neoplasms       Esophageal Neoplasms  0.939229  0.335051   \n",
       "\n",
       "    aveScore  \n",
       "0   0.495332  \n",
       "1   0.883194  \n",
       "2   0.827460  \n",
       "3   0.932993  \n",
       "4   0.009268  \n",
       "5   0.759200  \n",
       "6   0.069671  \n",
       "7   0.888914  \n",
       "8   0.740596  \n",
       "9   0.874583  \n",
       "10  0.214056  \n",
       "11  0.849114  \n",
       "12  0.844430  \n",
       "13  0.932848  \n",
       "14  0.827706  \n",
       "15  0.257785  \n",
       "16  0.145052  \n",
       "17  0.853276  \n",
       "18  0.468152  \n",
       "19  0.756850  \n",
       "20  0.748227  \n",
       "21  0.719482  \n",
       "22  0.794707  \n",
       "23  0.933937  \n",
       "24  0.721481  \n",
       "25  0.062605  \n",
       "26  0.467002  \n",
       "27  0.252174  \n",
       "28  0.427635  \n",
       "29  0.637140  "
      ]
     },
     "execution_count": 60,
     "metadata": {},
     "output_type": "execute_result"
    }
   ],
   "source": [
    "\"\"\"top10，top20，top30\"\"\"\n",
    "# trajectory_top = trajectory[:10]\n",
    "# trajectory_top = trajectory[:15]\n",
    "trajectory_top = trajectory[:30]\n",
    "trajectory_top.reset_index(drop=True,inplace=True) \n",
    "\n",
    "top_score = pd.DataFrame()\n",
    "\n",
    "for ite in tqdm(range(30)):\n",
    "    disA = trajectory_top.loc[ite,\"disA\"]\n",
    "    disB = trajectory_top.loc[ite,\"disB\"]\n",
    "    \n",
    "    disAindex = list(sym_fea.index).index(disA)\n",
    "    disBindex = list(sym_fea.index).index(disB)\n",
    "    \n",
    "    scoreAB = predict_score.loc[disAindex*4268+disBindex]\n",
    "    scoreBA = predict_score.loc[disBindex*4268+disAindex]\n",
    "    \n",
    "    avgscore = (scoreAB+scoreBA)/2\n",
    "    \n",
    "    top_score = top_score.append(pd.Series([disA,disB,list(scoreAB)[0],list(scoreBA)[0],list(avgscore)[0]]),ignore_index=True)\n",
    "    \n",
    "top_score.columns=[\"disA\",\"disB\",\"scoreAB\",\"scoreBA\",\"aveScore\"]\n",
    "print(top_score.shape)\n",
    "top_score"
   ]
  },
  {
   "cell_type": "markdown",
   "id": "40d1f692",
   "metadata": {},
   "source": [
    "#### results\n",
    "- topk: predict score >0.5\n",
    "    - 7/10\n",
    "    - 11/15\n",
    "    - 13/20\n",
    "    - 19/30"
   ]
  },
  {
   "cell_type": "code",
   "execution_count": 61,
   "id": "fbe9a200",
   "metadata": {},
   "outputs": [],
   "source": [
    "# top_score.to_csv(\"trajectoryRR_top30_score.csv\")"
   ]
  },
  {
   "cell_type": "code",
   "execution_count": null,
   "id": "3eac80df",
   "metadata": {},
   "outputs": [],
   "source": []
  }
 ],
 "metadata": {
  "kernelspec": {
   "display_name": "Python 3",
   "language": "python",
   "name": "python3"
  },
  "language_info": {
   "codemirror_mode": {
    "name": "ipython",
    "version": 3
   },
   "file_extension": ".py",
   "mimetype": "text/x-python",
   "name": "python",
   "nbconvert_exporter": "python",
   "pygments_lexer": "ipython3",
   "version": "3.7.10"
  },
  "toc": {
   "base_numbering": 1,
   "nav_menu": {},
   "number_sections": true,
   "sideBar": true,
   "skip_h1_title": false,
   "title_cell": "Table of Contents",
   "title_sidebar": "Contents",
   "toc_cell": false,
   "toc_position": {
    "height": "calc(100% - 180px)",
    "left": "10px",
    "top": "150px",
    "width": "271.513px"
   },
   "toc_section_display": true,
   "toc_window_display": true
  }
 },
 "nbformat": 4,
 "nbformat_minor": 5
}
