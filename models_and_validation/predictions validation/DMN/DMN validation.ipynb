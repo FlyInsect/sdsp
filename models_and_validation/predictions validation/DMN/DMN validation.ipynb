{
 "cells": [
  {
   "cell_type": "code",
   "execution_count": 1,
   "id": "0c632fdb",
   "metadata": {},
   "outputs": [],
   "source": [
    "import pandas as pd\n",
    "import numpy as np\n",
    "from tqdm import tqdm\n",
    "\n",
    "import scipy.stats as stats"
   ]
  },
  {
   "cell_type": "code",
   "execution_count": 2,
   "id": "f3737fbd",
   "metadata": {},
   "outputs": [
    {
     "data": {
      "text/html": [
       "<div>\n",
       "<style scoped>\n",
       "    .dataframe tbody tr th:only-of-type {\n",
       "        vertical-align: middle;\n",
       "    }\n",
       "\n",
       "    .dataframe tbody tr th {\n",
       "        vertical-align: top;\n",
       "    }\n",
       "\n",
       "    .dataframe thead th {\n",
       "        text-align: right;\n",
       "    }\n",
       "</style>\n",
       "<table border=\"1\" class=\"dataframe\">\n",
       "  <thead>\n",
       "    <tr style=\"text-align: right;\">\n",
       "      <th></th>\n",
       "      <th>Pediatric Obesity</th>\n",
       "      <th>Orthostatic Intolerance</th>\n",
       "      <th>Seizures</th>\n",
       "      <th>Muscle Weakness</th>\n",
       "      <th>Persistent Vegetative State</th>\n",
       "      <th>Chills</th>\n",
       "      <th>Sweating Sickness</th>\n",
       "      <th>Ataxia</th>\n",
       "      <th>Nocturia</th>\n",
       "      <th>Fetal Distress</th>\n",
       "      <th>...</th>\n",
       "      <th>Hypercalciuria</th>\n",
       "      <th>Chronic Pain</th>\n",
       "      <th>Hematemesis</th>\n",
       "      <th>Angina Pectoris</th>\n",
       "      <th>Vision, Low</th>\n",
       "      <th>Muscle Hypertonia</th>\n",
       "      <th>Hearing Loss, Functional</th>\n",
       "      <th>Breakthrough Pain</th>\n",
       "      <th>Mutism</th>\n",
       "      <th>Cerebrospinal Fluid Otorrhea</th>\n",
       "    </tr>\n",
       "  </thead>\n",
       "  <tbody>\n",
       "    <tr>\n",
       "      <th>Nevus, Intradermal</th>\n",
       "      <td>0.0</td>\n",
       "      <td>0.0</td>\n",
       "      <td>0.0</td>\n",
       "      <td>0.000000</td>\n",
       "      <td>0.0</td>\n",
       "      <td>0.0</td>\n",
       "      <td>0.0</td>\n",
       "      <td>0.0</td>\n",
       "      <td>0.0</td>\n",
       "      <td>0.0</td>\n",
       "      <td>...</td>\n",
       "      <td>0.0</td>\n",
       "      <td>0.000000</td>\n",
       "      <td>0.0</td>\n",
       "      <td>0.0</td>\n",
       "      <td>0.0</td>\n",
       "      <td>0.0</td>\n",
       "      <td>0.0</td>\n",
       "      <td>0.0</td>\n",
       "      <td>0.0</td>\n",
       "      <td>0.0</td>\n",
       "    </tr>\n",
       "    <tr>\n",
       "      <th>Superinfection</th>\n",
       "      <td>0.0</td>\n",
       "      <td>0.0</td>\n",
       "      <td>0.0</td>\n",
       "      <td>0.635781</td>\n",
       "      <td>0.0</td>\n",
       "      <td>0.0</td>\n",
       "      <td>0.0</td>\n",
       "      <td>0.0</td>\n",
       "      <td>0.0</td>\n",
       "      <td>0.0</td>\n",
       "      <td>...</td>\n",
       "      <td>0.0</td>\n",
       "      <td>1.309646</td>\n",
       "      <td>0.0</td>\n",
       "      <td>0.0</td>\n",
       "      <td>0.0</td>\n",
       "      <td>0.0</td>\n",
       "      <td>0.0</td>\n",
       "      <td>0.0</td>\n",
       "      <td>0.0</td>\n",
       "      <td>0.0</td>\n",
       "    </tr>\n",
       "  </tbody>\n",
       "</table>\n",
       "<p>2 rows × 385 columns</p>\n",
       "</div>"
      ],
      "text/plain": [
       "                    Pediatric Obesity  Orthostatic Intolerance  Seizures  \\\n",
       "Nevus, Intradermal                0.0                      0.0       0.0   \n",
       "Superinfection                    0.0                      0.0       0.0   \n",
       "\n",
       "                    Muscle Weakness  Persistent Vegetative State  Chills  \\\n",
       "Nevus, Intradermal         0.000000                          0.0     0.0   \n",
       "Superinfection             0.635781                          0.0     0.0   \n",
       "\n",
       "                    Sweating Sickness  Ataxia  Nocturia  Fetal Distress  ...  \\\n",
       "Nevus, Intradermal                0.0     0.0       0.0             0.0  ...   \n",
       "Superinfection                    0.0     0.0       0.0             0.0  ...   \n",
       "\n",
       "                    Hypercalciuria  Chronic Pain  Hematemesis  \\\n",
       "Nevus, Intradermal             0.0      0.000000          0.0   \n",
       "Superinfection                 0.0      1.309646          0.0   \n",
       "\n",
       "                    Angina Pectoris  Vision, Low  Muscle Hypertonia  \\\n",
       "Nevus, Intradermal              0.0          0.0                0.0   \n",
       "Superinfection                  0.0          0.0                0.0   \n",
       "\n",
       "                    Hearing Loss, Functional  Breakthrough Pain  Mutism  \\\n",
       "Nevus, Intradermal                       0.0                0.0     0.0   \n",
       "Superinfection                           0.0                0.0     0.0   \n",
       "\n",
       "                    Cerebrospinal Fluid Otorrhea  \n",
       "Nevus, Intradermal                           0.0  \n",
       "Superinfection                               0.0  \n",
       "\n",
       "[2 rows x 385 columns]"
      ]
     },
     "execution_count": 2,
     "metadata": {},
     "output_type": "execute_result"
    }
   ],
   "source": [
    "sym_fea = pd.read_csv(\"../../../../extract_pubmed/2020_TF-IDF_dropdup.csv\",index_col=0)\n",
    "sym_fea[:2]"
   ]
  },
  {
   "cell_type": "code",
   "execution_count": 3,
   "id": "d57e3d1a",
   "metadata": {},
   "outputs": [
    {
     "name": "stdout",
     "output_type": "stream",
     "text": [
      "(373527, 3)\n"
     ]
    },
    {
     "data": {
      "text/html": [
       "<div>\n",
       "<style scoped>\n",
       "    .dataframe tbody tr th:only-of-type {\n",
       "        vertical-align: middle;\n",
       "    }\n",
       "\n",
       "    .dataframe tbody tr th {\n",
       "        vertical-align: top;\n",
       "    }\n",
       "\n",
       "    .dataframe thead th {\n",
       "        text-align: right;\n",
       "    }\n",
       "</style>\n",
       "<table border=\"1\" class=\"dataframe\">\n",
       "  <thead>\n",
       "    <tr style=\"text-align: right;\">\n",
       "      <th></th>\n",
       "      <th>disA</th>\n",
       "      <th>disB</th>\n",
       "      <th>cos_sim</th>\n",
       "    </tr>\n",
       "  </thead>\n",
       "  <tbody>\n",
       "    <tr>\n",
       "      <th>0</th>\n",
       "      <td>C0028326</td>\n",
       "      <td>C2673914</td>\n",
       "      <td>0.012170</td>\n",
       "    </tr>\n",
       "    <tr>\n",
       "      <th>1</th>\n",
       "      <td>C0342788</td>\n",
       "      <td>C2678474</td>\n",
       "      <td>0.054375</td>\n",
       "    </tr>\n",
       "    <tr>\n",
       "      <th>2</th>\n",
       "      <td>C0546952</td>\n",
       "      <td>C1855923</td>\n",
       "      <td>0.005606</td>\n",
       "    </tr>\n",
       "    <tr>\n",
       "      <th>3</th>\n",
       "      <td>C1956125</td>\n",
       "      <td>C2750069</td>\n",
       "      <td>0.003773</td>\n",
       "    </tr>\n",
       "    <tr>\n",
       "      <th>4</th>\n",
       "      <td>C1843366</td>\n",
       "      <td>C3151959</td>\n",
       "      <td>0.013714</td>\n",
       "    </tr>\n",
       "  </tbody>\n",
       "</table>\n",
       "</div>"
      ],
      "text/plain": [
       "       disA      disB   cos_sim\n",
       "0  C0028326  C2673914  0.012170\n",
       "1  C0342788  C2678474  0.054375\n",
       "2  C0546952  C1855923  0.005606\n",
       "3  C1956125  C2750069  0.003773\n",
       "4  C1843366  C3151959  0.013714"
      ]
     },
     "execution_count": 3,
     "metadata": {},
     "output_type": "execute_result"
    }
   ],
   "source": [
    "# DMN。\n",
    "# umls id---> umls name --->mesh name\n",
    "\n",
    "ori_df = pd.read_csv(\"DMN_2013AA.txt\",sep='|',names=[\"disA\",\"disB\",\"cos_sim\"])\n",
    "print(ori_df.shape)\n",
    "\n",
    "ori_df.head()"
   ]
  },
  {
   "cell_type": "code",
   "execution_count": 5,
   "id": "1ed8eaf4",
   "metadata": {},
   "outputs": [
    {
     "data": {
      "text/html": [
       "<div>\n",
       "<style scoped>\n",
       "    .dataframe tbody tr th:only-of-type {\n",
       "        vertical-align: middle;\n",
       "    }\n",
       "\n",
       "    .dataframe tbody tr th {\n",
       "        vertical-align: top;\n",
       "    }\n",
       "\n",
       "    .dataframe thead th {\n",
       "        text-align: right;\n",
       "    }\n",
       "</style>\n",
       "<table border=\"1\" class=\"dataframe\">\n",
       "  <thead>\n",
       "    <tr style=\"text-align: right;\">\n",
       "      <th></th>\n",
       "      <th>diseaseId</th>\n",
       "      <th>name</th>\n",
       "      <th>vocabulary</th>\n",
       "      <th>code</th>\n",
       "      <th>vocabularyName</th>\n",
       "    </tr>\n",
       "  </thead>\n",
       "  <tbody>\n",
       "    <tr>\n",
       "      <th>0</th>\n",
       "      <td>C1970109</td>\n",
       "      <td>AROMATASE EXCESS SYNDROME</td>\n",
       "      <td>MSH</td>\n",
       "      <td>C000591739</td>\n",
       "      <td>Aromatase Excess Syndrome</td>\n",
       "    </tr>\n",
       "    <tr>\n",
       "      <th>1</th>\n",
       "      <td>C1970109</td>\n",
       "      <td>AROMATASE EXCESS SYNDROME</td>\n",
       "      <td>MSH</td>\n",
       "      <td>C000591739</td>\n",
       "      <td>Familial gynecomastia, due to increased aromat...</td>\n",
       "    </tr>\n",
       "  </tbody>\n",
       "</table>\n",
       "</div>"
      ],
      "text/plain": [
       "  diseaseId                       name vocabulary        code  \\\n",
       "0  C1970109  AROMATASE EXCESS SYNDROME        MSH  C000591739   \n",
       "1  C1970109  AROMATASE EXCESS SYNDROME        MSH  C000591739   \n",
       "\n",
       "                                      vocabularyName  \n",
       "0                          Aromatase Excess Syndrome  \n",
       "1  Familial gynecomastia, due to increased aromat...  "
      ]
     },
     "execution_count": 5,
     "metadata": {},
     "output_type": "execute_result"
    }
   ],
   "source": [
    "# UMLS-Mesh\n",
    "mapping_df = pd.read_csv(\"../DisGeNET-disease_mappings.tsv\",sep=\"\\t\")\n",
    "mapping_df = mapping_df[mapping_df[\"vocabulary\"]==\"MSH\"]\n",
    "mapping_df.reset_index(drop=True,inplace=True)\n",
    "mapping_df[:2]"
   ]
  },
  {
   "cell_type": "markdown",
   "id": "f8743582",
   "metadata": {},
   "source": [
    "### trans disease name\n",
    "- 2305 diseases in DMN"
   ]
  },
  {
   "cell_type": "markdown",
   "id": "0ffe8033",
   "metadata": {},
   "source": [
    "#### UMLS->MSH name"
   ]
  },
  {
   "cell_type": "code",
   "execution_count": 4,
   "id": "a8059266",
   "metadata": {
    "scrolled": true
   },
   "outputs": [
    {
     "name": "stdout",
     "output_type": "stream",
     "text": [
      "(2421, 2)\n"
     ]
    },
    {
     "data": {
      "text/html": [
       "<div>\n",
       "<style scoped>\n",
       "    .dataframe tbody tr th:only-of-type {\n",
       "        vertical-align: middle;\n",
       "    }\n",
       "\n",
       "    .dataframe tbody tr th {\n",
       "        vertical-align: top;\n",
       "    }\n",
       "\n",
       "    .dataframe thead th {\n",
       "        text-align: right;\n",
       "    }\n",
       "</style>\n",
       "<table border=\"1\" class=\"dataframe\">\n",
       "  <thead>\n",
       "    <tr style=\"text-align: right;\">\n",
       "      <th></th>\n",
       "      <th>umls</th>\n",
       "      <th>name</th>\n",
       "    </tr>\n",
       "  </thead>\n",
       "  <tbody>\n",
       "    <tr>\n",
       "      <th>0</th>\n",
       "      <td>C1968602</td>\n",
       "      <td>surfactant metabolism dysfunction, pulmonary, 1</td>\n",
       "    </tr>\n",
       "    <tr>\n",
       "      <th>1</th>\n",
       "      <td>C0268293</td>\n",
       "      <td>corticosterone methyl oxidase type i deficiency</td>\n",
       "    </tr>\n",
       "  </tbody>\n",
       "</table>\n",
       "</div>"
      ],
      "text/plain": [
       "       umls                                             name\n",
       "0  C1968602  surfactant metabolism dysfunction, pulmonary, 1\n",
       "1  C0268293  corticosterone methyl oxidase type i deficiency"
      ]
     },
     "execution_count": 4,
     "metadata": {},
     "output_type": "execute_result"
    }
   ],
   "source": [
    "#0、umls id->umls name\n",
    "umlsToName = pd.read_csv(\"DMN_dname.txt\",sep=\"\\t\",names=[\"umls\",\"name\"])\n",
    "print(umlsToName.shape)\n",
    "umlsToName[:2]"
   ]
  },
  {
   "cell_type": "code",
   "execution_count": 7,
   "id": "b1aa7453",
   "metadata": {},
   "outputs": [
    {
     "name": "stdout",
     "output_type": "stream",
     "text": [
      "(373527, 3)\n"
     ]
    },
    {
     "data": {
      "text/html": [
       "<div>\n",
       "<style scoped>\n",
       "    .dataframe tbody tr th:only-of-type {\n",
       "        vertical-align: middle;\n",
       "    }\n",
       "\n",
       "    .dataframe tbody tr th {\n",
       "        vertical-align: top;\n",
       "    }\n",
       "\n",
       "    .dataframe thead th {\n",
       "        text-align: right;\n",
       "    }\n",
       "</style>\n",
       "<table border=\"1\" class=\"dataframe\">\n",
       "  <thead>\n",
       "    <tr style=\"text-align: right;\">\n",
       "      <th></th>\n",
       "      <th>disA</th>\n",
       "      <th>disB</th>\n",
       "      <th>cos_sim</th>\n",
       "    </tr>\n",
       "  </thead>\n",
       "  <tbody>\n",
       "    <tr>\n",
       "      <th>0</th>\n",
       "      <td>noonan syndrome</td>\n",
       "      <td>anemia, sideroblastic, pyridoxine-refractory, ...</td>\n",
       "      <td>0.012170</td>\n",
       "    </tr>\n",
       "    <tr>\n",
       "      <th>1</th>\n",
       "      <td>renal carnitine transport defect</td>\n",
       "      <td>cardiomyopathy, dilated, 2a (disorder)</td>\n",
       "      <td>0.054375</td>\n",
       "    </tr>\n",
       "  </tbody>\n",
       "</table>\n",
       "</div>"
      ],
      "text/plain": [
       "                               disA  \\\n",
       "0                   noonan syndrome   \n",
       "1  renal carnitine transport defect   \n",
       "\n",
       "                                                disB   cos_sim  \n",
       "0  anemia, sideroblastic, pyridoxine-refractory, ...  0.012170  \n",
       "1             cardiomyopathy, dilated, 2a (disorder)  0.054375  "
      ]
     },
     "execution_count": 7,
     "metadata": {},
     "output_type": "execute_result"
    }
   ],
   "source": [
    "umls_trans = {}\n",
    "for ite in range(len(umlsToName)):\n",
    "    umls_trans[umlsToName.loc[ite,\"umls\"]]=umlsToName.loc[ite,\"name\"]\n",
    "\n",
    "ori_df_name = ori_df.replace({\"disA\":umls_trans,\"disB\":umls_trans})\n",
    "print(ori_df_name.shape)\n",
    "ori_df_name[:2]"
   ]
  },
  {
   "cell_type": "code",
   "execution_count": 8,
   "id": "ebec1751",
   "metadata": {},
   "outputs": [
    {
     "name": "stdout",
     "output_type": "stream",
     "text": [
      "747054\n",
      "2305\n"
     ]
    },
    {
     "data": {
      "text/html": [
       "<div>\n",
       "<style scoped>\n",
       "    .dataframe tbody tr th:only-of-type {\n",
       "        vertical-align: middle;\n",
       "    }\n",
       "\n",
       "    .dataframe tbody tr th {\n",
       "        vertical-align: top;\n",
       "    }\n",
       "\n",
       "    .dataframe thead th {\n",
       "        text-align: right;\n",
       "    }\n",
       "</style>\n",
       "<table border=\"1\" class=\"dataframe\">\n",
       "  <thead>\n",
       "    <tr style=\"text-align: right;\">\n",
       "      <th></th>\n",
       "      <th>dis</th>\n",
       "    </tr>\n",
       "  </thead>\n",
       "  <tbody>\n",
       "    <tr>\n",
       "      <th>0</th>\n",
       "      <td>noonan syndrome</td>\n",
       "    </tr>\n",
       "    <tr>\n",
       "      <th>1</th>\n",
       "      <td>renal carnitine transport defect</td>\n",
       "    </tr>\n",
       "  </tbody>\n",
       "</table>\n",
       "</div>"
      ],
      "text/plain": [
       "                                dis\n",
       "0                   noonan syndrome\n",
       "1  renal carnitine transport defect"
      ]
     },
     "execution_count": 8,
     "metadata": {},
     "output_type": "execute_result"
    }
   ],
   "source": [
    "# 1、Get unique disease in comorbidity data\n",
    "DMN_dis = pd.concat([pd.DataFrame({\"dis\":ori_df_name[\"disA\"]}),pd.DataFrame({\"dis\":ori_df_name[\"disB\"]})])\n",
    "print(len(DMN_dis)) \n",
    "\n",
    "DMN_dis.drop_duplicates(inplace=True)\n",
    "print(len(DMN_dis))\n",
    "\n",
    "DMN_dis.reset_index(drop=True,inplace=True)\n",
    "DMN_dis[:2]"
   ]
  },
  {
   "cell_type": "code",
   "execution_count": 11,
   "id": "d525c147",
   "metadata": {},
   "outputs": [
    {
     "name": "stdout",
     "output_type": "stream",
     "text": [
      "(4268, 1)\n",
      "                                dis\n",
      "0                Nevus, Intradermal\n",
      "1                    Superinfection\n",
      "2                          Coloboma\n",
      "3  Abnormalities, Radiation-Induced\n",
      "4         Bronchial Hyperreactivity\n",
      "(2949, 6)\n"
     ]
    },
    {
     "data": {
      "text/html": [
       "<div>\n",
       "<style scoped>\n",
       "    .dataframe tbody tr th:only-of-type {\n",
       "        vertical-align: middle;\n",
       "    }\n",
       "\n",
       "    .dataframe tbody tr th {\n",
       "        vertical-align: top;\n",
       "    }\n",
       "\n",
       "    .dataframe thead th {\n",
       "        text-align: right;\n",
       "    }\n",
       "</style>\n",
       "<table border=\"1\" class=\"dataframe\">\n",
       "  <thead>\n",
       "    <tr style=\"text-align: right;\">\n",
       "      <th></th>\n",
       "      <th>dis</th>\n",
       "      <th>diseaseId</th>\n",
       "      <th>name</th>\n",
       "      <th>vocabulary</th>\n",
       "      <th>code</th>\n",
       "      <th>vocabularyName</th>\n",
       "    </tr>\n",
       "  </thead>\n",
       "  <tbody>\n",
       "    <tr>\n",
       "      <th>0</th>\n",
       "      <td>noonan syndrome</td>\n",
       "      <td>C0028326</td>\n",
       "      <td>noonan syndrome</td>\n",
       "      <td>MSH</td>\n",
       "      <td>D009634</td>\n",
       "      <td>Noonan Syndrome</td>\n",
       "    </tr>\n",
       "    <tr>\n",
       "      <th>1</th>\n",
       "      <td>noonan syndrome</td>\n",
       "      <td>C0028326</td>\n",
       "      <td>noonan syndrome</td>\n",
       "      <td>MSH</td>\n",
       "      <td>D009634</td>\n",
       "      <td>Turner Syndrome, Male</td>\n",
       "    </tr>\n",
       "    <tr>\n",
       "      <th>2</th>\n",
       "      <td>noonan syndrome</td>\n",
       "      <td>C0028326</td>\n",
       "      <td>noonan syndrome</td>\n",
       "      <td>MSH</td>\n",
       "      <td>D009634</td>\n",
       "      <td>Female Pseudo-Turner Syndrome</td>\n",
       "    </tr>\n",
       "    <tr>\n",
       "      <th>3</th>\n",
       "      <td>noonan syndrome</td>\n",
       "      <td>C0028326</td>\n",
       "      <td>noonan syndrome</td>\n",
       "      <td>MSH</td>\n",
       "      <td>D009634</td>\n",
       "      <td>Noonan Syndrome 1</td>\n",
       "    </tr>\n",
       "    <tr>\n",
       "      <th>4</th>\n",
       "      <td>renal carnitine transport defect</td>\n",
       "      <td>C0342788</td>\n",
       "      <td>renal carnitine transport defect</td>\n",
       "      <td>MSH</td>\n",
       "      <td>C536778</td>\n",
       "      <td>Systemic carnitine deficiency</td>\n",
       "    </tr>\n",
       "  </tbody>\n",
       "</table>\n",
       "</div>"
      ],
      "text/plain": [
       "                                dis diseaseId  \\\n",
       "0                   noonan syndrome  C0028326   \n",
       "1                   noonan syndrome  C0028326   \n",
       "2                   noonan syndrome  C0028326   \n",
       "3                   noonan syndrome  C0028326   \n",
       "4  renal carnitine transport defect  C0342788   \n",
       "\n",
       "                               name vocabulary     code  \\\n",
       "0                   noonan syndrome        MSH  D009634   \n",
       "1                   noonan syndrome        MSH  D009634   \n",
       "2                   noonan syndrome        MSH  D009634   \n",
       "3                   noonan syndrome        MSH  D009634   \n",
       "4  renal carnitine transport defect        MSH  C536778   \n",
       "\n",
       "                  vocabularyName  \n",
       "0                Noonan Syndrome  \n",
       "1          Turner Syndrome, Male  \n",
       "2  Female Pseudo-Turner Syndrome  \n",
       "3              Noonan Syndrome 1  \n",
       "4  Systemic carnitine deficiency  "
      ]
     },
     "execution_count": 11,
     "metadata": {},
     "output_type": "execute_result"
    }
   ],
   "source": [
    "# 2、->Mesh name\n",
    "tar_dis_ls = sym_fea.index\n",
    "tar_dis_df = pd.DataFrame(tar_dis_ls,columns=[\"dis\"])\n",
    "print(tar_dis_df.shape)\n",
    "print(tar_dis_df[:5])\n",
    "\n",
    "mapping_df[\"name\"] = mapping_df[\"name\"].str.lower()\n",
    "join_df = pd.merge(DMN_dis,mapping_df,how='inner',left_on=\"dis\",right_on=\"name\")\n",
    "print(join_df.shape)\n",
    "join_df.head()\n",
    "\n",
    "# join_df.to_csv(\"join_df.csv\")"
   ]
  },
  {
   "cell_type": "code",
   "execution_count": 12,
   "id": "74595e15",
   "metadata": {},
   "outputs": [
    {
     "name": "stderr",
     "output_type": "stream",
     "text": [
      "100%|███████████████████████████████████████████████████████████████████████████| 2949/2949 [00:00<00:00, 59605.63it/s]"
     ]
    },
    {
     "name": "stdout",
     "output_type": "stream",
     "text": [
      "412\n"
     ]
    },
    {
     "name": "stderr",
     "output_type": "stream",
     "text": [
      "\n"
     ]
    }
   ],
   "source": [
    "# 3、UMLS name --->Mesh name\n",
    "trans = {}\n",
    "\n",
    "for i in tqdm(range(len(join_df))):\n",
    "    if join_df.loc[i,\"vocabularyName\"] in tar_dis_ls:\n",
    "        UMLS_name = join_df.loc[i,\"dis\"]\n",
    "        mesh_name = join_df.loc[i,\"vocabularyName\"]\n",
    "        \n",
    "        trans[UMLS_name]= mesh_name   \n",
    "            \n",
    "print(len(trans)) #412 diseases"
   ]
  },
  {
   "cell_type": "code",
   "execution_count": 13,
   "id": "12b49702",
   "metadata": {},
   "outputs": [
    {
     "data": {
      "text/html": [
       "<div>\n",
       "<style scoped>\n",
       "    .dataframe tbody tr th:only-of-type {\n",
       "        vertical-align: middle;\n",
       "    }\n",
       "\n",
       "    .dataframe tbody tr th {\n",
       "        vertical-align: top;\n",
       "    }\n",
       "\n",
       "    .dataframe thead th {\n",
       "        text-align: right;\n",
       "    }\n",
       "</style>\n",
       "<table border=\"1\" class=\"dataframe\">\n",
       "  <thead>\n",
       "    <tr style=\"text-align: right;\">\n",
       "      <th></th>\n",
       "      <th>UMLS name</th>\n",
       "      <th>MSH name</th>\n",
       "    </tr>\n",
       "  </thead>\n",
       "  <tbody>\n",
       "    <tr>\n",
       "      <th>0</th>\n",
       "      <td>noonan syndrome</td>\n",
       "      <td>Noonan Syndrome</td>\n",
       "    </tr>\n",
       "    <tr>\n",
       "      <th>1</th>\n",
       "      <td>alagille syndrome 1</td>\n",
       "      <td>Alagille Syndrome</td>\n",
       "    </tr>\n",
       "  </tbody>\n",
       "</table>\n",
       "</div>"
      ],
      "text/plain": [
       "             UMLS name           MSH name\n",
       "0      noonan syndrome    Noonan Syndrome\n",
       "1  alagille syndrome 1  Alagille Syndrome"
      ]
     },
     "execution_count": 13,
     "metadata": {},
     "output_type": "execute_result"
    }
   ],
   "source": [
    "trans_df = pd.DataFrame.from_dict(trans,orient=\"index\")\n",
    "trans_df.reset_index(inplace=True)\n",
    "trans_df.columns=[\"UMLS name\",\"MSH name\"]\n",
    "trans_df[:2]"
   ]
  },
  {
   "cell_type": "markdown",
   "id": "4f587961",
   "metadata": {},
   "source": [
    "####  Extract subgraphs of DMN"
   ]
  },
  {
   "cell_type": "code",
   "execution_count": 38,
   "id": "7ea08628",
   "metadata": {
    "scrolled": true
   },
   "outputs": [
    {
     "name": "stderr",
     "output_type": "stream",
     "text": [
      "100%|████████████████████████████████████████████████████████████████████████| 373527/373527 [01:10<00:00, 5290.31it/s]"
     ]
    },
    {
     "name": "stdout",
     "output_type": "stream",
     "text": [
      "(15888, 3)\n"
     ]
    },
    {
     "name": "stderr",
     "output_type": "stream",
     "text": [
      "\n"
     ]
    },
    {
     "data": {
      "text/html": [
       "<div>\n",
       "<style scoped>\n",
       "    .dataframe tbody tr th:only-of-type {\n",
       "        vertical-align: middle;\n",
       "    }\n",
       "\n",
       "    .dataframe tbody tr th {\n",
       "        vertical-align: top;\n",
       "    }\n",
       "\n",
       "    .dataframe thead th {\n",
       "        text-align: right;\n",
       "    }\n",
       "</style>\n",
       "<table border=\"1\" class=\"dataframe\">\n",
       "  <thead>\n",
       "    <tr style=\"text-align: right;\">\n",
       "      <th></th>\n",
       "      <th>disA</th>\n",
       "      <th>disB</th>\n",
       "      <th>cos_sim</th>\n",
       "    </tr>\n",
       "  </thead>\n",
       "  <tbody>\n",
       "    <tr>\n",
       "      <th>0</th>\n",
       "      <td>Spastic Paraplegia, Hereditary</td>\n",
       "      <td>Mucolipidoses</td>\n",
       "      <td>0.009291</td>\n",
       "    </tr>\n",
       "    <tr>\n",
       "      <th>1</th>\n",
       "      <td>Mucopolysaccharidosis III</td>\n",
       "      <td>Holocarboxylase Synthetase Deficiency</td>\n",
       "      <td>0.004953</td>\n",
       "    </tr>\n",
       "  </tbody>\n",
       "</table>\n",
       "</div>"
      ],
      "text/plain": [
       "                             disA                                   disB  \\\n",
       "0  Spastic Paraplegia, Hereditary                          Mucolipidoses   \n",
       "1       Mucopolysaccharidosis III  Holocarboxylase Synthetase Deficiency   \n",
       "\n",
       "    cos_sim  \n",
       "0  0.009291  \n",
       "1  0.004953  "
      ]
     },
     "execution_count": 38,
     "metadata": {},
     "output_type": "execute_result"
    }
   ],
   "source": [
    "DMN_mesh_df = pd.DataFrame()\n",
    "\n",
    "for index in tqdm(range(len(ori_df_name))):\n",
    "    disA = ori_df_name.loc[index,\"disA\"]\n",
    "    disB = ori_df_name.loc[index,\"disB\"]\n",
    "    cos_sim = ori_df_name.loc[index,\"cos_sim\"]\n",
    "    \n",
    "    if (disA in list(trans_df[\"UMLS name\"])) and (disB in list(trans_df[\"UMLS name\"])):\n",
    "        DMN_mesh_df = DMN_mesh_df.append(pd.Series([trans[disA],trans[disB],cos_sim]),ignore_index=True)\n",
    "        \n",
    "print(DMN_mesh_df.shape) # \n",
    "DMN_mesh_df.columns = [\"disA\",\"disB\",\"cos_sim\"]\n",
    "DMN_mesh_df[:2]"
   ]
  },
  {
   "cell_type": "code",
   "execution_count": 39,
   "id": "ff93bf3d",
   "metadata": {},
   "outputs": [],
   "source": [
    "# DMN_mesh_df.to_csv(\"DMN_2013AA_name.csv\")"
   ]
  },
  {
   "cell_type": "markdown",
   "id": "b1b882ba",
   "metadata": {},
   "source": [
    "### Extract the corresponding model prediction results"
   ]
  },
  {
   "cell_type": "code",
   "execution_count": 40,
   "id": "d9cf9565",
   "metadata": {},
   "outputs": [
    {
     "name": "stderr",
     "output_type": "stream",
     "text": [
      "E:\\Anaconda\\envs\\tf2\\lib\\site-packages\\numpy\\lib\\arraysetops.py:583: FutureWarning: elementwise comparison failed; returning scalar instead, but in the future will perform elementwise comparison\n",
      "  mask |= (ar1 == a)\n",
      "100%|█████████████████████████████████████████████████████████████████████████████| 412/412 [00:00<00:00, 26365.18it/s]"
     ]
    },
    {
     "name": "stdout",
     "output_type": "stream",
     "text": [
      "412\n"
     ]
    },
    {
     "name": "stderr",
     "output_type": "stream",
     "text": [
      "\n"
     ]
    },
    {
     "data": {
      "text/plain": [
       "[2797, 4094, 480, 1632, 1576]"
      ]
     },
     "execution_count": 40,
     "metadata": {},
     "output_type": "execute_result"
    }
   ],
   "source": [
    "predict_score = pd.read_csv(\"../../visualization/model_predictAll_result.csv\",index_col=0)\n",
    "\n",
    "dis_index_inSym = []\n",
    "sym_fea_index_lower = [s.lower() for s in sym_fea.index]\n",
    "\n",
    "for dis in tqdm(trans_df[\"MSH name\"]):\n",
    "    index_inSym = sym_fea_index_lower.index(dis.lower())\n",
    "    dis_index_inSym.append(index_inSym)\n",
    "    \n",
    "print(len(dis_index_inSym))\n",
    "dis_index_inSym[:5]"
   ]
  },
  {
   "cell_type": "code",
   "execution_count": 48,
   "id": "e00714e7",
   "metadata": {
    "scrolled": true
   },
   "outputs": [
    {
     "name": "stderr",
     "output_type": "stream",
     "text": [
      "100%|████████████████████████████████████████████████████████████████████████████████| 412/412 [06:35<00:00,  1.04it/s]\n"
     ]
    }
   ],
   "source": [
    "scoreABs = []\n",
    "scoreBAs = []\n",
    "DMN_confs = [] #DMN，（0,1）\n",
    "\n",
    "for disA in tqdm(trans_df[\"MSH name\"]):\n",
    "    disA_index = dis_index_inSym[list(trans_df[\"MSH name\"]).index(disA)]\n",
    "    \n",
    "    for disB in trans_df[\"MSH name\"]:\n",
    "        if disA==disB:\n",
    "            continue\n",
    "        disB_index = dis_index_inSym[list(trans_df[\"MSH name\"]).index(disB)]\n",
    "        \n",
    "        con_df = DMN_mesh_df.loc[(DMN_mesh_df[\"disA\"]==disA) & (DMN_mesh_df[\"disB\"]==disB)]\n",
    "        \n",
    "        if len(con_df)>0:\n",
    "            scoreAB = predict_score.loc[disA_index*4268+disB_index]\n",
    "            scoreBA = predict_score.loc[disB_index*4268+disA_index]\n",
    "            scoreABs.append(scoreAB)\n",
    "            scoreBAs.append(scoreBA)\n",
    "            \n",
    "            sim_score = list(con_df[\"cos_sim\"])[0]\n",
    "            DMN_confs.append(sim_score)\n",
    "        else:\n",
    "            continue\n",
    "            \n",
    "print(len(DMN_confs),len(DMN_confs)==len(scoreABs))\n",
    "DMN_confs[:2]"
   ]
  },
  {
   "cell_type": "code",
   "execution_count": null,
   "id": "04cfcbbf",
   "metadata": {
    "scrolled": true
   },
   "outputs": [],
   "source": []
  },
  {
   "cell_type": "code",
   "execution_count": 49,
   "id": "1b518543",
   "metadata": {},
   "outputs": [
    {
     "name": "stdout",
     "output_type": "stream",
     "text": [
      "22694 True\n"
     ]
    },
    {
     "data": {
      "text/plain": [
       "[0.0332050698636417, 0.0126422579174373]"
      ]
     },
     "execution_count": 49,
     "metadata": {},
     "output_type": "execute_result"
    }
   ],
   "source": [
    "print(len(DMN_confs),len(DMN_confs)==len(scoreABs))\n",
    "DMN_confs[:2]"
   ]
  },
  {
   "cell_type": "code",
   "execution_count": 50,
   "id": "fd143ae2",
   "metadata": {},
   "outputs": [
    {
     "name": "stdout",
     "output_type": "stream",
     "text": [
      "[0.04102472 0.00495054 0.27993447 0.03995889 0.30943926 0.00290634\n",
      " 0.18209699 0.00539309 0.11116414 0.03785008]\n"
     ]
    }
   ],
   "source": [
    "\n",
    "scores_predict=[] \n",
    "scores_predict = np.sum([scoreABs,scoreBAs],axis=0)/2\n",
    "scores_predict = scores_predict.squeeze()\n",
    "\n",
    "print(scores_predict[:10])"
   ]
  },
  {
   "cell_type": "code",
   "execution_count": 51,
   "id": "77fdda15",
   "metadata": {},
   "outputs": [
    {
     "name": "stdout",
     "output_type": "stream",
     "text": [
      "4737 -- 17957\n"
     ]
    }
   ],
   "source": [
    "DMN_sim = []\n",
    "DMN_unsim = []\n",
    "\n",
    "for i in range(len(scores_predict)):\n",
    "    score = scores_predict[i]\n",
    "    if score>=0.5:\n",
    "        DMN_sim.append(DMN_confs[i])\n",
    "    elif score<0.5:\n",
    "        DMN_unsim.append(DMN_confs[i])\n",
    "        \n",
    "print(len(DMN_sim),\"--\",len(DMN_unsim))"
   ]
  },
  {
   "cell_type": "markdown",
   "id": "8ecb2382",
   "metadata": {},
   "source": [
    "#### Calculate distribution difference"
   ]
  },
  {
   "cell_type": "code",
   "execution_count": 52,
   "id": "b8cc9641",
   "metadata": {},
   "outputs": [
    {
     "data": {
      "text/plain": [
       "MannwhitneyuResult(statistic=49627313.0, pvalue=4.8214053046716285e-70)"
      ]
     },
     "execution_count": 52,
     "metadata": {},
     "output_type": "execute_result"
    }
   ],
   "source": [
    "distribution_dif = stats.mannwhitneyu(DMN_sim,DMN_unsim,alternative='two-sided')\n",
    "distribution_dif"
   ]
  },
  {
   "cell_type": "code",
   "execution_count": 53,
   "id": "5863ab02",
   "metadata": {},
   "outputs": [
    {
     "name": "stdout",
     "output_type": "stream",
     "text": [
      "0.020411612827446156\n",
      "0.015450777880477813\n"
     ]
    },
    {
     "data": {
      "text/plain": [
       "'相似组的DMN边权较大，√'"
      ]
     },
     "execution_count": 53,
     "metadata": {},
     "output_type": "execute_result"
    }
   ],
   "source": [
    "print(np.mean(DMN_sim))\n",
    "print(np.mean(DMN_unsim))"
   ]
  },
  {
   "cell_type": "code",
   "execution_count": 66,
   "id": "bbd1f5e6",
   "metadata": {
    "scrolled": true
   },
   "outputs": [
    {
     "data": {
      "text/plain": [
       "[0.463100239853398,\n",
       " 0.4561010231369063,\n",
       " 0.4064609973841454,\n",
       " 0.3910494245072792,\n",
       " 0.3507983542338357,\n",
       " 0.3221971379575166,\n",
       " 0.3221971379575166,\n",
       " 0.3221971379575166,\n",
       " 0.3058117353700386,\n",
       " 0.2812802966906937,\n",
       " 0.2812802966906937,\n",
       " 0.2812802966906937,\n",
       " 0.2693272547847553,\n",
       " 0.261482117883078,\n",
       " 0.2298161697347929,\n",
       " 0.1983246526674052,\n",
       " 0.1912328445758419,\n",
       " 0.1826351643258574,\n",
       " 0.1722587359695794,\n",
       " 0.1722587359695794,\n",
       " 0.1722587359695794,\n",
       " 0.1555282354100481,\n",
       " 0.1523364192290587,\n",
       " 0.150890396264842,\n",
       " 0.150890396264842]"
      ]
     },
     "execution_count": 66,
     "metadata": {},
     "output_type": "execute_result"
    }
   ],
   "source": [
    "DMN_sim.sort(reverse=True)\n",
    "DMN_sim[:25]"
   ]
  },
  {
   "cell_type": "code",
   "execution_count": 62,
   "id": "d4f2cc8e",
   "metadata": {
    "scrolled": true
   },
   "outputs": [
    {
     "data": {
      "text/plain": [
       "[0.5918048194314739,\n",
       " 0.4601767155037639,\n",
       " 0.4601767155037639,\n",
       " 0.3614142445187476,\n",
       " 0.3614142445187476,\n",
       " 0.2892404044598641,\n",
       " 0.2701270773860166,\n",
       " 0.2701270773860166,\n",
       " 0.2481589609430238,\n",
       " 0.2135025405487935,\n",
       " 0.2034706891890647,\n",
       " 0.1977920563558424,\n",
       " 0.1924812239829524,\n",
       " 0.1812183287118736,\n",
       " 0.1812183287118736,\n",
       " 0.1727980314039409,\n",
       " 0.1678158996718022,\n",
       " 0.1678158996718022,\n",
       " 0.1660177357852365,\n",
       " 0.1660177357852365,\n",
       " 0.1496250321560855,\n",
       " 0.1486510486737694,\n",
       " 0.148333614002908,\n",
       " 0.148333614002908,\n",
       " 0.144689372897683,\n",
       " 0.1442685242817061,\n",
       " 0.1436327798920529,\n",
       " 0.1360766201970596,\n",
       " 0.1360766201970596,\n",
       " 0.1360766201970596,\n",
       " 0.1357098603361308,\n",
       " 0.1345918551619211,\n",
       " 0.1284221900131329,\n",
       " 0.127938078018569,\n",
       " 0.127938078018569,\n",
       " 0.127938078018569,\n",
       " 0.1240328412172383,\n",
       " 0.1226169171236531,\n",
       " 0.121352794518979,\n",
       " 0.1206083517361042,\n",
       " 0.1206083517361042,\n",
       " 0.1201449467742209,\n",
       " 0.1180950516677462,\n",
       " 0.1180911176268262,\n",
       " 0.1159486807748876,\n",
       " 0.1159486807748876,\n",
       " 0.1159486807748876,\n",
       " 0.1158048525800453,\n",
       " 0.1158048525800453,\n",
       " 0.1158048525800453,\n",
       " 0.1158048525800453,\n",
       " 0.1158048525800453,\n",
       " 0.1158048525800453,\n",
       " 0.1155163901725395,\n",
       " 0.1151175372119851,\n",
       " 0.1149442526521335,\n",
       " 0.1137289373906132,\n",
       " 0.112839016859273,\n",
       " 0.112839016859273,\n",
       " 0.112839016859273,\n",
       " 0.111823521800672,\n",
       " 0.1111559546361419,\n",
       " 0.1100515435762858,\n",
       " 0.1100515435762858,\n",
       " 0.1099351712658786,\n",
       " 0.1099351712658786,\n",
       " 0.1099351712658786,\n",
       " 0.1093886118430015,\n",
       " 0.1093886118430015,\n",
       " 0.1085269991519427,\n",
       " 0.1080994307256277,\n",
       " 0.1072458803010038,\n",
       " 0.1072458803010038,\n",
       " 0.1071370556694047,\n",
       " 0.1061535158073548,\n",
       " 0.1057023864041233,\n",
       " 0.1057023864041233,\n",
       " 0.1057023864041233,\n",
       " 0.1052730582349708,\n",
       " 0.1052730582349708,\n",
       " 0.1052730582349708,\n",
       " 0.1040432476477737,\n",
       " 0.102464710354796,\n",
       " 0.102464710354796,\n",
       " 0.102464710354796,\n",
       " 0.1017823255475316,\n",
       " 0.1013549996064223,\n",
       " 0.1013549996064223,\n",
       " 0.1013549996064223,\n",
       " 0.099651097668584,\n",
       " 0.099651097668584,\n",
       " 0.098997510229812,\n",
       " 0.0980256408908078,\n",
       " 0.0977301143562108,\n",
       " 0.0970776188734346,\n",
       " 0.0968786980542562,\n",
       " 0.0966465560456971,\n",
       " 0.0966465560456971,\n",
       " 0.0966465560456971,\n",
       " 0.0965405512162523]"
      ]
     },
     "execution_count": 62,
     "metadata": {},
     "output_type": "execute_result"
    }
   ],
   "source": [
    "DMN_unsim.sort(reverse=True)\n",
    "DMN_unsim[:100]"
   ]
  },
  {
   "cell_type": "code",
   "execution_count": 64,
   "id": "2f696a8f",
   "metadata": {},
   "outputs": [],
   "source": [
    "# pd.Series(DMN_sim).to_csv(\"DMN_sim.csv\",index=\"cos_sim\")\n",
    "# pd.Series(DMN_unsim).to_csv(\"DMN_unsim.csv\",index=\"cos_sim\")"
   ]
  },
  {
   "cell_type": "code",
   "execution_count": null,
   "id": "0545ed3d",
   "metadata": {},
   "outputs": [],
   "source": []
  }
 ],
 "metadata": {
  "kernelspec": {
   "display_name": "Python 3",
   "language": "python",
   "name": "python3"
  },
  "language_info": {
   "codemirror_mode": {
    "name": "ipython",
    "version": 3
   },
   "file_extension": ".py",
   "mimetype": "text/x-python",
   "name": "python",
   "nbconvert_exporter": "python",
   "pygments_lexer": "ipython3",
   "version": "3.7.10"
  },
  "toc": {
   "base_numbering": 1,
   "nav_menu": {},
   "number_sections": true,
   "sideBar": true,
   "skip_h1_title": false,
   "title_cell": "Table of Contents",
   "title_sidebar": "Contents",
   "toc_cell": false,
   "toc_position": {
    "height": "calc(100% - 180px)",
    "left": "10px",
    "top": "150px",
    "width": "260.2px"
   },
   "toc_section_display": true,
   "toc_window_display": true
  }
 },
 "nbformat": 4,
 "nbformat_minor": 5
}
