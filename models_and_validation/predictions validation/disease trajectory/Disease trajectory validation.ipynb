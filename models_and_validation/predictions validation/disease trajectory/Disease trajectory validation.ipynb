{
 "cells": [
  {
   "cell_type": "code",
   "execution_count": 1,
   "id": "2e8efefd",
   "metadata": {},
   "outputs": [],
   "source": [
    "import pandas as pd\n",
    "import numpy as np\n",
    "from tqdm import tqdm\n",
    "\n",
    "import scipy.stats as stats"
   ]
  },
  {
   "cell_type": "code",
   "execution_count": 3,
   "id": "98a10dec",
   "metadata": {},
   "outputs": [
    {
     "name": "stdout",
     "output_type": "stream",
     "text": [
      "(4014, 10)\n"
     ]
    },
    {
     "data": {
      "text/html": [
       "<div>\n",
       "<style scoped>\n",
       "    .dataframe tbody tr th:only-of-type {\n",
       "        vertical-align: middle;\n",
       "    }\n",
       "\n",
       "    .dataframe tbody tr th {\n",
       "        vertical-align: top;\n",
       "    }\n",
       "\n",
       "    .dataframe thead th {\n",
       "        text-align: right;\n",
       "    }\n",
       "</style>\n",
       "<table border=\"1\" class=\"dataframe\">\n",
       "  <thead>\n",
       "    <tr style=\"text-align: right;\">\n",
       "      <th></th>\n",
       "      <th>Code</th>\n",
       "      <th>Text</th>\n",
       "      <th>Code.1</th>\n",
       "      <th>Text.1</th>\n",
       "      <th>N patients</th>\n",
       "      <th>RR</th>\n",
       "      <th>estimated</th>\n",
       "      <th>sampled</th>\n",
       "      <th>N samples</th>\n",
       "      <th>p-value</th>\n",
       "    </tr>\n",
       "  </thead>\n",
       "  <tbody>\n",
       "    <tr>\n",
       "      <th>0</th>\n",
       "      <td>C34</td>\n",
       "      <td>Malignant neoplasm of bronchus and lung</td>\n",
       "      <td>D63</td>\n",
       "      <td>Anaemia in chronic diseases classified elsewhere</td>\n",
       "      <td>2889</td>\n",
       "      <td>3.097193</td>\n",
       "      <td>0.0</td>\n",
       "      <td>&lt; 1.214E-08</td>\n",
       "      <td>82360600</td>\n",
       "      <td>0.0</td>\n",
       "    </tr>\n",
       "    <tr>\n",
       "      <th>1</th>\n",
       "      <td>C50</td>\n",
       "      <td>Malignant neoplasm of breast</td>\n",
       "      <td>C78</td>\n",
       "      <td>Secondary malignant neoplasm of respiratory an...</td>\n",
       "      <td>5890</td>\n",
       "      <td>3.812002</td>\n",
       "      <td>0.0</td>\n",
       "      <td>&lt; 1.214E-08</td>\n",
       "      <td>82360600</td>\n",
       "      <td>0.0</td>\n",
       "    </tr>\n",
       "  </tbody>\n",
       "</table>\n",
       "</div>"
      ],
      "text/plain": [
       "  Code                                     Text Code.1  \\\n",
       "0  C34  Malignant neoplasm of bronchus and lung    D63   \n",
       "1  C50             Malignant neoplasm of breast    C78   \n",
       "\n",
       "                                              Text.1  N patients        RR  \\\n",
       "0   Anaemia in chronic diseases classified elsewhere        2889  3.097193   \n",
       "1  Secondary malignant neoplasm of respiratory an...        5890  3.812002   \n",
       "\n",
       "   estimated      sampled  N samples  p-value  \n",
       "0        0.0  < 1.214E-08   82360600      0.0  \n",
       "1        0.0  < 1.214E-08   82360600      0.0  "
      ]
     },
     "execution_count": 3,
     "metadata": {},
     "output_type": "execute_result"
    }
   ],
   "source": [
    "trajectory_df = pd.read_excel(\"2014_BFncomms_suppledata1.xlsx\",skiprows=4)\n",
    "print(trajectory_df.shape)\n",
    "trajectory_df[:2]"
   ]
  },
  {
   "cell_type": "code",
   "execution_count": 4,
   "id": "c5989fe1",
   "metadata": {},
   "outputs": [
    {
     "data": {
      "text/html": [
       "<div>\n",
       "<style scoped>\n",
       "    .dataframe tbody tr th:only-of-type {\n",
       "        vertical-align: middle;\n",
       "    }\n",
       "\n",
       "    .dataframe tbody tr th {\n",
       "        vertical-align: top;\n",
       "    }\n",
       "\n",
       "    .dataframe thead th {\n",
       "        text-align: right;\n",
       "    }\n",
       "</style>\n",
       "<table border=\"1\" class=\"dataframe\">\n",
       "  <thead>\n",
       "    <tr style=\"text-align: right;\">\n",
       "      <th></th>\n",
       "      <th>Pediatric Obesity</th>\n",
       "      <th>Orthostatic Intolerance</th>\n",
       "      <th>Seizures</th>\n",
       "      <th>Muscle Weakness</th>\n",
       "      <th>Persistent Vegetative State</th>\n",
       "      <th>Chills</th>\n",
       "      <th>Sweating Sickness</th>\n",
       "      <th>Ataxia</th>\n",
       "      <th>Nocturia</th>\n",
       "      <th>Fetal Distress</th>\n",
       "      <th>...</th>\n",
       "      <th>Hypercalciuria</th>\n",
       "      <th>Chronic Pain</th>\n",
       "      <th>Hematemesis</th>\n",
       "      <th>Angina Pectoris</th>\n",
       "      <th>Vision, Low</th>\n",
       "      <th>Muscle Hypertonia</th>\n",
       "      <th>Hearing Loss, Functional</th>\n",
       "      <th>Breakthrough Pain</th>\n",
       "      <th>Mutism</th>\n",
       "      <th>Cerebrospinal Fluid Otorrhea</th>\n",
       "    </tr>\n",
       "  </thead>\n",
       "  <tbody>\n",
       "    <tr>\n",
       "      <th>Nevus, Intradermal</th>\n",
       "      <td>0.0</td>\n",
       "      <td>0.0</td>\n",
       "      <td>0.0</td>\n",
       "      <td>0.000000</td>\n",
       "      <td>0.0</td>\n",
       "      <td>0.0</td>\n",
       "      <td>0.0</td>\n",
       "      <td>0.0</td>\n",
       "      <td>0.0</td>\n",
       "      <td>0.0</td>\n",
       "      <td>...</td>\n",
       "      <td>0.0</td>\n",
       "      <td>0.000000</td>\n",
       "      <td>0.0</td>\n",
       "      <td>0.0</td>\n",
       "      <td>0.0</td>\n",
       "      <td>0.0</td>\n",
       "      <td>0.0</td>\n",
       "      <td>0.0</td>\n",
       "      <td>0.0</td>\n",
       "      <td>0.0</td>\n",
       "    </tr>\n",
       "    <tr>\n",
       "      <th>Superinfection</th>\n",
       "      <td>0.0</td>\n",
       "      <td>0.0</td>\n",
       "      <td>0.0</td>\n",
       "      <td>0.635781</td>\n",
       "      <td>0.0</td>\n",
       "      <td>0.0</td>\n",
       "      <td>0.0</td>\n",
       "      <td>0.0</td>\n",
       "      <td>0.0</td>\n",
       "      <td>0.0</td>\n",
       "      <td>...</td>\n",
       "      <td>0.0</td>\n",
       "      <td>1.309646</td>\n",
       "      <td>0.0</td>\n",
       "      <td>0.0</td>\n",
       "      <td>0.0</td>\n",
       "      <td>0.0</td>\n",
       "      <td>0.0</td>\n",
       "      <td>0.0</td>\n",
       "      <td>0.0</td>\n",
       "      <td>0.0</td>\n",
       "    </tr>\n",
       "  </tbody>\n",
       "</table>\n",
       "<p>2 rows × 385 columns</p>\n",
       "</div>"
      ],
      "text/plain": [
       "                    Pediatric Obesity  Orthostatic Intolerance  Seizures  \\\n",
       "Nevus, Intradermal                0.0                      0.0       0.0   \n",
       "Superinfection                    0.0                      0.0       0.0   \n",
       "\n",
       "                    Muscle Weakness  Persistent Vegetative State  Chills  \\\n",
       "Nevus, Intradermal         0.000000                          0.0     0.0   \n",
       "Superinfection             0.635781                          0.0     0.0   \n",
       "\n",
       "                    Sweating Sickness  Ataxia  Nocturia  Fetal Distress  ...  \\\n",
       "Nevus, Intradermal                0.0     0.0       0.0             0.0  ...   \n",
       "Superinfection                    0.0     0.0       0.0             0.0  ...   \n",
       "\n",
       "                    Hypercalciuria  Chronic Pain  Hematemesis  \\\n",
       "Nevus, Intradermal             0.0      0.000000          0.0   \n",
       "Superinfection                 0.0      1.309646          0.0   \n",
       "\n",
       "                    Angina Pectoris  Vision, Low  Muscle Hypertonia  \\\n",
       "Nevus, Intradermal              0.0          0.0                0.0   \n",
       "Superinfection                  0.0          0.0                0.0   \n",
       "\n",
       "                    Hearing Loss, Functional  Breakthrough Pain  Mutism  \\\n",
       "Nevus, Intradermal                       0.0                0.0     0.0   \n",
       "Superinfection                           0.0                0.0     0.0   \n",
       "\n",
       "                    Cerebrospinal Fluid Otorrhea  \n",
       "Nevus, Intradermal                           0.0  \n",
       "Superinfection                               0.0  \n",
       "\n",
       "[2 rows x 385 columns]"
      ]
     },
     "execution_count": 4,
     "metadata": {},
     "output_type": "execute_result"
    }
   ],
   "source": [
    "sym_fea = pd.read_csv(\"../../../../extract_pubmed/2020_TF-IDF_dropdup.csv\",index_col=0)\n",
    "sym_fea[:2]"
   ]
  },
  {
   "cell_type": "code",
   "execution_count": 5,
   "id": "2d730a84",
   "metadata": {},
   "outputs": [
    {
     "name": "stdout",
     "output_type": "stream",
     "text": [
      "(2788, 5)\n"
     ]
    },
    {
     "data": {
      "text/html": [
       "<div>\n",
       "<style scoped>\n",
       "    .dataframe tbody tr th:only-of-type {\n",
       "        vertical-align: middle;\n",
       "    }\n",
       "\n",
       "    .dataframe tbody tr th {\n",
       "        vertical-align: top;\n",
       "    }\n",
       "\n",
       "    .dataframe thead th {\n",
       "        text-align: right;\n",
       "    }\n",
       "</style>\n",
       "<table border=\"1\" class=\"dataframe\">\n",
       "  <thead>\n",
       "    <tr style=\"text-align: right;\">\n",
       "      <th></th>\n",
       "      <th>diseaseId</th>\n",
       "      <th>name</th>\n",
       "      <th>vocabulary</th>\n",
       "      <th>code</th>\n",
       "      <th>vocabularyName</th>\n",
       "    </tr>\n",
       "  </thead>\n",
       "  <tbody>\n",
       "    <tr>\n",
       "      <th>0</th>\n",
       "      <td>C0008354</td>\n",
       "      <td>Cholera</td>\n",
       "      <td>ICD10</td>\n",
       "      <td>A00</td>\n",
       "      <td>Cholera</td>\n",
       "    </tr>\n",
       "    <tr>\n",
       "      <th>1</th>\n",
       "      <td>C0178238</td>\n",
       "      <td>Intestinal infectious disease (disorder)</td>\n",
       "      <td>ICD10</td>\n",
       "      <td>A00-A09.9</td>\n",
       "      <td>Intestinal infectious diseases</td>\n",
       "    </tr>\n",
       "  </tbody>\n",
       "</table>\n",
       "</div>"
      ],
      "text/plain": [
       "  diseaseId                                      name vocabulary       code  \\\n",
       "0  C0008354                                   Cholera      ICD10        A00   \n",
       "1  C0178238  Intestinal infectious disease (disorder)      ICD10  A00-A09.9   \n",
       "\n",
       "                   vocabularyName  \n",
       "0                         Cholera  \n",
       "1  Intestinal infectious diseases  "
      ]
     },
     "execution_count": 5,
     "metadata": {},
     "output_type": "execute_result"
    }
   ],
   "source": [
    "# UMLS-ICD10\n",
    "mapping_df = pd.read_csv(\"../DisGeNET-disease_mappings.tsv\",sep=\"\\t\")\n",
    "mapping_df = mapping_df[mapping_df[\"vocabulary\"]==\"ICD10\"]\n",
    "mapping_df.reset_index(drop=True,inplace=True)\n",
    "print(mapping_df.shape)\n",
    "mapping_df[:2]"
   ]
  },
  {
   "cell_type": "markdown",
   "id": "f5e2dac5",
   "metadata": {},
   "source": [
    "### ICD10 trans MSH\n",
    "- ICD10 --> UMLS -->MSH  ,288-->135-->85 diseases"
   ]
  },
  {
   "cell_type": "code",
   "execution_count": 6,
   "id": "1e25ec9b",
   "metadata": {},
   "outputs": [
    {
     "name": "stdout",
     "output_type": "stream",
     "text": [
      "288\n"
     ]
    }
   ],
   "source": [
    "#trajectory_df \n",
    "dis_in_trajector = set(trajectory_df[\"Text\"]) & set(trajectory_df[\"Text.1\"])\n",
    "print(len(dis_in_trajector))\n",
    "dis_in_trajector = list(dis_in_trajector)"
   ]
  },
  {
   "cell_type": "code",
   "execution_count": 7,
   "id": "7e0d8322",
   "metadata": {},
   "outputs": [
    {
     "name": "stdout",
     "output_type": "stream",
     "text": [
      "135\n"
     ]
    }
   ],
   "source": [
    "# 1、ICD10->UMLS\n",
    "icd_to_umls = {}\n",
    "for ite in range(len(mapping_df)):\n",
    "    vacName = mapping_df.loc[ite,\"vocabularyName\"]\n",
    "    if vacName in dis_in_trajector:\n",
    "        icd_to_umls[vacName] = mapping_df.loc[ite,\"name\"]\n",
    "        \n",
    "print(len(icd_to_umls))"
   ]
  },
  {
   "cell_type": "code",
   "execution_count": 8,
   "id": "decc1760",
   "metadata": {},
   "outputs": [
    {
     "name": "stdout",
     "output_type": "stream",
     "text": [
      "(29335, 5)\n",
      "  diseaseId                       name vocabulary        code  \\\n",
      "0  C1970109  AROMATASE EXCESS SYNDROME        MSH  C000591739   \n",
      "1  C1970109  AROMATASE EXCESS SYNDROME        MSH  C000591739   \n",
      "\n",
      "                                      vocabularyName  \n",
      "0                          Aromatase Excess Syndrome  \n",
      "1  Familial gynecomastia, due to increased aromat...  \n",
      "135\n",
      "135\n"
     ]
    }
   ],
   "source": [
    "# 2、UMLS->MESH\n",
    "mapping_df_MSH = pd.read_csv(\"../DisGeNET-disease_mappings.tsv\",sep=\"\\t\")\n",
    "mapping_df_MSH = mapping_df_MSH[mapping_df_MSH[\"vocabulary\"]==\"MSH\"]\n",
    "mapping_df_MSH.reset_index(drop=True,inplace=True)\n",
    "print(mapping_df_MSH.shape)\n",
    "print(mapping_df_MSH[:2])\n",
    "\n",
    "# UMLS \n",
    "umls_dis_ls = list(icd_to_umls.values())\n",
    "print(len(umls_dis_ls))\n",
    "print(len(set(umls_dis_ls))) "
   ]
  },
  {
   "cell_type": "code",
   "execution_count": 9,
   "id": "af42f2d6",
   "metadata": {
    "collapsed": true
   },
   "outputs": [
    {
     "name": "stdout",
     "output_type": "stream",
     "text": [
      "1\n",
      "1\n",
      "0\n",
      "1\n",
      "1\n",
      "0\n",
      "2\n",
      "2\n",
      "0\n",
      "2\n",
      "2\n",
      "3\n",
      "2\n",
      "3\n",
      "3\n",
      "2\n",
      "1\n",
      "0\n",
      "5\n",
      "0\n",
      "0\n",
      "3\n",
      "2\n",
      "3\n",
      "0\n",
      "3\n",
      "7\n",
      "0\n",
      "0\n",
      "3\n",
      "7\n",
      "1\n",
      "3\n",
      "2\n",
      "3\n",
      "3\n",
      "1\n",
      "4\n",
      "6\n",
      "2\n",
      "1\n",
      "1\n",
      "0\n",
      "3\n",
      "1\n",
      "4\n",
      "0\n",
      "0\n",
      "4\n",
      "0\n",
      "5\n",
      "1\n",
      "16\n",
      "2\n",
      "4\n",
      "7\n",
      "0\n",
      "2\n",
      "3\n",
      "9\n",
      "0\n",
      "0\n",
      "1\n",
      "1\n",
      "0\n",
      "1\n",
      "0\n",
      "1\n",
      "0\n",
      "0\n",
      "2\n",
      "3\n",
      "6\n",
      "5\n",
      "1\n",
      "6\n",
      "3\n",
      "2\n",
      "0\n",
      "0\n",
      "0\n",
      "1\n",
      "3\n",
      "1\n",
      "0\n",
      "0\n",
      "0\n",
      "1\n",
      "1\n",
      "1\n",
      "1\n",
      "3\n",
      "1\n",
      "2\n",
      "2\n",
      "2\n",
      "0\n",
      "1\n",
      "0\n",
      "2\n",
      "2\n",
      "2\n",
      "1\n",
      "3\n",
      "2\n",
      "0\n",
      "1\n",
      "1\n",
      "2\n",
      "2\n",
      "1\n",
      "1\n",
      "5\n",
      "1\n",
      "2\n",
      "1\n",
      "2\n",
      "4\n",
      "0\n",
      "1\n",
      "0\n",
      "0\n",
      "0\n",
      "1\n",
      "2\n",
      "0\n",
      "0\n",
      "1\n",
      "0\n",
      "0\n",
      "2\n",
      "4\n",
      "1\n",
      "0\n",
      "5\n",
      "85\n"
     ]
    }
   ],
   "source": [
    "# UMLS->MESH\n",
    "umls_to_mesh ={}\n",
    "for umls_dis in umls_dis_ls:\n",
    "    umls_toMSH_df = mapping_df_MSH[mapping_df_MSH[\"name\"]==umls_dis]\n",
    "    if len(umls_dis_ls)>0:\n",
    "        print(len(umls_toMSH_df))\n",
    "        vacName_df = umls_toMSH_df[\"vocabularyName\"]\n",
    "        for dis_MSH in list(vacName_df):\n",
    "            if dis_MSH in list(sym_fea.index):\n",
    "                umls_to_mesh[umls_dis] = dis_MSH\n",
    "                \n",
    "print(len(umls_to_mesh)) #85"
   ]
  },
  {
   "cell_type": "code",
   "execution_count": 10,
   "id": "88c9e7d3",
   "metadata": {},
   "outputs": [
    {
     "name": "stdout",
     "output_type": "stream",
     "text": [
      "(85, 2)\n"
     ]
    },
    {
     "data": {
      "text/html": [
       "<div>\n",
       "<style scoped>\n",
       "    .dataframe tbody tr th:only-of-type {\n",
       "        vertical-align: middle;\n",
       "    }\n",
       "\n",
       "    .dataframe tbody tr th {\n",
       "        vertical-align: top;\n",
       "    }\n",
       "\n",
       "    .dataframe thead th {\n",
       "        text-align: right;\n",
       "    }\n",
       "</style>\n",
       "<table border=\"1\" class=\"dataframe\">\n",
       "  <thead>\n",
       "    <tr style=\"text-align: right;\">\n",
       "      <th></th>\n",
       "      <th>dis_umls</th>\n",
       "      <th>dis_mesh</th>\n",
       "    </tr>\n",
       "  </thead>\n",
       "  <tbody>\n",
       "    <tr>\n",
       "      <th>0</th>\n",
       "      <td>Erysipelas</td>\n",
       "      <td>Erysipelas</td>\n",
       "    </tr>\n",
       "    <tr>\n",
       "      <th>1</th>\n",
       "      <td>Herpes zoster disease</td>\n",
       "      <td>Herpes Zoster</td>\n",
       "    </tr>\n",
       "  </tbody>\n",
       "</table>\n",
       "</div>"
      ],
      "text/plain": [
       "                dis_umls       dis_mesh\n",
       "0             Erysipelas     Erysipelas\n",
       "1  Herpes zoster disease  Herpes Zoster"
      ]
     },
     "execution_count": 10,
     "metadata": {},
     "output_type": "execute_result"
    }
   ],
   "source": [
    "umls_to_mesh_df = pd.DataFrame(umls_to_mesh,index=[\"dis_mesh\"]).T\n",
    "umls_to_mesh_df.reset_index(inplace=True)\n",
    "umls_to_mesh_df.rename(columns={\"index\":\"dis_umls\"},inplace=True)\n",
    "print(umls_to_mesh_df.shape)\n",
    "umls_to_mesh_df[:2]"
   ]
  },
  {
   "cell_type": "code",
   "execution_count": 11,
   "id": "96f6483e",
   "metadata": {
    "code_folding": []
   },
   "outputs": [
    {
     "name": "stdout",
     "output_type": "stream",
     "text": [
      "ICD10:MESH 映射的 关系数： 85\n"
     ]
    }
   ],
   "source": [
    "# 3、ICD10->MESH \n",
    "icd_to_mesh={}\n",
    "\n",
    "for dis_icd in icd_to_umls.keys():\n",
    "    dis_umls = icd_to_umls[dis_icd]\n",
    "    if umls_to_mesh.__contains__(dis_umls):\n",
    "        icd_to_mesh[dis_icd]=umls_to_mesh[dis_umls]\n",
    "        \n",
    "print(\"ICD10:MESH 映射的 关系数：\",len(icd_to_mesh))"
   ]
  },
  {
   "cell_type": "markdown",
   "id": "0f53ec8b",
   "metadata": {},
   "source": [
    "### Extract trajectory  for 85 diseases\n",
    "- 152"
   ]
  },
  {
   "cell_type": "code",
   "execution_count": 12,
   "id": "d0472533",
   "metadata": {},
   "outputs": [
    {
     "name": "stdout",
     "output_type": "stream",
     "text": [
      "(152, 3)\n"
     ]
    },
    {
     "data": {
      "text/html": [
       "<div>\n",
       "<style scoped>\n",
       "    .dataframe tbody tr th:only-of-type {\n",
       "        vertical-align: middle;\n",
       "    }\n",
       "\n",
       "    .dataframe tbody tr th {\n",
       "        vertical-align: top;\n",
       "    }\n",
       "\n",
       "    .dataframe thead th {\n",
       "        text-align: right;\n",
       "    }\n",
       "</style>\n",
       "<table border=\"1\" class=\"dataframe\">\n",
       "  <thead>\n",
       "    <tr style=\"text-align: right;\">\n",
       "      <th></th>\n",
       "      <th>disA</th>\n",
       "      <th>disB</th>\n",
       "      <th>RR</th>\n",
       "    </tr>\n",
       "  </thead>\n",
       "  <tbody>\n",
       "    <tr>\n",
       "      <th>0</th>\n",
       "      <td>Diabetes Mellitus, Type 2</td>\n",
       "      <td>Diabetes Mellitus, Type 1</td>\n",
       "      <td>6.086008</td>\n",
       "    </tr>\n",
       "    <tr>\n",
       "      <th>1</th>\n",
       "      <td>Diabetes Mellitus, Type 2</td>\n",
       "      <td>Kidney Failure, Chronic</td>\n",
       "      <td>2.442088</td>\n",
       "    </tr>\n",
       "  </tbody>\n",
       "</table>\n",
       "</div>"
      ],
      "text/plain": [
       "                        disA                       disB        RR\n",
       "0  Diabetes Mellitus, Type 2  Diabetes Mellitus, Type 1  6.086008\n",
       "1  Diabetes Mellitus, Type 2    Kidney Failure, Chronic  2.442088"
      ]
     },
     "execution_count": 12,
     "metadata": {},
     "output_type": "execute_result"
    }
   ],
   "source": [
    "trajectory_trans = []\n",
    "\n",
    "for ite in range(len(trajectory_df)):\n",
    "    disA = trajectory_df.loc[ite,\"Text\"]\n",
    "    disB = trajectory_df.loc[ite,\"Text.1\"]\n",
    "    \n",
    "    if (disA in icd_to_mesh.keys()) and (disB in icd_to_mesh.keys()):\n",
    "        RR = trajectory_df.loc[ite,\"RR\"]\n",
    "        trajectory_trans.append([icd_to_mesh[disA],icd_to_mesh[disB],RR])\n",
    "\n",
    "trajectory_trans_df = pd.DataFrame(trajectory_trans)\n",
    "trajectory_trans_df.columns=[\"disA\",\"disB\",\"RR\"]\n",
    "print(trajectory_trans_df.shape)\n",
    "trajectory_trans_df[:2]"
   ]
  },
  {
   "cell_type": "code",
   "execution_count": 13,
   "id": "736ff606",
   "metadata": {},
   "outputs": [],
   "source": [
    "# trajectory_trans_df.to_csv(\"trajectory_after_idtrans.csv\")"
   ]
  },
  {
   "cell_type": "markdown",
   "id": "a0f56606",
   "metadata": {},
   "source": [
    "### Compare the differences\n",
    "- Pair with 85 diseases，7140/2 =3570 pairs（Because of the directionality, AB/BA counts as two pairs, but the predicted value counts as one pair. So sum the RR of AB/BA as the RR of a pair）"
   ]
  },
  {
   "cell_type": "code",
   "execution_count": 73,
   "id": "5a1aa183",
   "metadata": {},
   "outputs": [
    {
     "name": "stderr",
     "output_type": "stream",
     "text": [
      "E:\\Anaconda\\envs\\tf2\\lib\\site-packages\\numpy\\lib\\arraysetops.py:583: FutureWarning: elementwise comparison failed; returning scalar instead, but in the future will perform elementwise comparison\n",
      "  mask |= (ar1 == a)\n",
      "100%|██████████████████████████████████████████████████████████████████████████████████████████| 85/85 [00:00<?, ?it/s]"
     ]
    },
    {
     "name": "stdout",
     "output_type": "stream",
     "text": [
      "85\n"
     ]
    },
    {
     "name": "stderr",
     "output_type": "stream",
     "text": [
      "\n"
     ]
    },
    {
     "data": {
      "text/plain": [
       "[3333, 2113]"
      ]
     },
     "execution_count": 73,
     "metadata": {},
     "output_type": "execute_result"
    }
   ],
   "source": [
    "predict_score = pd.read_csv(\"../../visualization/model_predictAll_result.csv\",index_col=0)\n",
    "\n",
    "#extract index of 85 diseases in 4268\n",
    "dis_index_inSym = []\n",
    "sym_fea_index_lower = [s.lower() for s in sym_fea.index]\n",
    "\n",
    "for dis in tqdm(icd_to_mesh.values()):\n",
    "    index_inSym = sym_fea_index_lower.index(dis.lower())\n",
    "    dis_index_inSym.append(index_inSym)\n",
    "    \n",
    "print(len(dis_index_inSym))\n",
    "dis_index_inSym[:2]"
   ]
  },
  {
   "cell_type": "code",
   "execution_count": 99,
   "id": "c28b9044",
   "metadata": {
    "scrolled": true
   },
   "outputs": [
    {
     "name": "stderr",
     "output_type": "stream",
     "text": [
      "100%|██████████████████████████████████████████████████████████████████████████████████| 85/85 [00:05<00:00, 15.71it/s]"
     ]
    },
    {
     "name": "stdout",
     "output_type": "stream",
     "text": [
      "3570 True\n"
     ]
    },
    {
     "name": "stderr",
     "output_type": "stream",
     "text": [
      "\n"
     ]
    },
    {
     "data": {
      "text/plain": [
       "[0.0, 0.0]"
      ]
     },
     "execution_count": 99,
     "metadata": {},
     "output_type": "execute_result"
    }
   ],
   "source": [
    "scoreABs = []\n",
    "scoreBAs = []\n",
    "trajectory_confs = [] \n",
    "trajectory_ABs = []\n",
    "trajectory_BAs = []\n",
    "\n",
    "for indexA in tqdm(range(len(icd_to_mesh.values()))):\n",
    "    disA = list(icd_to_mesh.values())[indexA]\n",
    "    disA_index = dis_index_inSym[list(icd_to_mesh.values()).index(disA)]\n",
    "    \n",
    "    for indexB in range(indexA+1,len(icd_to_mesh.values())):\n",
    "        disB = list(icd_to_mesh.values())[indexB]\n",
    "        disB_index = dis_index_inSym[list(icd_to_mesh.values()).index(disB)]\n",
    "        \n",
    "        scoreAB = predict_score.loc[disA_index*4268+disB_index]\n",
    "        scoreBA = predict_score.loc[disB_index*4268+disA_index]\n",
    "        scoreABs.append(scoreAB)\n",
    "        scoreBAs.append(scoreBA)\n",
    "            \n",
    "        #construct RR\n",
    "        con_df_AB = trajectory_trans_df.loc[(trajectory_trans_df[\"disA\"]==disA) & (trajectory_trans_df[\"disB\"]==disB)]\n",
    "        if len(con_df_AB)>0:\n",
    "            RR = list(trajectory_trans_df[\"RR\"])[0]\n",
    "            trajectory_ABs.append(RR)\n",
    "        else:\n",
    "            trajectory_ABs.append(0.0)\n",
    "            \n",
    "        con_df_BA = trajectory_trans_df.loc[(trajectory_trans_df[\"disA\"]==disB) & (trajectory_trans_df[\"disB\"]==disA)]\n",
    "        if len(con_df_BA)>0:\n",
    "            RR = list(trajectory_trans_df[\"RR\"])[0]\n",
    "            trajectory_BAs.append(RR)\n",
    "        else:\n",
    "            trajectory_BAs.append(0.0)\n",
    "            \n",
    "print(len(trajectory_ABs),len(trajectory_ABs)==len(scoreABs))\n",
    "trajectory_ABs[:2]"
   ]
  },
  {
   "cell_type": "code",
   "execution_count": 100,
   "id": "dbbf6103",
   "metadata": {},
   "outputs": [
    {
     "name": "stdout",
     "output_type": "stream",
     "text": [
      "[9.83330625e-01 2.79728812e-01 9.82884150e-01 2.88282790e-01\n",
      " 3.88150999e-01 3.59595419e-01 2.54322404e-03 2.54322404e-03\n",
      " 1.67670472e-03 6.02645690e-04]\n",
      "[0. 0. 0. 0. 0. 0. 0. 0. 0. 0.]\n"
     ]
    }
   ],
   "source": [
    "# average scoreAB and scoreBA as similarity of disease A and disease B\n",
    "scores_predict=[] \n",
    "scores_predict = np.sum([scoreABs,scoreBAs],axis=0)/2\n",
    "scores_predict = scores_predict.squeeze()\n",
    "\n",
    "print(scores_predict[:10])\n",
    "\n",
    "trajectory_confs = np.sum([trajectory_ABs,trajectory_BAs],axis=0)/2\n",
    "trajectory_confs = trajectory_confs.squeeze()\n",
    "\n",
    "print(trajectory_confs[:10])"
   ]
  },
  {
   "cell_type": "code",
   "execution_count": 101,
   "id": "711f116b",
   "metadata": {},
   "outputs": [
    {
     "name": "stdout",
     "output_type": "stream",
     "text": [
      "1356 -- 2214\n"
     ]
    }
   ],
   "source": [
    "trajectory_sim = []\n",
    "trajectory_unsim = []\n",
    "\n",
    "for i in range(len(scores_predict)):\n",
    "    score = scores_predict[i]\n",
    "    if score>=0.5:\n",
    "        trajectory_sim.append(trajectory_confs[i])\n",
    "    elif score<0.5:\n",
    "        trajectory_unsim.append(trajectory_confs[i])\n",
    "        \n",
    "print(len(trajectory_sim),\"--\",len(trajectory_unsim))"
   ]
  },
  {
   "cell_type": "markdown",
   "id": "89e0648f",
   "metadata": {},
   "source": [
    "#### Calculate distribution difference"
   ]
  },
  {
   "cell_type": "code",
   "execution_count": 103,
   "id": "19a687b0",
   "metadata": {},
   "outputs": [
    {
     "data": {
      "text/plain": [
       "MannwhitneyuResult(statistic=1517631.0, pvalue=0.11359433360074186)"
      ]
     },
     "execution_count": 103,
     "metadata": {},
     "output_type": "execute_result"
    }
   ],
   "source": [
    "distribution_dif = stats.mannwhitneyu(trajectory_sim,trajectory_unsim,alternative='two-sided')\n",
    "distribution_dif"
   ]
  },
  {
   "cell_type": "code",
   "execution_count": 104,
   "id": "db761065",
   "metadata": {},
   "outputs": [
    {
     "name": "stdout",
     "output_type": "stream",
     "text": [
      "0.1503549174041298\n",
      "0.11682716350496837\n"
     ]
    }
   ],
   "source": [
    "print(np.mean(trajectory_sim))\n",
    "print(np.mean(trajectory_unsim))"
   ]
  },
  {
   "cell_type": "code",
   "execution_count": 105,
   "id": "9a19a43f",
   "metadata": {},
   "outputs": [],
   "source": [
    "# pd.Series(trajectory_sim).to_csv(\"trajectory_sim.csv\",index=\"RR\")\n",
    "# pd.Series(trajectory_unsim).to_csv(\"trajectory_unsim.csv\",index=\"RR\")"
   ]
  },
  {
   "cell_type": "code",
   "execution_count": null,
   "id": "2132ca61",
   "metadata": {},
   "outputs": [],
   "source": []
  }
 ],
 "metadata": {
  "kernelspec": {
   "display_name": "Python 3",
   "language": "python",
   "name": "python3"
  },
  "language_info": {
   "codemirror_mode": {
    "name": "ipython",
    "version": 3
   },
   "file_extension": ".py",
   "mimetype": "text/x-python",
   "name": "python",
   "nbconvert_exporter": "python",
   "pygments_lexer": "ipython3",
   "version": "3.7.10"
  },
  "toc": {
   "base_numbering": 1,
   "nav_menu": {},
   "number_sections": true,
   "sideBar": true,
   "skip_h1_title": false,
   "title_cell": "Table of Contents",
   "title_sidebar": "Contents",
   "toc_cell": false,
   "toc_position": {
    "height": "calc(100% - 180px)",
    "left": "10px",
    "top": "150px",
    "width": "307.2px"
   },
   "toc_section_display": true,
   "toc_window_display": true
  }
 },
 "nbformat": 4,
 "nbformat_minor": 5
}
