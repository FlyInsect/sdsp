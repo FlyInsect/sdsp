{
 "cells": [
  {
   "cell_type": "code",
   "execution_count": 1,
   "id": "f07b52ce",
   "metadata": {},
   "outputs": [],
   "source": [
    "import pandas as pd\n",
    "import numpy as np\n",
    "from tqdm import tqdm\n",
    "\n",
    "import scipy.stats as stats"
   ]
  },
  {
   "cell_type": "code",
   "execution_count": 2,
   "id": "a628be71",
   "metadata": {
    "scrolled": true
   },
   "outputs": [
    {
     "data": {
      "text/html": [
       "<div>\n",
       "<style scoped>\n",
       "    .dataframe tbody tr th:only-of-type {\n",
       "        vertical-align: middle;\n",
       "    }\n",
       "\n",
       "    .dataframe tbody tr th {\n",
       "        vertical-align: top;\n",
       "    }\n",
       "\n",
       "    .dataframe thead th {\n",
       "        text-align: right;\n",
       "    }\n",
       "</style>\n",
       "<table border=\"1\" class=\"dataframe\">\n",
       "  <thead>\n",
       "    <tr style=\"text-align: right;\">\n",
       "      <th></th>\n",
       "      <th>Pediatric Obesity</th>\n",
       "      <th>Orthostatic Intolerance</th>\n",
       "      <th>Seizures</th>\n",
       "      <th>Muscle Weakness</th>\n",
       "      <th>Persistent Vegetative State</th>\n",
       "      <th>Chills</th>\n",
       "      <th>Sweating Sickness</th>\n",
       "      <th>Ataxia</th>\n",
       "      <th>Nocturia</th>\n",
       "      <th>Fetal Distress</th>\n",
       "      <th>...</th>\n",
       "      <th>Hypercalciuria</th>\n",
       "      <th>Chronic Pain</th>\n",
       "      <th>Hematemesis</th>\n",
       "      <th>Angina Pectoris</th>\n",
       "      <th>Vision, Low</th>\n",
       "      <th>Muscle Hypertonia</th>\n",
       "      <th>Hearing Loss, Functional</th>\n",
       "      <th>Breakthrough Pain</th>\n",
       "      <th>Mutism</th>\n",
       "      <th>Cerebrospinal Fluid Otorrhea</th>\n",
       "    </tr>\n",
       "  </thead>\n",
       "  <tbody>\n",
       "    <tr>\n",
       "      <th>Nevus, Intradermal</th>\n",
       "      <td>0.0</td>\n",
       "      <td>0.0</td>\n",
       "      <td>0.0</td>\n",
       "      <td>0.000000</td>\n",
       "      <td>0.0</td>\n",
       "      <td>0.0</td>\n",
       "      <td>0.0</td>\n",
       "      <td>0.0</td>\n",
       "      <td>0.0</td>\n",
       "      <td>0.0</td>\n",
       "      <td>...</td>\n",
       "      <td>0.0</td>\n",
       "      <td>0.000000</td>\n",
       "      <td>0.0</td>\n",
       "      <td>0.0</td>\n",
       "      <td>0.0</td>\n",
       "      <td>0.0</td>\n",
       "      <td>0.0</td>\n",
       "      <td>0.0</td>\n",
       "      <td>0.0</td>\n",
       "      <td>0.0</td>\n",
       "    </tr>\n",
       "    <tr>\n",
       "      <th>Superinfection</th>\n",
       "      <td>0.0</td>\n",
       "      <td>0.0</td>\n",
       "      <td>0.0</td>\n",
       "      <td>0.635781</td>\n",
       "      <td>0.0</td>\n",
       "      <td>0.0</td>\n",
       "      <td>0.0</td>\n",
       "      <td>0.0</td>\n",
       "      <td>0.0</td>\n",
       "      <td>0.0</td>\n",
       "      <td>...</td>\n",
       "      <td>0.0</td>\n",
       "      <td>1.309646</td>\n",
       "      <td>0.0</td>\n",
       "      <td>0.0</td>\n",
       "      <td>0.0</td>\n",
       "      <td>0.0</td>\n",
       "      <td>0.0</td>\n",
       "      <td>0.0</td>\n",
       "      <td>0.0</td>\n",
       "      <td>0.0</td>\n",
       "    </tr>\n",
       "  </tbody>\n",
       "</table>\n",
       "<p>2 rows × 385 columns</p>\n",
       "</div>"
      ],
      "text/plain": [
       "                    Pediatric Obesity  Orthostatic Intolerance  Seizures  \\\n",
       "Nevus, Intradermal                0.0                      0.0       0.0   \n",
       "Superinfection                    0.0                      0.0       0.0   \n",
       "\n",
       "                    Muscle Weakness  Persistent Vegetative State  Chills  \\\n",
       "Nevus, Intradermal         0.000000                          0.0     0.0   \n",
       "Superinfection             0.635781                          0.0     0.0   \n",
       "\n",
       "                    Sweating Sickness  Ataxia  Nocturia  Fetal Distress  ...  \\\n",
       "Nevus, Intradermal                0.0     0.0       0.0             0.0  ...   \n",
       "Superinfection                    0.0     0.0       0.0             0.0  ...   \n",
       "\n",
       "                    Hypercalciuria  Chronic Pain  Hematemesis  \\\n",
       "Nevus, Intradermal             0.0      0.000000          0.0   \n",
       "Superinfection                 0.0      1.309646          0.0   \n",
       "\n",
       "                    Angina Pectoris  Vision, Low  Muscle Hypertonia  \\\n",
       "Nevus, Intradermal              0.0          0.0                0.0   \n",
       "Superinfection                  0.0          0.0                0.0   \n",
       "\n",
       "                    Hearing Loss, Functional  Breakthrough Pain  Mutism  \\\n",
       "Nevus, Intradermal                       0.0                0.0     0.0   \n",
       "Superinfection                           0.0                0.0     0.0   \n",
       "\n",
       "                    Cerebrospinal Fluid Otorrhea  \n",
       "Nevus, Intradermal                           0.0  \n",
       "Superinfection                               0.0  \n",
       "\n",
       "[2 rows x 385 columns]"
      ]
     },
     "execution_count": 2,
     "metadata": {},
     "output_type": "execute_result"
    }
   ],
   "source": [
    "sym_fea = pd.read_csv(\"../../../../extract_pubmed/2020_TF-IDF_dropdup.csv\",index_col=0)\n",
    "sym_fea[:2]"
   ]
  },
  {
   "cell_type": "code",
   "execution_count": 37,
   "id": "5587a6c3",
   "metadata": {},
   "outputs": [
    {
     "name": "stdout",
     "output_type": "stream",
     "text": [
      "(7682773, 10)\n"
     ]
    },
    {
     "data": {
      "text/html": [
       "<div>\n",
       "<style scoped>\n",
       "    .dataframe tbody tr th:only-of-type {\n",
       "        vertical-align: middle;\n",
       "    }\n",
       "\n",
       "    .dataframe tbody tr th {\n",
       "        vertical-align: top;\n",
       "    }\n",
       "\n",
       "    .dataframe thead th {\n",
       "        text-align: right;\n",
       "    }\n",
       "</style>\n",
       "<table border=\"1\" class=\"dataframe\">\n",
       "  <thead>\n",
       "    <tr style=\"text-align: right;\">\n",
       "      <th></th>\n",
       "      <th>ChemicalName</th>\n",
       "      <th>ChemicalID</th>\n",
       "      <th>CasRN</th>\n",
       "      <th>DiseaseName</th>\n",
       "      <th>DiseaseID</th>\n",
       "      <th>DirectEvidence</th>\n",
       "      <th>InferenceGeneSymbol</th>\n",
       "      <th>InferenceScore</th>\n",
       "      <th>OmimIDs</th>\n",
       "      <th>PubMedIDs</th>\n",
       "    </tr>\n",
       "  </thead>\n",
       "  <tbody>\n",
       "    <tr>\n",
       "      <th>0</th>\n",
       "      <td>06-Paris-LA-66 protocol</td>\n",
       "      <td>C046983</td>\n",
       "      <td>NaN</td>\n",
       "      <td>Precursor Cell Lymphoblastic Leukemia-Lymphoma</td>\n",
       "      <td>MESH:D054198</td>\n",
       "      <td>therapeutic</td>\n",
       "      <td>NaN</td>\n",
       "      <td>NaN</td>\n",
       "      <td>NaN</td>\n",
       "      <td>4519131</td>\n",
       "    </tr>\n",
       "    <tr>\n",
       "      <th>1</th>\n",
       "      <td>10074-G5</td>\n",
       "      <td>C534883</td>\n",
       "      <td>NaN</td>\n",
       "      <td>Adenocarcinoma</td>\n",
       "      <td>MESH:D000230</td>\n",
       "      <td>NaN</td>\n",
       "      <td>MYC</td>\n",
       "      <td>4.08</td>\n",
       "      <td>NaN</td>\n",
       "      <td>26432044</td>\n",
       "    </tr>\n",
       "  </tbody>\n",
       "</table>\n",
       "</div>"
      ],
      "text/plain": [
       "              ChemicalName ChemicalID CasRN  \\\n",
       "0  06-Paris-LA-66 protocol    C046983   NaN   \n",
       "1                 10074-G5    C534883   NaN   \n",
       "\n",
       "                                      DiseaseName     DiseaseID  \\\n",
       "0  Precursor Cell Lymphoblastic Leukemia-Lymphoma  MESH:D054198   \n",
       "1                                  Adenocarcinoma  MESH:D000230   \n",
       "\n",
       "  DirectEvidence InferenceGeneSymbol  InferenceScore OmimIDs PubMedIDs  \n",
       "0    therapeutic                 NaN             NaN     NaN   4519131  \n",
       "1            NaN                 MYC            4.08     NaN  26432044  "
      ]
     },
     "execution_count": 37,
     "metadata": {},
     "output_type": "execute_result"
    }
   ],
   "source": [
    "ori_df = pd.read_csv(\"CTD_chemicals_diseases.csv\",sep=\",\",skiprows=27)\n",
    "print(ori_df.shape)\n",
    "ori_df[:2]"
   ]
  },
  {
   "cell_type": "markdown",
   "id": "73cfa6fe",
   "metadata": {},
   "source": [
    "#### extract items  are which therapeutic ，marker/mechanism ，InferenceScore>median\n",
    "    -3893522"
   ]
  },
  {
   "cell_type": "code",
   "execution_count": 5,
   "id": "8087eb99",
   "metadata": {
    "scrolled": true
   },
   "outputs": [
    {
     "data": {
      "text/plain": [
       "marker/mechanism    65958\n",
       "therapeutic         36969\n",
       "Name: DirectEvidence, dtype: int64"
      ]
     },
     "execution_count": 5,
     "metadata": {},
     "output_type": "execute_result"
    }
   ],
   "source": [
    "ori_df[\"DirectEvidence\"].value_counts()"
   ]
  },
  {
   "cell_type": "code",
   "execution_count": 48,
   "id": "1dea96a8",
   "metadata": {
    "scrolled": true
   },
   "outputs": [
    {
     "name": "stdout",
     "output_type": "stream",
     "text": [
      "22.68494197111658\n",
      "8.4\n"
     ]
    }
   ],
   "source": [
    "print(np.mean(ori_df[\"InferenceScore\"]))\n",
    "#median\n",
    "inferred_score_median = np.median(ori_df[pd.notnull(ori_df[\"InferenceScore\"])][\"InferenceScore\"])\n",
    "print(inferred_score_median)"
   ]
  },
  {
   "cell_type": "code",
   "execution_count": 47,
   "id": "12ac7ef0",
   "metadata": {
    "scrolled": true
   },
   "outputs": [
    {
     "name": "stdout",
     "output_type": "stream",
     "text": [
      "(3893522, 10)\n"
     ]
    },
    {
     "data": {
      "text/html": [
       "<div>\n",
       "<style scoped>\n",
       "    .dataframe tbody tr th:only-of-type {\n",
       "        vertical-align: middle;\n",
       "    }\n",
       "\n",
       "    .dataframe tbody tr th {\n",
       "        vertical-align: top;\n",
       "    }\n",
       "\n",
       "    .dataframe thead th {\n",
       "        text-align: right;\n",
       "    }\n",
       "</style>\n",
       "<table border=\"1\" class=\"dataframe\">\n",
       "  <thead>\n",
       "    <tr style=\"text-align: right;\">\n",
       "      <th></th>\n",
       "      <th>ChemicalName</th>\n",
       "      <th>ChemicalID</th>\n",
       "      <th>CasRN</th>\n",
       "      <th>DiseaseName</th>\n",
       "      <th>DiseaseID</th>\n",
       "      <th>DirectEvidence</th>\n",
       "      <th>InferenceGeneSymbol</th>\n",
       "      <th>InferenceScore</th>\n",
       "      <th>OmimIDs</th>\n",
       "      <th>PubMedIDs</th>\n",
       "    </tr>\n",
       "  </thead>\n",
       "  <tbody>\n",
       "    <tr>\n",
       "      <th>0</th>\n",
       "      <td>06-Paris-LA-66 protocol</td>\n",
       "      <td>C046983</td>\n",
       "      <td>NaN</td>\n",
       "      <td>Precursor Cell Lymphoblastic Leukemia-Lymphoma</td>\n",
       "      <td>MESH:D054198</td>\n",
       "      <td>therapeutic</td>\n",
       "      <td>NaN</td>\n",
       "      <td>NaN</td>\n",
       "      <td>NaN</td>\n",
       "      <td>4519131</td>\n",
       "    </tr>\n",
       "    <tr>\n",
       "      <th>89</th>\n",
       "      <td>10,10-bis(4-pyridinylmethyl)-9(10H)-anthracenone</td>\n",
       "      <td>C112297</td>\n",
       "      <td>NaN</td>\n",
       "      <td>Epilepsy</td>\n",
       "      <td>MESH:D004827</td>\n",
       "      <td>NaN</td>\n",
       "      <td>FOS</td>\n",
       "      <td>9.06</td>\n",
       "      <td>NaN</td>\n",
       "      <td>15973680</td>\n",
       "    </tr>\n",
       "    <tr>\n",
       "      <th>90</th>\n",
       "      <td>10,10-bis(4-pyridinylmethyl)-9(10H)-anthracenone</td>\n",
       "      <td>C112297</td>\n",
       "      <td>NaN</td>\n",
       "      <td>Epilepsy</td>\n",
       "      <td>MESH:D004827</td>\n",
       "      <td>NaN</td>\n",
       "      <td>KCNQ2</td>\n",
       "      <td>9.06</td>\n",
       "      <td>NaN</td>\n",
       "      <td>16464983|29942082</td>\n",
       "    </tr>\n",
       "  </tbody>\n",
       "</table>\n",
       "</div>"
      ],
      "text/plain": [
       "                                        ChemicalName ChemicalID CasRN  \\\n",
       "0                            06-Paris-LA-66 protocol    C046983   NaN   \n",
       "89  10,10-bis(4-pyridinylmethyl)-9(10H)-anthracenone    C112297   NaN   \n",
       "90  10,10-bis(4-pyridinylmethyl)-9(10H)-anthracenone    C112297   NaN   \n",
       "\n",
       "                                       DiseaseName     DiseaseID  \\\n",
       "0   Precursor Cell Lymphoblastic Leukemia-Lymphoma  MESH:D054198   \n",
       "89                                        Epilepsy  MESH:D004827   \n",
       "90                                        Epilepsy  MESH:D004827   \n",
       "\n",
       "   DirectEvidence InferenceGeneSymbol  InferenceScore OmimIDs  \\\n",
       "0     therapeutic                 NaN             NaN     NaN   \n",
       "89            NaN                 FOS            9.06     NaN   \n",
       "90            NaN               KCNQ2            9.06     NaN   \n",
       "\n",
       "            PubMedIDs  \n",
       "0             4519131  \n",
       "89           15973680  \n",
       "90  16464983|29942082  "
      ]
     },
     "execution_count": 47,
     "metadata": {},
     "output_type": "execute_result"
    }
   ],
   "source": [
    "filtered_df = ori_df[(ori_df[\"DirectEvidence\"]==\"therapeutic\") | \n",
    "                     (ori_df[\"DirectEvidence\"]==\"marker/mechanism\")|\n",
    "                     ((pd.notnull(ori_df[\"InferenceScore\"])) & (ori_df[\"InferenceScore\"]>=inferred_score_median))]\n",
    "\n",
    "print(filtered_df.shape)\n",
    "filtered_df[:3]"
   ]
  },
  {
   "cell_type": "code",
   "execution_count": 49,
   "id": "5b22824b",
   "metadata": {
    "scrolled": true
   },
   "outputs": [
    {
     "name": "stdout",
     "output_type": "stream",
     "text": [
      "(3893522, 3)\n"
     ]
    },
    {
     "data": {
      "text/html": [
       "<div>\n",
       "<style scoped>\n",
       "    .dataframe tbody tr th:only-of-type {\n",
       "        vertical-align: middle;\n",
       "    }\n",
       "\n",
       "    .dataframe tbody tr th {\n",
       "        vertical-align: top;\n",
       "    }\n",
       "\n",
       "    .dataframe thead th {\n",
       "        text-align: right;\n",
       "    }\n",
       "</style>\n",
       "<table border=\"1\" class=\"dataframe\">\n",
       "  <thead>\n",
       "    <tr style=\"text-align: right;\">\n",
       "      <th></th>\n",
       "      <th>ChemicalID</th>\n",
       "      <th>DiseaseName</th>\n",
       "      <th>DiseaseID</th>\n",
       "    </tr>\n",
       "  </thead>\n",
       "  <tbody>\n",
       "    <tr>\n",
       "      <th>0</th>\n",
       "      <td>C046983</td>\n",
       "      <td>Precursor Cell Lymphoblastic Leukemia-Lymphoma</td>\n",
       "      <td>MESH:D054198</td>\n",
       "    </tr>\n",
       "    <tr>\n",
       "      <th>89</th>\n",
       "      <td>C112297</td>\n",
       "      <td>Epilepsy</td>\n",
       "      <td>MESH:D004827</td>\n",
       "    </tr>\n",
       "  </tbody>\n",
       "</table>\n",
       "</div>"
      ],
      "text/plain": [
       "   ChemicalID                                     DiseaseName     DiseaseID\n",
       "0     C046983  Precursor Cell Lymphoblastic Leukemia-Lymphoma  MESH:D054198\n",
       "89    C112297                                        Epilepsy  MESH:D004827"
      ]
     },
     "execution_count": 49,
     "metadata": {},
     "output_type": "execute_result"
    }
   ],
   "source": [
    "disdrug_df = filtered_df[[\"ChemicalID\",\"DiseaseName\",\"DiseaseID\"]]\n",
    "print(disdrug_df.shape)\n",
    "disdrug_df[:2]"
   ]
  },
  {
   "cell_type": "markdown",
   "id": "ef597dfc",
   "metadata": {},
   "source": [
    "### Extract common diseases, and related drug sets\n",
    "- 2692 common diseases\n",
    "- drug sets：dis_related_drugs"
   ]
  },
  {
   "cell_type": "code",
   "execution_count": 50,
   "id": "a44d91df",
   "metadata": {},
   "outputs": [
    {
     "name": "stdout",
     "output_type": "stream",
     "text": [
      "2692\n"
     ]
    },
    {
     "data": {
      "text/plain": [
       "['Superinfection',\n",
       " 'Coloboma',\n",
       " 'Bronchial Hyperreactivity',\n",
       " 'Abnormalities, Radiation-Induced',\n",
       " 'Amyloidosis, Familial',\n",
       " 'Puberty, Delayed',\n",
       " 'Pilonidal Sinus',\n",
       " 'Hematoma, Subdural, Chronic',\n",
       " 'Cardiovirus Infections',\n",
       " 'Diffuse Axonal Injury']"
      ]
     },
     "execution_count": 50,
     "metadata": {},
     "output_type": "execute_result"
    }
   ],
   "source": [
    "con_dis = list(set(sym_fea.index) & set(disdrug_df[\"DiseaseName\"]))\n",
    "print(len(con_dis))\n",
    "con_dis[:10]"
   ]
  },
  {
   "cell_type": "code",
   "execution_count": 51,
   "id": "393ade0a",
   "metadata": {},
   "outputs": [
    {
     "data": {
      "text/html": [
       "<div>\n",
       "<style scoped>\n",
       "    .dataframe tbody tr th:only-of-type {\n",
       "        vertical-align: middle;\n",
       "    }\n",
       "\n",
       "    .dataframe tbody tr th {\n",
       "        vertical-align: top;\n",
       "    }\n",
       "\n",
       "    .dataframe thead th {\n",
       "        text-align: right;\n",
       "    }\n",
       "</style>\n",
       "<table border=\"1\" class=\"dataframe\">\n",
       "  <thead>\n",
       "    <tr style=\"text-align: right;\">\n",
       "      <th></th>\n",
       "      <th>ChemicalID</th>\n",
       "      <th>DiseaseName</th>\n",
       "      <th>DiseaseID</th>\n",
       "    </tr>\n",
       "  </thead>\n",
       "  <tbody>\n",
       "    <tr>\n",
       "      <th>0</th>\n",
       "      <td>C046983</td>\n",
       "      <td>Precursor Cell Lymphoblastic Leukemia-Lymphoma</td>\n",
       "      <td>MESH:D054198</td>\n",
       "    </tr>\n",
       "    <tr>\n",
       "      <th>89</th>\n",
       "      <td>C112297</td>\n",
       "      <td>Epilepsy</td>\n",
       "      <td>MESH:D004827</td>\n",
       "    </tr>\n",
       "    <tr>\n",
       "      <th>90</th>\n",
       "      <td>C112297</td>\n",
       "      <td>Epilepsy</td>\n",
       "      <td>MESH:D004827</td>\n",
       "    </tr>\n",
       "    <tr>\n",
       "      <th>162</th>\n",
       "      <td>C039775</td>\n",
       "      <td>Epilepsy</td>\n",
       "      <td>MESH:D004827</td>\n",
       "    </tr>\n",
       "    <tr>\n",
       "      <th>220</th>\n",
       "      <td>C094849</td>\n",
       "      <td>Acute Lung Injury</td>\n",
       "      <td>MESH:D055371</td>\n",
       "    </tr>\n",
       "  </tbody>\n",
       "</table>\n",
       "</div>"
      ],
      "text/plain": [
       "    ChemicalID                                     DiseaseName     DiseaseID\n",
       "0      C046983  Precursor Cell Lymphoblastic Leukemia-Lymphoma  MESH:D054198\n",
       "89     C112297                                        Epilepsy  MESH:D004827\n",
       "90     C112297                                        Epilepsy  MESH:D004827\n",
       "162    C039775                                        Epilepsy  MESH:D004827\n",
       "220    C094849                               Acute Lung Injury  MESH:D055371"
      ]
     },
     "execution_count": 51,
     "metadata": {},
     "output_type": "execute_result"
    }
   ],
   "source": [
    "con_disdrug_df = disdrug_df[[(i in con_dis) for i in list(disdrug_df[\"DiseaseName\"])]]\n",
    "con_disdrug_df.head()"
   ]
  },
  {
   "cell_type": "code",
   "execution_count": 52,
   "id": "12e336e2",
   "metadata": {},
   "outputs": [
    {
     "data": {
      "text/plain": [
       "(3365055, 3)"
      ]
     },
     "execution_count": 52,
     "metadata": {},
     "output_type": "execute_result"
    }
   ],
   "source": [
    "con_disdrug_df.shape"
   ]
  },
  {
   "cell_type": "code",
   "execution_count": 53,
   "id": "6a03ce57",
   "metadata": {},
   "outputs": [
    {
     "name": "stdout",
     "output_type": "stream",
     "text": [
      "2692\n"
     ]
    }
   ],
   "source": [
    "dis_related_drugs = {} #key：disease，value：related drug lists\n",
    "\n",
    "groupByDis = con_disdrug_df.groupby(\"DiseaseName\")\n",
    "for key,value in groupByDis:\n",
    "    dis_related_drugs[key] = list(value[\"ChemicalID\"])\n",
    "    \n",
    "print(len(dis_related_drugs))"
   ]
  },
  {
   "cell_type": "markdown",
   "id": "bdcb5ff0",
   "metadata": {},
   "source": [
    "### caculate Jaccard similarity"
   ]
  },
  {
   "cell_type": "code",
   "execution_count": 54,
   "id": "249e36cc",
   "metadata": {},
   "outputs": [
    {
     "name": "stderr",
     "output_type": "stream",
     "text": [
      "E:\\Anaconda\\envs\\tf2\\lib\\site-packages\\numpy\\lib\\arraysetops.py:583: FutureWarning: elementwise comparison failed; returning scalar instead, but in the future will perform elementwise comparison\n",
      "  mask |= (ar1 == a)\n"
     ]
    },
    {
     "name": "stdout",
     "output_type": "stream",
     "text": [
      "2692\n"
     ]
    },
    {
     "data": {
      "text/plain": [
       "[1, 2, 4, 3, 5]"
      ]
     },
     "execution_count": 54,
     "metadata": {},
     "output_type": "execute_result"
    }
   ],
   "source": [
    "predict_score = pd.read_csv(\"../../visualization/model_predictAll_result.csv\",index_col=0)\n",
    "\n",
    "#extract index\n",
    "dis_index_inSym = []\n",
    "sym_fea_index_lower = [s.lower() for s in sym_fea.index]\n",
    "\n",
    "for dis in con_dis:\n",
    "    index_inSym = sym_fea_index_lower.index(dis.lower())\n",
    "    dis_index_inSym.append(index_inSym)\n",
    "    \n",
    "print(len(dis_index_inSym))\n",
    "dis_index_inSym[:5]"
   ]
  },
  {
   "cell_type": "markdown",
   "id": "f12e459b",
   "metadata": {},
   "source": [
    "#### Jaccard\n",
    "- 2692 diseases"
   ]
  },
  {
   "cell_type": "code",
   "execution_count": 55,
   "id": "b2e5cbbd",
   "metadata": {
    "scrolled": true
   },
   "outputs": [
    {
     "name": "stderr",
     "output_type": "stream",
     "text": [
      "100%|██████████████████████████████████████████████████████████████████████████████| 2692/2692 [41:52<00:00,  1.07it/s]\n"
     ]
    },
    {
     "name": "stdout",
     "output_type": "stream",
     "text": [
      "3622086\n",
      "[0.0, 0.0, 0.0, 0.0, 0.0]\n"
     ]
    }
   ],
   "source": [
    "scores = []\n",
    "CTD_confs = [] \n",
    "\n",
    "for indexA in tqdm(range(len(con_dis))):\n",
    "    disA = con_dis[indexA]\n",
    "    disA_index = dis_index_inSym[list(con_dis).index(disA)]\n",
    "    \n",
    "    for indexB in range(indexA+1,len(con_dis)):\n",
    "        disB = con_dis[indexB]\n",
    "        disB_index = dis_index_inSym[list(con_dis).index(disB)]\n",
    "        \n",
    "        scoreAB = predict_score.loc[disA_index*4268+disB_index]\n",
    "        scoreBA = predict_score.loc[disB_index*4268+disA_index]\n",
    "        scores.append((scoreAB+scoreBA)/2)\n",
    "     \n",
    "        disA_drugs = dis_related_drugs[disA]\n",
    "        disB_drugs = dis_related_drugs[disB]\n",
    "        \n",
    "        share_drugs_num = len(list(set(disA_drugs) & (set(disB_drugs))))\n",
    "#         share_drugs_rate = share_drugs_num/(np.log(len(disA_drugs))*np.log(len(disB_drugs)))\n",
    "\n",
    "        union_drugs_num = len(list(set(disA_drugs) | (set(disB_drugs))))\n",
    "        share_drugs_jaccard = share_drugs_num/union_drugs_num\n",
    "    \n",
    "#         CTD_confs.append(share_drugs_rate)\n",
    "        CTD_confs.append(share_drugs_jaccard)\n",
    "        \n",
    "print(len(CTD_confs))\n",
    "print(CTD_confs[:5])"
   ]
  },
  {
   "cell_type": "code",
   "execution_count": 56,
   "id": "d7d1fed4",
   "metadata": {},
   "outputs": [
    {
     "name": "stdout",
     "output_type": "stream",
     "text": [
      "3622086\n",
      "[0.0, 0.0, 0.0, 0.0, 0.0]\n",
      "[0.0, 0.0, 0.0, 0.0, 0.0, 0.0, 0.0, 0.0, 0.0, 0.0, 0.0, 0.0, 0.0, 0.0, 0.0, 0.0, 0.0, 0.0, 0.0, 0.0, 0.0, 0.0, 0.0, 0.0, 0.0, 0.0, 0.0, 0.0, 0.0, 0.0, 0.0, 0.0, 0.0, 0.0, 0.0, 0.0, 0.0, 0.0, 0.0, 0.0, 0.0, 0.0, 0.0, 0.0, 0.0, 0.0, 0.0, 0.0, 0.0, 0.0, 0.0, 0.0, 0.0, 0.0, 0.0, 0.0, 0.0, 0.0, 0.0, 0.0, 0.0, 0.0, 0.0, 0.0, 0.0, 0.0, 0.0, 0.0, 0.0, 0.0, 0.0, 0.0, 0.0, 0.0, 0.0, 0.0, 0.0, 0.0, 0.0, 0.0, 0.0, 0.0, 0.0, 0.0, 0.0, 0.0, 0.0, 0.0, 0.0, 0.0, 0.0, 0.0, 0.0, 0.0, 0.0, 0.0, 0.0, 0.0, 0.0, 0.0]\n"
     ]
    },
    {
     "data": {
      "text/plain": [
       "2561571"
      ]
     },
     "execution_count": 56,
     "metadata": {},
     "output_type": "execute_result"
    }
   ],
   "source": [
    "print(len(CTD_confs)) # 3622086 == 2692*2691/2\n",
    "print(CTD_confs[:5])\n",
    "\n",
    "print(CTD_confs[100:200])\n",
    "CTD_confs.count(0.0)"
   ]
  },
  {
   "cell_type": "code",
   "execution_count": 58,
   "id": "ca228438",
   "metadata": {},
   "outputs": [
    {
     "name": "stdout",
     "output_type": "stream",
     "text": [
      "[0.0, 0.0, 0.0, 0.0, 0.0, 0.0, 0.0, 0.0, 0.0, 0.0, 0.0, 0.0, 0.0, 0.0, 0.0, 0.0, 0.0, 0.0, 0.0, 0.0, 0.0, 0.0, 0.0, 0.0, 0.0, 0.0, 0.0, 0.0, 0.0, 0.0, 0.0, 0.0, 0.0, 0.0, 0.0, 0.0, 0.0, 0.0, 0.0, 0.0, 0.0, 0.0, 0.0, 0.0, 0.0, 0.0, 0.0, 0.0, 0.0, 0.0, 0.0, 0.0, 0.0, 0.0, 0.0, 0.0, 0.0, 0.0, 0.0, 0.0, 0.0, 0.0, 0.0, 0.0, 0.0, 0.0, 0.0, 0.0, 0.0, 0.0, 0.0, 0.0, 0.0, 0.0, 0.0, 0.0, 0.0, 0.0, 0.0, 0.0, 0.0, 0.0, 0.0, 0.0, 0.0, 0.0, 0.0, 0.0, 0.0, 0.0, 0.0, 0.0, 0.0, 0.0, 0.0, 0.0, 0.0, 0.0, 0.0, 0.0]\n"
     ]
    },
    {
     "data": {
      "text/plain": [
       "2561571"
      ]
     },
     "execution_count": 58,
     "metadata": {},
     "output_type": "execute_result"
    }
   ],
   "source": [
    "print(CTD_confs[100:200])\n",
    "CTD_confs.count(0.0)"
   ]
  },
  {
   "cell_type": "markdown",
   "id": "3c4346c9",
   "metadata": {},
   "source": [
    "#### Calculate distribution difference"
   ]
  },
  {
   "cell_type": "code",
   "execution_count": 59,
   "id": "dc5661e8",
   "metadata": {},
   "outputs": [
    {
     "name": "stdout",
     "output_type": "stream",
     "text": [
      "806693 -- 2810012\n"
     ]
    }
   ],
   "source": [
    "CTD_sim = []\n",
    "CTD_unsim = []\n",
    "\n",
    "for i in range(len(scores)):\n",
    "    score = list(scores[i])[0]\n",
    "    if score>=0.5:\n",
    "        CTD_sim.append(CTD_confs[i])\n",
    "    elif score<0.5:\n",
    "        CTD_unsim.append(CTD_confs[i])\n",
    "        \n",
    "print(len(CTD_sim),\"--\",len(CTD_unsim)) #806693 -- 2810012"
   ]
  },
  {
   "cell_type": "code",
   "execution_count": 60,
   "id": "6ba317bb",
   "metadata": {},
   "outputs": [
    {
     "data": {
      "text/plain": [
       "MannwhitneyuResult(statistic=1217159994523.0, pvalue=0.0)"
      ]
     },
     "execution_count": 60,
     "metadata": {},
     "output_type": "execute_result"
    }
   ],
   "source": [
    "distribution_dif = stats.mannwhitneyu(CTD_sim,CTD_unsim,alternative='two-sided')\n",
    "distribution_dif"
   ]
  },
  {
   "cell_type": "code",
   "execution_count": 67,
   "id": "edbdad8e",
   "metadata": {},
   "outputs": [
    {
     "name": "stdout",
     "output_type": "stream",
     "text": [
      "0.011749574878032349\n",
      "0.00719881088491746\n",
      "-----\n",
      "0.0\n",
      "0.0\n",
      "-----\n",
      "0.0036429872495446266\n",
      "0.0010638297872340426\n"
     ]
    },
    {
     "data": {
      "text/plain": [
       "'相似组的共享药物Jaccard相似性大，√'"
      ]
     },
     "execution_count": 67,
     "metadata": {},
     "output_type": "execute_result"
    }
   ],
   "source": [
    "print(np.mean(CTD_sim))\n",
    "print(np.mean(CTD_unsim))\n",
    "print(\"-----\")\n",
    "print(np.median(CTD_sim))\n",
    "print(np.median(CTD_unsim))\n",
    "print(\"-----\")\n",
    "print(np.quantile(CTD_sim,0.75))\n",
    "print(np.quantile(CTD_unsim,0.75))\n"
   ]
  },
  {
   "cell_type": "code",
   "execution_count": 64,
   "id": "ecf31e06",
   "metadata": {},
   "outputs": [],
   "source": [
    "# pd.Series(CTD_sim).to_csv(\"fiteredCTD_sim.csv\",index=\"Jaccard\")\n",
    "# pd.Series(CTD_unsim).to_csv(\"fiteredCTD_unsim.csv\",index=\"Jaccard\")"
   ]
  },
  {
   "cell_type": "code",
   "execution_count": null,
   "id": "45be976f",
   "metadata": {},
   "outputs": [],
   "source": []
  }
 ],
 "metadata": {
  "kernelspec": {
   "display_name": "Python 3",
   "language": "python",
   "name": "python3"
  },
  "language_info": {
   "codemirror_mode": {
    "name": "ipython",
    "version": 3
   },
   "file_extension": ".py",
   "mimetype": "text/x-python",
   "name": "python",
   "nbconvert_exporter": "python",
   "pygments_lexer": "ipython3",
   "version": "3.7.10"
  },
  "toc": {
   "base_numbering": 1,
   "nav_menu": {},
   "number_sections": true,
   "sideBar": true,
   "skip_h1_title": false,
   "title_cell": "Table of Contents",
   "title_sidebar": "Contents",
   "toc_cell": false,
   "toc_position": {
    "height": "calc(100% - 180px)",
    "left": "10px",
    "top": "150px",
    "width": "253.2px"
   },
   "toc_section_display": true,
   "toc_window_display": true
  }
 },
 "nbformat": 4,
 "nbformat_minor": 5
}
