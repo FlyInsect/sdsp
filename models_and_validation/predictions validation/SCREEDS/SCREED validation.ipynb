{
 "cells": [
  {
   "cell_type": "code",
   "execution_count": 1,
   "id": "bcf9768e",
   "metadata": {},
   "outputs": [],
   "source": [
    "import pandas as pd\n",
    "import numpy as np"
   ]
  },
  {
   "cell_type": "code",
   "execution_count": 30,
   "id": "23c02f96",
   "metadata": {
    "scrolled": true
   },
   "outputs": [
    {
     "data": {
      "text/html": [
       "<div>\n",
       "<style scoped>\n",
       "    .dataframe tbody tr th:only-of-type {\n",
       "        vertical-align: middle;\n",
       "    }\n",
       "\n",
       "    .dataframe tbody tr th {\n",
       "        vertical-align: top;\n",
       "    }\n",
       "\n",
       "    .dataframe thead th {\n",
       "        text-align: right;\n",
       "    }\n",
       "</style>\n",
       "<table border=\"1\" class=\"dataframe\">\n",
       "  <thead>\n",
       "    <tr style=\"text-align: right;\">\n",
       "      <th></th>\n",
       "      <th>ACTB</th>\n",
       "      <th>ACTG1</th>\n",
       "      <th>ADAR</th>\n",
       "      <th>ALDH2</th>\n",
       "      <th>ALDOA</th>\n",
       "      <th>ANP32B</th>\n",
       "      <th>ANXA1</th>\n",
       "      <th>ANXA2</th>\n",
       "      <th>ANXA5</th>\n",
       "      <th>ARF4</th>\n",
       "      <th>...</th>\n",
       "      <th>UBA52</th>\n",
       "      <th>UBB</th>\n",
       "      <th>UBC</th>\n",
       "      <th>UQCRH</th>\n",
       "      <th>UQCRQ</th>\n",
       "      <th>VIM</th>\n",
       "      <th>YBX1</th>\n",
       "      <th>YWHAQ</th>\n",
       "      <th>YWHAZ</th>\n",
       "      <th>ZFP36</th>\n",
       "    </tr>\n",
       "  </thead>\n",
       "  <tbody>\n",
       "    <tr>\n",
       "      <th>nicotine addiction</th>\n",
       "      <td>0.064248</td>\n",
       "      <td>0.057393</td>\n",
       "      <td>0.008424</td>\n",
       "      <td>0.000000</td>\n",
       "      <td>-0.013307</td>\n",
       "      <td>-0.008606</td>\n",
       "      <td>0.000000</td>\n",
       "      <td>0.0</td>\n",
       "      <td>0.000000</td>\n",
       "      <td>0.015622</td>\n",
       "      <td>...</td>\n",
       "      <td>0.076123</td>\n",
       "      <td>-0.015261</td>\n",
       "      <td>0.066425</td>\n",
       "      <td>0.077111</td>\n",
       "      <td>0.012225</td>\n",
       "      <td>0.0</td>\n",
       "      <td>0.104099</td>\n",
       "      <td>-0.022610</td>\n",
       "      <td>0.018012</td>\n",
       "      <td>0.000000</td>\n",
       "    </tr>\n",
       "    <tr>\n",
       "      <th>rhinovirus infection</th>\n",
       "      <td>-0.018748</td>\n",
       "      <td>-0.066498</td>\n",
       "      <td>0.013587</td>\n",
       "      <td>0.017732</td>\n",
       "      <td>0.014883</td>\n",
       "      <td>0.000000</td>\n",
       "      <td>-0.024498</td>\n",
       "      <td>0.0</td>\n",
       "      <td>-0.049095</td>\n",
       "      <td>0.000000</td>\n",
       "      <td>...</td>\n",
       "      <td>0.013136</td>\n",
       "      <td>0.000000</td>\n",
       "      <td>0.000000</td>\n",
       "      <td>-0.017052</td>\n",
       "      <td>0.000000</td>\n",
       "      <td>0.0</td>\n",
       "      <td>0.000000</td>\n",
       "      <td>-0.015306</td>\n",
       "      <td>0.000000</td>\n",
       "      <td>0.015338</td>\n",
       "    </tr>\n",
       "  </tbody>\n",
       "</table>\n",
       "<p>2 rows × 284 columns</p>\n",
       "</div>"
      ],
      "text/plain": [
       "                          ACTB     ACTG1      ADAR     ALDH2     ALDOA  \\\n",
       "nicotine addiction    0.064248  0.057393  0.008424  0.000000 -0.013307   \n",
       "rhinovirus infection -0.018748 -0.066498  0.013587  0.017732  0.014883   \n",
       "\n",
       "                        ANP32B     ANXA1  ANXA2     ANXA5      ARF4  ...  \\\n",
       "nicotine addiction   -0.008606  0.000000    0.0  0.000000  0.015622  ...   \n",
       "rhinovirus infection  0.000000 -0.024498    0.0 -0.049095  0.000000  ...   \n",
       "\n",
       "                         UBA52       UBB       UBC     UQCRH     UQCRQ  VIM  \\\n",
       "nicotine addiction    0.076123 -0.015261  0.066425  0.077111  0.012225  0.0   \n",
       "rhinovirus infection  0.013136  0.000000  0.000000 -0.017052  0.000000  0.0   \n",
       "\n",
       "                          YBX1     YWHAQ     YWHAZ     ZFP36  \n",
       "nicotine addiction    0.104099 -0.022610  0.018012  0.000000  \n",
       "rhinovirus infection  0.000000 -0.015306  0.000000  0.015338  \n",
       "\n",
       "[2 rows x 284 columns]"
      ]
     },
     "execution_count": 30,
     "metadata": {},
     "output_type": "execute_result"
    }
   ],
   "source": [
    "#screed_fea = pd.read_csv(\"../../../../extract_CREEDS/ave_dis_DEG_name.csv\",index_col=0)\n",
    "\n",
    "screed_fea = pd.read_csv(\"../../../../extract_CREEDS/fea_dis_name.csv\",index_col=0)\n",
    "screed_fea[:2]"
   ]
  },
  {
   "cell_type": "code",
   "execution_count": 3,
   "id": "a9d2e02d",
   "metadata": {},
   "outputs": [
    {
     "data": {
      "text/html": [
       "<div>\n",
       "<style scoped>\n",
       "    .dataframe tbody tr th:only-of-type {\n",
       "        vertical-align: middle;\n",
       "    }\n",
       "\n",
       "    .dataframe tbody tr th {\n",
       "        vertical-align: top;\n",
       "    }\n",
       "\n",
       "    .dataframe thead th {\n",
       "        text-align: right;\n",
       "    }\n",
       "</style>\n",
       "<table border=\"1\" class=\"dataframe\">\n",
       "  <thead>\n",
       "    <tr style=\"text-align: right;\">\n",
       "      <th></th>\n",
       "      <th>Pediatric Obesity</th>\n",
       "      <th>Orthostatic Intolerance</th>\n",
       "      <th>Seizures</th>\n",
       "      <th>Muscle Weakness</th>\n",
       "      <th>Persistent Vegetative State</th>\n",
       "      <th>Chills</th>\n",
       "      <th>Sweating Sickness</th>\n",
       "      <th>Ataxia</th>\n",
       "      <th>Nocturia</th>\n",
       "      <th>Fetal Distress</th>\n",
       "      <th>...</th>\n",
       "      <th>Hypercalciuria</th>\n",
       "      <th>Chronic Pain</th>\n",
       "      <th>Hematemesis</th>\n",
       "      <th>Angina Pectoris</th>\n",
       "      <th>Vision, Low</th>\n",
       "      <th>Muscle Hypertonia</th>\n",
       "      <th>Hearing Loss, Functional</th>\n",
       "      <th>Breakthrough Pain</th>\n",
       "      <th>Mutism</th>\n",
       "      <th>Cerebrospinal Fluid Otorrhea</th>\n",
       "    </tr>\n",
       "  </thead>\n",
       "  <tbody>\n",
       "    <tr>\n",
       "      <th>Nevus, Intradermal</th>\n",
       "      <td>0.0</td>\n",
       "      <td>0.0</td>\n",
       "      <td>0.0</td>\n",
       "      <td>0.000000</td>\n",
       "      <td>0.0</td>\n",
       "      <td>0.0</td>\n",
       "      <td>0.0</td>\n",
       "      <td>0.0</td>\n",
       "      <td>0.0</td>\n",
       "      <td>0.0</td>\n",
       "      <td>...</td>\n",
       "      <td>0.0</td>\n",
       "      <td>0.000000</td>\n",
       "      <td>0.0</td>\n",
       "      <td>0.0</td>\n",
       "      <td>0.0</td>\n",
       "      <td>0.0</td>\n",
       "      <td>0.0</td>\n",
       "      <td>0.0</td>\n",
       "      <td>0.0</td>\n",
       "      <td>0.0</td>\n",
       "    </tr>\n",
       "    <tr>\n",
       "      <th>Superinfection</th>\n",
       "      <td>0.0</td>\n",
       "      <td>0.0</td>\n",
       "      <td>0.0</td>\n",
       "      <td>0.635781</td>\n",
       "      <td>0.0</td>\n",
       "      <td>0.0</td>\n",
       "      <td>0.0</td>\n",
       "      <td>0.0</td>\n",
       "      <td>0.0</td>\n",
       "      <td>0.0</td>\n",
       "      <td>...</td>\n",
       "      <td>0.0</td>\n",
       "      <td>1.309646</td>\n",
       "      <td>0.0</td>\n",
       "      <td>0.0</td>\n",
       "      <td>0.0</td>\n",
       "      <td>0.0</td>\n",
       "      <td>0.0</td>\n",
       "      <td>0.0</td>\n",
       "      <td>0.0</td>\n",
       "      <td>0.0</td>\n",
       "    </tr>\n",
       "  </tbody>\n",
       "</table>\n",
       "<p>2 rows × 385 columns</p>\n",
       "</div>"
      ],
      "text/plain": [
       "                    Pediatric Obesity  Orthostatic Intolerance  Seizures  \\\n",
       "Nevus, Intradermal                0.0                      0.0       0.0   \n",
       "Superinfection                    0.0                      0.0       0.0   \n",
       "\n",
       "                    Muscle Weakness  Persistent Vegetative State  Chills  \\\n",
       "Nevus, Intradermal         0.000000                          0.0     0.0   \n",
       "Superinfection             0.635781                          0.0     0.0   \n",
       "\n",
       "                    Sweating Sickness  Ataxia  Nocturia  Fetal Distress  ...  \\\n",
       "Nevus, Intradermal                0.0     0.0       0.0             0.0  ...   \n",
       "Superinfection                    0.0     0.0       0.0             0.0  ...   \n",
       "\n",
       "                    Hypercalciuria  Chronic Pain  Hematemesis  \\\n",
       "Nevus, Intradermal             0.0      0.000000          0.0   \n",
       "Superinfection                 0.0      1.309646          0.0   \n",
       "\n",
       "                    Angina Pectoris  Vision, Low  Muscle Hypertonia  \\\n",
       "Nevus, Intradermal              0.0          0.0                0.0   \n",
       "Superinfection                  0.0          0.0                0.0   \n",
       "\n",
       "                    Hearing Loss, Functional  Breakthrough Pain  Mutism  \\\n",
       "Nevus, Intradermal                       0.0                0.0     0.0   \n",
       "Superinfection                           0.0                0.0     0.0   \n",
       "\n",
       "                    Cerebrospinal Fluid Otorrhea  \n",
       "Nevus, Intradermal                           0.0  \n",
       "Superinfection                               0.0  \n",
       "\n",
       "[2 rows x 385 columns]"
      ]
     },
     "execution_count": 3,
     "metadata": {},
     "output_type": "execute_result"
    }
   ],
   "source": [
    "sym_fea = pd.read_csv(\"../../../../extract_pubmed/2020_TF-IDF_dropdup.csv\",index_col=0)\n",
    "sym_fea[:2]"
   ]
  },
  {
   "cell_type": "code",
   "execution_count": 31,
   "id": "18db8a3e",
   "metadata": {},
   "outputs": [
    {
     "name": "stdout",
     "output_type": "stream",
     "text": [
      "54\n",
      "['pre-eclampsia', 'nephrosclerosis', 'urticaria', 'lung injury', 'alpha 1-antitrypsin deficiency', 'dermatomyositis', 'liver cirrhosis', 'osteoporosis', 'adrenoleukodystrophy', 'intracranial aneurysm']\n"
     ]
    }
   ],
   "source": [
    "condis = set(screed_fea.index) & set([s.lower() for s in sym_fea.index])\n",
    "condis = list(condis)\n",
    "print(len(condis))\n",
    "print(condis[:10])"
   ]
  },
  {
   "cell_type": "markdown",
   "id": "9f901c0b",
   "metadata": {},
   "source": [
    "### Calculate the cosine/euc/spearman between 54 overlapping disease pairs and extract the corresponding model prediction results"
   ]
  },
  {
   "cell_type": "code",
   "execution_count": 32,
   "id": "f0f496a9",
   "metadata": {},
   "outputs": [
    {
     "name": "stderr",
     "output_type": "stream",
     "text": [
      "E:\\Anaconda\\envs\\tf2\\lib\\site-packages\\numpy\\lib\\arraysetops.py:583: FutureWarning: elementwise comparison failed; returning scalar instead, but in the future will perform elementwise comparison\n",
      "  mask |= (ar1 == a)\n"
     ]
    },
    {
     "data": {
      "text/html": [
       "<div>\n",
       "<style scoped>\n",
       "    .dataframe tbody tr th:only-of-type {\n",
       "        vertical-align: middle;\n",
       "    }\n",
       "\n",
       "    .dataframe tbody tr th {\n",
       "        vertical-align: top;\n",
       "    }\n",
       "\n",
       "    .dataframe thead th {\n",
       "        text-align: right;\n",
       "    }\n",
       "</style>\n",
       "<table border=\"1\" class=\"dataframe\">\n",
       "  <thead>\n",
       "    <tr style=\"text-align: right;\">\n",
       "      <th></th>\n",
       "      <th>predict_score</th>\n",
       "    </tr>\n",
       "  </thead>\n",
       "  <tbody>\n",
       "    <tr>\n",
       "      <th>0</th>\n",
       "      <td>0.911887</td>\n",
       "    </tr>\n",
       "    <tr>\n",
       "      <th>1</th>\n",
       "      <td>0.001816</td>\n",
       "    </tr>\n",
       "  </tbody>\n",
       "</table>\n",
       "</div>"
      ],
      "text/plain": [
       "   predict_score\n",
       "0       0.911887\n",
       "1       0.001816"
      ]
     },
     "execution_count": 32,
     "metadata": {},
     "output_type": "execute_result"
    }
   ],
   "source": [
    "predict_score = pd.read_csv(\"../../visualization/model_predictAll_result.csv\",index_col=0)\n",
    "predict_score[:2]"
   ]
  },
  {
   "cell_type": "code",
   "execution_count": 33,
   "id": "b2863f2c",
   "metadata": {},
   "outputs": [
    {
     "name": "stdout",
     "output_type": "stream",
     "text": [
      "54\n"
     ]
    },
    {
     "data": {
      "text/plain": [
       "[619, 234, 3805, 3791, 4016]"
      ]
     },
     "execution_count": 33,
     "metadata": {},
     "output_type": "execute_result"
    }
   ],
   "source": [
    "#extract index of diseases\n",
    "dis_index_inSym = []\n",
    "sym_fea_index_lower = [s.lower() for s in sym_fea.index]\n",
    "\n",
    "for dis in condis:\n",
    "    index_inSym = sym_fea_index_lower.index(dis)\n",
    "    dis_index_inSym.append(index_inSym)\n",
    "    \n",
    "print(len(dis_index_inSym))\n",
    "dis_index_inSym[:5]"
   ]
  },
  {
   "cell_type": "code",
   "execution_count": 19,
   "id": "08f6b6ad",
   "metadata": {},
   "outputs": [],
   "source": [
    "def cosine_similarity(x,y):\n",
    "    num = x.dot(y.T)\n",
    "    denom = np.linalg.norm(x) * np.linalg.norm(y)\n",
    "    return num / (denom+0.000001)\n",
    "\n",
    "from scipy.spatial import distance\n",
    "import scipy.stats"
   ]
  },
  {
   "cell_type": "code",
   "execution_count": 34,
   "id": "8e28f8f3",
   "metadata": {},
   "outputs": [
    {
     "name": "stderr",
     "output_type": "stream",
     "text": [
      "E:\\Anaconda\\envs\\tf2\\lib\\site-packages\\scipy\\spatial\\distance.py:728: RuntimeWarning: invalid value encountered in double_scalars\n",
      "  dist = 1.0 - uv / np.sqrt(uu * vv)\n",
      "E:\\Anaconda\\envs\\tf2\\lib\\site-packages\\scipy\\stats\\stats.py:3913: PearsonRConstantInputWarning: An input array is constant; the correlation coefficent is not defined.\n",
      "  warnings.warn(PearsonRConstantInputWarning())\n"
     ]
    },
    {
     "name": "stdout",
     "output_type": "stream",
     "text": [
      "2862\n"
     ]
    }
   ],
   "source": [
    "scoreABs = []\n",
    "scoreBAs = []\n",
    "screed_cosine = [] \n",
    "screed_euc = [] \n",
    "pearson = [] \n",
    "\n",
    "for disA in condis:\n",
    "    disA_index = dis_index_inSym[condis.index(disA)]\n",
    "    \n",
    "    for disB in condis:\n",
    "\n",
    "        if disA==disB:\n",
    "            continue\n",
    "        disB_index = dis_index_inSym[condis.index(disB)]\n",
    "        scoreAB = predict_score.loc[disA_index*4268+disB_index]\n",
    "        scoreBA = predict_score.loc[disB_index*4268+disA_index]\n",
    "        \n",
    "        scoreABs.append(scoreAB)\n",
    "        scoreBAs.append(scoreBA)\n",
    "        \n",
    "        cossim = 1-distance.cosine(screed_fea.loc[disA],screed_fea.loc[disB])\n",
    "        screed_cosine.append(cossim)\n",
    "\n",
    "        eucsim = distance.euclidean(screed_fea.loc[disA],screed_fea.loc[disB])\n",
    "        screed_euc.append(eucsim)\n",
    "        \n",
    "        pearson.append(scipy.stats.pearsonr(screed_fea.loc[disA],screed_fea.loc[disB])[0])\n",
    "        \n",
    "print(len(screed_cosine))"
   ]
  },
  {
   "cell_type": "code",
   "execution_count": 35,
   "id": "bf4c492a",
   "metadata": {},
   "outputs": [
    {
     "name": "stdout",
     "output_type": "stream",
     "text": [
      "True\n"
     ]
    }
   ],
   "source": [
    "\n",
    "scores_predict=[] \n",
    "scores_predict = np.sum([scoreABs,scoreBAs],axis=0)/2\n",
    "scores_predict = scores_predict.squeeze()\n",
    "\n",
    "print(len(screed_cosine) == len(scores_predict))"
   ]
  },
  {
   "cell_type": "markdown",
   "id": "ceba7e58",
   "metadata": {},
   "source": [
    "### Compare distribution differences"
   ]
  },
  {
   "cell_type": "code",
   "execution_count": 36,
   "id": "722d0a02",
   "metadata": {},
   "outputs": [
    {
     "name": "stdout",
     "output_type": "stream",
     "text": [
      "688 -- True\n"
     ]
    }
   ],
   "source": [
    "screed_cosine_sim = []\n",
    "screed_cosine_unsim = []\n",
    "\n",
    "screed_euc_sim = []\n",
    "screed_euc_unsim = []\n",
    "\n",
    "screed_pearson_sim = []\n",
    "screed_pearson_unsim = []\n",
    "\n",
    "for i in range(len(scores_predict)):\n",
    "    score = scores_predict[i]\n",
    "    if score>=0.5:\n",
    "        screed_cosine_sim.append(screed_cosine[i])\n",
    "        screed_euc_sim.append(screed_euc[i])\n",
    "        screed_pearson_sim.append(pearson[i])\n",
    "    else:\n",
    "        screed_cosine_unsim.append(screed_cosine[i])\n",
    "        screed_euc_unsim.append(screed_euc[i])\n",
    "        screed_pearson_unsim.append(pearson[i])\n",
    "        \n",
    "print(len(screed_euc_sim),\"--\",len(screed_euc_sim)==len(screed_cosine_sim))"
   ]
  },
  {
   "cell_type": "code",
   "execution_count": 25,
   "id": "038e9558",
   "metadata": {
    "code_folding": []
   },
   "outputs": [],
   "source": [
    "# pd.DataFrame(screed_cosine_sim,columns=[\"cosine_similarity\"]).to_csv(\"screed_cos_sim.csv\")\n",
    "# pd.DataFrame(screed_cosine_unsim,columns=[\"cosine_similarity\"]).to_csv(\"screed_cos_unsim.csv\")\n",
    "\n",
    "# pd.DataFrame(screed_euc_sim,columns=[\"euc_similarity\"]).to_csv(\"screed19717_euc_sim.csv\")\n",
    "# pd.DataFrame(screed_euc_unsim,columns=[\"euc_similarity\"]).to_csv(\"screed19717_euc_unsim.csv\")\n",
    "\n",
    "pd.DataFrame(screed_pearson_sim,columns=[\"pearson_similarity\"]).to_csv(\"screed19717_pearson_sim.csv\")\n",
    "pd.DataFrame(screed_pearson_unsim,columns=[\"pearson_similarity\"]).to_csv(\"screed19717_pearson_unsim.csv\")"
   ]
  },
  {
   "cell_type": "code",
   "execution_count": 37,
   "id": "40c92147",
   "metadata": {},
   "outputs": [
    {
     "name": "stdout",
     "output_type": "stream",
     "text": [
      "[-0.0516060595409793, -0.07483774351204309, 0.025150073234468828, 0.08622842929710417, 0.029926832210931065, -0.05476103373474328, 0.07148740105941198, 0.00899552100354395, -0.059266730808051005, nan]\n",
      "[0.6418279503637585, 0.38440908440854116, 0.39220955554615067, 0.6154608280236288, 0.24795354349266166, 0.5122200223355504, 0.10769680246272742, 0.6200498737331294, 0.626405794670581, 0.09602887530758218]\n",
      "[-0.11353877276580301, -0.08946159602608193, 0.008044280658398174, 0.0497288999799656, 0.007611334891150474, -0.08173937982271354, 0.0942208635892223, 0.01780554362353752, -0.06370320613181325, nan]\n"
     ]
    }
   ],
   "source": [
    "print(screed_cosine_sim[:10])\n",
    "print(screed_euc_sim[:10])\n",
    "print(screed_pearson_sim[:10])"
   ]
  },
  {
   "cell_type": "code",
   "execution_count": 27,
   "id": "f05dfd69",
   "metadata": {},
   "outputs": [],
   "source": [
    "\n",
    "d1 = []\n",
    "d2 = []\n",
    "for x in screed_cosine_sim:\n",
    "    if x <=1 and x>=-1:\n",
    "        d1.append(x)\n",
    "        \n",
    "for x in screed_cosine_unsim:\n",
    "    if x <=1 and x>=-1:\n",
    "        d2.append(x)"
   ]
  },
  {
   "cell_type": "code",
   "execution_count": 38,
   "id": "24498c17",
   "metadata": {},
   "outputs": [
    {
     "name": "stdout",
     "output_type": "stream",
     "text": [
      "MannwhitneyuResult(statistic=773648.0, pvalue=0.17214339254347522) MannwhitneyuResult(statistic=708328.0, pvalue=0.036398151831456296) MannwhitneyuResult(statistic=774198.0, pvalue=0.16318796766289678)\n"
     ]
    }
   ],
   "source": [
    "import scipy.stats as stats\n",
    "cosP = stats.mannwhitneyu(d1,d2,alternative='two-sided')\n",
    "eucP = stats.mannwhitneyu(screed_euc_sim,screed_euc_unsim,alternative='two-sided')\n",
    "pearsonP = stats.mannwhitneyu(screed_pearson_sim,screed_pearson_unsim,alternative='two-sided')\n",
    "print(cosP,eucP,pearsonP)"
   ]
  },
  {
   "cell_type": "code",
   "execution_count": 15,
   "id": "3d1e6126",
   "metadata": {},
   "outputs": [],
   "source": [
    "concat_screed = pd.DataFrame({\"Score\": d1+d2,\"Methods\": [\"sim\"]*len(d1) + [\"unsim\"]*len(d2)})"
   ]
  },
  {
   "cell_type": "code",
   "execution_count": 16,
   "id": "4b04f9bc",
   "metadata": {},
   "outputs": [],
   "source": [
    "# concat_screed.to_csv(\"con_screed.csv\")"
   ]
  },
  {
   "cell_type": "markdown",
   "id": "92678c55",
   "metadata": {},
   "source": [
    "### results\n",
    "- screed_284\n",
    "    - cos:MannwhitneyuResult(statistic=679376.0, pvalue=0.713110255584441) \n",
    "    - euc:MannwhitneyuResult(statistic=708328.0, pvalue=0.036398151831456296)\n",
    "- screed_19717\n",
    "    - cos:MannwhitneyuResult(statistic=773648.0, pvalue=0.17214339254347522) \n",
    "    - euc:MannwhitneyuResult(statistic=648640.0, pvalue=1.5034931453078025e-07)\n",
    "    - pearson:MannwhitneyuResult(statistic=774544.0, pvalue=0.15773056868258228)"
   ]
  },
  {
   "cell_type": "code",
   "execution_count": 18,
   "id": "e094219d",
   "metadata": {},
   "outputs": [
    {
     "name": "stdout",
     "output_type": "stream",
     "text": [
      "1.104205160063662\n",
      "1.1469193406487321\n"
     ]
    }
   ],
   "source": [
    "print(np.mean(screed_euc_sim))\n",
    "print(np.mean(screed_euc_unsim))"
   ]
  },
  {
   "cell_type": "code",
   "execution_count": 29,
   "id": "29142267",
   "metadata": {},
   "outputs": [
    {
     "name": "stdout",
     "output_type": "stream",
     "text": [
      "0.013505160680879008\n",
      "0.006062481685425086\n"
     ]
    }
   ],
   "source": [
    "print(np.mean(screed_pearson_sim))\n",
    "print(np.mean(screed_pearson_unsim))"
   ]
  },
  {
   "cell_type": "code",
   "execution_count": null,
   "id": "56f89e26",
   "metadata": {},
   "outputs": [],
   "source": []
  }
 ],
 "metadata": {
  "kernelspec": {
   "display_name": "Python 3",
   "language": "python",
   "name": "python3"
  },
  "language_info": {
   "codemirror_mode": {
    "name": "ipython",
    "version": 3
   },
   "file_extension": ".py",
   "mimetype": "text/x-python",
   "name": "python",
   "nbconvert_exporter": "python",
   "pygments_lexer": "ipython3",
   "version": "3.7.10"
  },
  "toc": {
   "base_numbering": 1,
   "nav_menu": {},
   "number_sections": true,
   "sideBar": true,
   "skip_h1_title": false,
   "title_cell": "Table of Contents",
   "title_sidebar": "Contents",
   "toc_cell": false,
   "toc_position": {
    "height": "calc(100% - 180px)",
    "left": "10px",
    "top": "150px",
    "width": "307.2px"
   },
   "toc_section_display": true,
   "toc_window_display": true
  }
 },
 "nbformat": 4,
 "nbformat_minor": 5
}
