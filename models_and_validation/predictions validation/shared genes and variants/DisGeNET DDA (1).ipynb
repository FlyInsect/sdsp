{
 "cells": [
  {
   "cell_type": "code",
   "execution_count": 2,
   "id": "cd44ac19",
   "metadata": {},
   "outputs": [],
   "source": [
    "import pandas as pd\n",
    "import numpy as np\n",
    "from tqdm import tqdm\n",
    "\n",
    "import scipy.stats as stats"
   ]
  },
  {
   "cell_type": "code",
   "execution_count": 4,
   "id": "b7c294fd",
   "metadata": {
    "scrolled": true
   },
   "outputs": [
    {
     "name": "stderr",
     "output_type": "stream",
     "text": [
      "/home/yu/anaconda3/envs/jxx/lib/python3.6/site-packages/numpy/lib/arraysetops.py:580: FutureWarning: elementwise comparison failed; returning scalar instead, but in the future will perform elementwise comparison\n",
      "  mask |= (ar1 == a)\n"
     ]
    },
    {
     "name": "stdout",
     "output_type": "stream",
     "text": [
      "(63680896, 3)\n"
     ]
    },
    {
     "data": {
      "text/html": [
       "<div>\n",
       "<style scoped>\n",
       "    .dataframe tbody tr th:only-of-type {\n",
       "        vertical-align: middle;\n",
       "    }\n",
       "\n",
       "    .dataframe tbody tr th {\n",
       "        vertical-align: top;\n",
       "    }\n",
       "\n",
       "    .dataframe thead th {\n",
       "        text-align: right;\n",
       "    }\n",
       "</style>\n",
       "<table border=\"1\" class=\"dataframe\">\n",
       "  <thead>\n",
       "    <tr style=\"text-align: right;\">\n",
       "      <th></th>\n",
       "      <th>diseaseId1_name</th>\n",
       "      <th>diseaseId2_name</th>\n",
       "      <th>jaccard_genesPlusVariant</th>\n",
       "    </tr>\n",
       "  </thead>\n",
       "  <tbody>\n",
       "    <tr>\n",
       "      <th>0</th>\n",
       "      <td>Abdominal Pain</td>\n",
       "      <td>Abdomen, Acute</td>\n",
       "      <td>0.003300</td>\n",
       "    </tr>\n",
       "    <tr>\n",
       "      <th>1</th>\n",
       "      <td>Acne Vulgaris</td>\n",
       "      <td>Abdomen, Acute</td>\n",
       "      <td>0.010526</td>\n",
       "    </tr>\n",
       "  </tbody>\n",
       "</table>\n",
       "</div>"
      ],
      "text/plain": [
       "  diseaseId1_name diseaseId2_name  jaccard_genesPlusVariant\n",
       "0  Abdominal Pain  Abdomen, Acute                  0.003300\n",
       "1   Acne Vulgaris  Abdomen, Acute                  0.010526"
      ]
     },
     "execution_count": 4,
     "metadata": {},
     "output_type": "execute_result"
    }
   ],
   "source": [
    "# DDI in DisGeNET，UMLS\n",
    "ori_DDA_df = pd.read_csv(\"disease_to_disease_ALL_extract.csv\",index_col=0)\n",
    "print(ori_DDA_df.shape)\n",
    "ori_DDA_df[:2]"
   ]
  },
  {
   "cell_type": "code",
   "execution_count": 50,
   "id": "160cf70f",
   "metadata": {},
   "outputs": [],
   "source": [
    "# ori_DDA_df.to_csv(\"disease_to_disease_ALL_extract.csv\")"
   ]
  },
  {
   "cell_type": "code",
   "execution_count": 5,
   "id": "08b76891",
   "metadata": {},
   "outputs": [
    {
     "data": {
      "text/html": [
       "<div>\n",
       "<style scoped>\n",
       "    .dataframe tbody tr th:only-of-type {\n",
       "        vertical-align: middle;\n",
       "    }\n",
       "\n",
       "    .dataframe tbody tr th {\n",
       "        vertical-align: top;\n",
       "    }\n",
       "\n",
       "    .dataframe thead th {\n",
       "        text-align: right;\n",
       "    }\n",
       "</style>\n",
       "<table border=\"1\" class=\"dataframe\">\n",
       "  <thead>\n",
       "    <tr style=\"text-align: right;\">\n",
       "      <th></th>\n",
       "      <th>Pediatric Obesity</th>\n",
       "      <th>Orthostatic Intolerance</th>\n",
       "      <th>Seizures</th>\n",
       "      <th>Muscle Weakness</th>\n",
       "      <th>Persistent Vegetative State</th>\n",
       "      <th>Chills</th>\n",
       "      <th>Sweating Sickness</th>\n",
       "      <th>Ataxia</th>\n",
       "      <th>Nocturia</th>\n",
       "      <th>Fetal Distress</th>\n",
       "      <th>...</th>\n",
       "      <th>Hypercalciuria</th>\n",
       "      <th>Chronic Pain</th>\n",
       "      <th>Hematemesis</th>\n",
       "      <th>Angina Pectoris</th>\n",
       "      <th>Vision, Low</th>\n",
       "      <th>Muscle Hypertonia</th>\n",
       "      <th>Hearing Loss, Functional</th>\n",
       "      <th>Breakthrough Pain</th>\n",
       "      <th>Mutism</th>\n",
       "      <th>Cerebrospinal Fluid Otorrhea</th>\n",
       "    </tr>\n",
       "  </thead>\n",
       "  <tbody>\n",
       "    <tr>\n",
       "      <th>Nevus, Intradermal</th>\n",
       "      <td>0.0</td>\n",
       "      <td>0.0</td>\n",
       "      <td>0.0</td>\n",
       "      <td>0.000000</td>\n",
       "      <td>0.0</td>\n",
       "      <td>0.0</td>\n",
       "      <td>0.0</td>\n",
       "      <td>0.0</td>\n",
       "      <td>0.0</td>\n",
       "      <td>0.0</td>\n",
       "      <td>...</td>\n",
       "      <td>0.0</td>\n",
       "      <td>0.000000</td>\n",
       "      <td>0.0</td>\n",
       "      <td>0.0</td>\n",
       "      <td>0.0</td>\n",
       "      <td>0.0</td>\n",
       "      <td>0.0</td>\n",
       "      <td>0.0</td>\n",
       "      <td>0.0</td>\n",
       "      <td>0.0</td>\n",
       "    </tr>\n",
       "    <tr>\n",
       "      <th>Superinfection</th>\n",
       "      <td>0.0</td>\n",
       "      <td>0.0</td>\n",
       "      <td>0.0</td>\n",
       "      <td>0.635781</td>\n",
       "      <td>0.0</td>\n",
       "      <td>0.0</td>\n",
       "      <td>0.0</td>\n",
       "      <td>0.0</td>\n",
       "      <td>0.0</td>\n",
       "      <td>0.0</td>\n",
       "      <td>...</td>\n",
       "      <td>0.0</td>\n",
       "      <td>1.309646</td>\n",
       "      <td>0.0</td>\n",
       "      <td>0.0</td>\n",
       "      <td>0.0</td>\n",
       "      <td>0.0</td>\n",
       "      <td>0.0</td>\n",
       "      <td>0.0</td>\n",
       "      <td>0.0</td>\n",
       "      <td>0.0</td>\n",
       "    </tr>\n",
       "  </tbody>\n",
       "</table>\n",
       "<p>2 rows × 385 columns</p>\n",
       "</div>"
      ],
      "text/plain": [
       "                    Pediatric Obesity  Orthostatic Intolerance  Seizures  \\\n",
       "Nevus, Intradermal                0.0                      0.0       0.0   \n",
       "Superinfection                    0.0                      0.0       0.0   \n",
       "\n",
       "                    Muscle Weakness  Persistent Vegetative State  Chills  \\\n",
       "Nevus, Intradermal         0.000000                          0.0     0.0   \n",
       "Superinfection             0.635781                          0.0     0.0   \n",
       "\n",
       "                    Sweating Sickness  Ataxia  Nocturia  Fetal Distress  ...  \\\n",
       "Nevus, Intradermal                0.0     0.0       0.0             0.0  ...   \n",
       "Superinfection                    0.0     0.0       0.0             0.0  ...   \n",
       "\n",
       "                    Hypercalciuria  Chronic Pain  Hematemesis  \\\n",
       "Nevus, Intradermal             0.0      0.000000          0.0   \n",
       "Superinfection                 0.0      1.309646          0.0   \n",
       "\n",
       "                    Angina Pectoris  Vision, Low  Muscle Hypertonia  \\\n",
       "Nevus, Intradermal              0.0          0.0                0.0   \n",
       "Superinfection                  0.0          0.0                0.0   \n",
       "\n",
       "                    Hearing Loss, Functional  Breakthrough Pain  Mutism  \\\n",
       "Nevus, Intradermal                       0.0                0.0     0.0   \n",
       "Superinfection                           0.0                0.0     0.0   \n",
       "\n",
       "                    Cerebrospinal Fluid Otorrhea  \n",
       "Nevus, Intradermal                           0.0  \n",
       "Superinfection                               0.0  \n",
       "\n",
       "[2 rows x 385 columns]"
      ]
     },
     "execution_count": 5,
     "metadata": {},
     "output_type": "execute_result"
    }
   ],
   "source": [
    "sym_fea = pd.read_csv(\"2020_TF-IDF_dropdup.csv\",index_col=0)\n",
    "sym_fea[:2]"
   ]
  },
  {
   "cell_type": "code",
   "execution_count": 6,
   "id": "b85ae335",
   "metadata": {},
   "outputs": [
    {
     "data": {
      "text/html": [
       "<div>\n",
       "<style scoped>\n",
       "    .dataframe tbody tr th:only-of-type {\n",
       "        vertical-align: middle;\n",
       "    }\n",
       "\n",
       "    .dataframe tbody tr th {\n",
       "        vertical-align: top;\n",
       "    }\n",
       "\n",
       "    .dataframe thead th {\n",
       "        text-align: right;\n",
       "    }\n",
       "</style>\n",
       "<table border=\"1\" class=\"dataframe\">\n",
       "  <thead>\n",
       "    <tr style=\"text-align: right;\">\n",
       "      <th></th>\n",
       "      <th>diseaseId</th>\n",
       "      <th>name</th>\n",
       "      <th>vocabulary</th>\n",
       "      <th>code</th>\n",
       "      <th>vocabularyName</th>\n",
       "    </tr>\n",
       "  </thead>\n",
       "  <tbody>\n",
       "    <tr>\n",
       "      <th>0</th>\n",
       "      <td>C1970109</td>\n",
       "      <td>AROMATASE EXCESS SYNDROME</td>\n",
       "      <td>MSH</td>\n",
       "      <td>C000591739</td>\n",
       "      <td>Aromatase Excess Syndrome</td>\n",
       "    </tr>\n",
       "    <tr>\n",
       "      <th>1</th>\n",
       "      <td>C1970109</td>\n",
       "      <td>AROMATASE EXCESS SYNDROME</td>\n",
       "      <td>MSH</td>\n",
       "      <td>C000591739</td>\n",
       "      <td>Familial gynecomastia, due to increased aromat...</td>\n",
       "    </tr>\n",
       "  </tbody>\n",
       "</table>\n",
       "</div>"
      ],
      "text/plain": [
       "  diseaseId                       name vocabulary        code  \\\n",
       "0  C1970109  AROMATASE EXCESS SYNDROME        MSH  C000591739   \n",
       "1  C1970109  AROMATASE EXCESS SYNDROME        MSH  C000591739   \n",
       "\n",
       "                                      vocabularyName  \n",
       "0                          Aromatase Excess Syndrome  \n",
       "1  Familial gynecomastia, due to increased aromat...  "
      ]
     },
     "execution_count": 6,
     "metadata": {},
     "output_type": "execute_result"
    }
   ],
   "source": [
    "# UMLS-mesh\n",
    "mapping_df = pd.read_csv(\"DisGeNET-disease_mappings.tsv\",sep=\"\\t\")\n",
    "mapping_df = mapping_df[mapping_df[\"vocabulary\"]==\"MSH\"]\n",
    "mapping_df.reset_index(drop=True,inplace=True)\n",
    "mapping_df[:2]"
   ]
  },
  {
   "cell_type": "markdown",
   "id": "14aa6ea8",
   "metadata": {},
   "source": [
    "#### UMLS->MSH name\n",
    "- DisGeNET的DDA数据中除MeSH heading外还包含了MeSH Supplementary ---> 30264个dis\n",
    "    - 30264--->29327 个在id映射文件中 --->5366 个umls name转为mesh name\n",
    "    -(多个umls name可能对应一个mesh name)"
   ]
  },
  {
   "cell_type": "code",
   "execution_count": 7,
   "id": "81b00d35",
   "metadata": {},
   "outputs": [
    {
     "name": "stdout",
     "output_type": "stream",
     "text": [
      "127361792\n",
      "30264\n"
     ]
    },
    {
     "data": {
      "text/html": [
       "<div>\n",
       "<style scoped>\n",
       "    .dataframe tbody tr th:only-of-type {\n",
       "        vertical-align: middle;\n",
       "    }\n",
       "\n",
       "    .dataframe tbody tr th {\n",
       "        vertical-align: top;\n",
       "    }\n",
       "\n",
       "    .dataframe thead th {\n",
       "        text-align: right;\n",
       "    }\n",
       "</style>\n",
       "<table border=\"1\" class=\"dataframe\">\n",
       "  <thead>\n",
       "    <tr style=\"text-align: right;\">\n",
       "      <th></th>\n",
       "      <th>dis</th>\n",
       "    </tr>\n",
       "  </thead>\n",
       "  <tbody>\n",
       "    <tr>\n",
       "      <th>0</th>\n",
       "      <td>Abdominal Pain</td>\n",
       "    </tr>\n",
       "    <tr>\n",
       "      <th>1</th>\n",
       "      <td>Acne Vulgaris</td>\n",
       "    </tr>\n",
       "  </tbody>\n",
       "</table>\n",
       "</div>"
      ],
      "text/plain": [
       "              dis\n",
       "0  Abdominal Pain\n",
       "1   Acne Vulgaris"
      ]
     },
     "execution_count": 7,
     "metadata": {},
     "output_type": "execute_result"
    }
   ],
   "source": [
    "# 1、Get Unique Diseases in DDA Data\n",
    "DDA_dis = pd.concat([pd.DataFrame({\"dis\":ori_DDA_df[\"diseaseId1_name\"]}),pd.DataFrame({\"dis\":ori_DDA_df[\"diseaseId2_name\"]})])\n",
    "print(len(DDA_dis)) \n",
    "\n",
    "DDA_dis.drop_duplicates(inplace=True)\n",
    "print(len(DDA_dis)) \n",
    "\n",
    "DDA_dis.reset_index(drop=True,inplace=True)\n",
    "DDA_dis[:2]"
   ]
  },
  {
   "cell_type": "code",
   "execution_count": 8,
   "id": "537726d4",
   "metadata": {},
   "outputs": [
    {
     "name": "stdout",
     "output_type": "stream",
     "text": [
      "(4268, 1)\n",
      "                                dis\n",
      "0                Nevus, Intradermal\n",
      "1                    Superinfection\n",
      "2                          Coloboma\n",
      "3  Abnormalities, Radiation-Induced\n",
      "4         Bronchial Hyperreactivity\n",
      "(29327, 6)\n"
     ]
    },
    {
     "data": {
      "text/html": [
       "<div>\n",
       "<style scoped>\n",
       "    .dataframe tbody tr th:only-of-type {\n",
       "        vertical-align: middle;\n",
       "    }\n",
       "\n",
       "    .dataframe tbody tr th {\n",
       "        vertical-align: top;\n",
       "    }\n",
       "\n",
       "    .dataframe thead th {\n",
       "        text-align: right;\n",
       "    }\n",
       "</style>\n",
       "<table border=\"1\" class=\"dataframe\">\n",
       "  <thead>\n",
       "    <tr style=\"text-align: right;\">\n",
       "      <th></th>\n",
       "      <th>dis</th>\n",
       "      <th>diseaseId</th>\n",
       "      <th>name</th>\n",
       "      <th>vocabulary</th>\n",
       "      <th>code</th>\n",
       "      <th>vocabularyName</th>\n",
       "    </tr>\n",
       "  </thead>\n",
       "  <tbody>\n",
       "    <tr>\n",
       "      <th>0</th>\n",
       "      <td>Abdominal Pain</td>\n",
       "      <td>C0000737</td>\n",
       "      <td>Abdominal Pain</td>\n",
       "      <td>MSH</td>\n",
       "      <td>D015746</td>\n",
       "      <td>Abdominal Pain</td>\n",
       "    </tr>\n",
       "    <tr>\n",
       "      <th>1</th>\n",
       "      <td>Abdominal Pain</td>\n",
       "      <td>C0000737</td>\n",
       "      <td>Abdominal Pain</td>\n",
       "      <td>MSH</td>\n",
       "      <td>D015746</td>\n",
       "      <td>Colicky Pain</td>\n",
       "    </tr>\n",
       "    <tr>\n",
       "      <th>2</th>\n",
       "      <td>Acne Vulgaris</td>\n",
       "      <td>C0001144</td>\n",
       "      <td>Acne Vulgaris</td>\n",
       "      <td>MSH</td>\n",
       "      <td>D000152</td>\n",
       "      <td>Acne Vulgaris</td>\n",
       "    </tr>\n",
       "    <tr>\n",
       "      <th>3</th>\n",
       "      <td>Acne Vulgaris</td>\n",
       "      <td>C0001144</td>\n",
       "      <td>Acne Vulgaris</td>\n",
       "      <td>MSH</td>\n",
       "      <td>D000152</td>\n",
       "      <td>Acne</td>\n",
       "    </tr>\n",
       "    <tr>\n",
       "      <th>4</th>\n",
       "      <td>Adenitis</td>\n",
       "      <td>C0001416</td>\n",
       "      <td>Adenitis</td>\n",
       "      <td>MSH</td>\n",
       "      <td>D008199</td>\n",
       "      <td>Adenitis</td>\n",
       "    </tr>\n",
       "  </tbody>\n",
       "</table>\n",
       "</div>"
      ],
      "text/plain": [
       "              dis diseaseId            name vocabulary     code  \\\n",
       "0  Abdominal Pain  C0000737  Abdominal Pain        MSH  D015746   \n",
       "1  Abdominal Pain  C0000737  Abdominal Pain        MSH  D015746   \n",
       "2   Acne Vulgaris  C0001144   Acne Vulgaris        MSH  D000152   \n",
       "3   Acne Vulgaris  C0001144   Acne Vulgaris        MSH  D000152   \n",
       "4        Adenitis  C0001416        Adenitis        MSH  D008199   \n",
       "\n",
       "   vocabularyName  \n",
       "0  Abdominal Pain  \n",
       "1    Colicky Pain  \n",
       "2   Acne Vulgaris  \n",
       "3            Acne  \n",
       "4        Adenitis  "
      ]
     },
     "execution_count": 8,
     "metadata": {},
     "output_type": "execute_result"
    }
   ],
   "source": [
    "# 2、A UMLS name corresponds to multiple vocabularyNames\n",
    "tar_dis_ls = sym_fea.index\n",
    "tar_dis_df = pd.DataFrame(tar_dis_ls,columns=[\"dis\"])\n",
    "print(tar_dis_df.shape)\n",
    "print(tar_dis_df[:5])\n",
    "\n",
    "join_df = pd.merge(DDA_dis,mapping_df,how='inner',left_on=\"dis\",right_on=\"name\")\n",
    "print(join_df.shape)\n",
    "join_df.head()\n",
    "\n",
    "# join_df.to_csv(\"join_df.csv\")"
   ]
  },
  {
   "cell_type": "code",
   "execution_count": 9,
   "id": "e0fd42d8",
   "metadata": {},
   "outputs": [
    {
     "name": "stderr",
     "output_type": "stream",
     "text": [
      "100%|██████████| 29327/29327 [00:00<00:00, 132046.66it/s]"
     ]
    },
    {
     "name": "stdout",
     "output_type": "stream",
     "text": [
      "5366\n"
     ]
    },
    {
     "name": "stderr",
     "output_type": "stream",
     "text": [
      "\n"
     ]
    }
   ],
   "source": [
    "# 3、UMLS name --->Mesh name\n",
    "trans = {}\n",
    "\n",
    "for i in tqdm(range(len(join_df))):\n",
    "    if join_df.loc[i,\"vocabularyName\"] in tar_dis_ls:\n",
    "        UMLS_name = join_df.loc[i,\"dis\"]\n",
    "        mesh_name = join_df.loc[i,\"vocabularyName\"]\n",
    "        \n",
    "        trans[UMLS_name]= mesh_name  \n",
    "            \n",
    "print(len(trans)) "
   ]
  },
  {
   "cell_type": "code",
   "execution_count": 10,
   "id": "b73c7a8c",
   "metadata": {},
   "outputs": [
    {
     "data": {
      "text/html": [
       "<div>\n",
       "<style scoped>\n",
       "    .dataframe tbody tr th:only-of-type {\n",
       "        vertical-align: middle;\n",
       "    }\n",
       "\n",
       "    .dataframe tbody tr th {\n",
       "        vertical-align: top;\n",
       "    }\n",
       "\n",
       "    .dataframe thead th {\n",
       "        text-align: right;\n",
       "    }\n",
       "</style>\n",
       "<table border=\"1\" class=\"dataframe\">\n",
       "  <thead>\n",
       "    <tr style=\"text-align: right;\">\n",
       "      <th></th>\n",
       "      <th>UMLS name</th>\n",
       "      <th>MSH name</th>\n",
       "    </tr>\n",
       "  </thead>\n",
       "  <tbody>\n",
       "    <tr>\n",
       "      <th>0</th>\n",
       "      <td>Acne Vulgaris</td>\n",
       "      <td>Acne Vulgaris</td>\n",
       "    </tr>\n",
       "    <tr>\n",
       "      <th>1</th>\n",
       "      <td>Adenitis</td>\n",
       "      <td>Lymphadenitis</td>\n",
       "    </tr>\n",
       "  </tbody>\n",
       "</table>\n",
       "</div>"
      ],
      "text/plain": [
       "       UMLS name       MSH name\n",
       "0  Acne Vulgaris  Acne Vulgaris\n",
       "1       Adenitis  Lymphadenitis"
      ]
     },
     "execution_count": 10,
     "metadata": {},
     "output_type": "execute_result"
    }
   ],
   "source": [
    "trans_df = pd.DataFrame.from_dict(trans,orient=\"index\")\n",
    "trans_df.reset_index(inplace=True)\n",
    "trans_df.columns=[\"UMLS name\",\"MSH name\"]\n",
    "trans_df[:2]"
   ]
  },
  {
   "cell_type": "code",
   "execution_count": 20,
   "id": "5aeaf4d7",
   "metadata": {},
   "outputs": [],
   "source": [
    "# trans_df.to_csv(\"trans_df.csv\")"
   ]
  },
  {
   "cell_type": "markdown",
   "id": "250cf3c5",
   "metadata": {},
   "source": [
    "#### ->MSH name"
   ]
  },
  {
   "cell_type": "code",
   "execution_count": 11,
   "id": "70a75b75",
   "metadata": {},
   "outputs": [
    {
     "name": "stderr",
     "output_type": "stream",
     "text": [
      "100%|██████████| 63680896/63680896 [1:17:35<00:00, 13678.22it/s]\n"
     ]
    },
    {
     "name": "stdout",
     "output_type": "stream",
     "text": [
      "8876054\n"
     ]
    },
    {
     "data": {
      "text/html": [
       "<div>\n",
       "<style scoped>\n",
       "    .dataframe tbody tr th:only-of-type {\n",
       "        vertical-align: middle;\n",
       "    }\n",
       "\n",
       "    .dataframe tbody tr th {\n",
       "        vertical-align: top;\n",
       "    }\n",
       "\n",
       "    .dataframe thead th {\n",
       "        text-align: right;\n",
       "    }\n",
       "</style>\n",
       "<table border=\"1\" class=\"dataframe\">\n",
       "  <thead>\n",
       "    <tr style=\"text-align: right;\">\n",
       "      <th></th>\n",
       "      <th>diseaseId1_name</th>\n",
       "      <th>diseaseId2_name</th>\n",
       "      <th>jaccard</th>\n",
       "    </tr>\n",
       "  </thead>\n",
       "  <tbody>\n",
       "    <tr>\n",
       "      <th>0</th>\n",
       "      <td>Alzheimer Disease</td>\n",
       "      <td>Colic</td>\n",
       "      <td>0.000294</td>\n",
       "    </tr>\n",
       "    <tr>\n",
       "      <th>1</th>\n",
       "      <td>Anaplasia</td>\n",
       "      <td>Colic</td>\n",
       "      <td>0.001859</td>\n",
       "    </tr>\n",
       "    <tr>\n",
       "      <th>2</th>\n",
       "      <td>Arteriosclerosis</td>\n",
       "      <td>Colic</td>\n",
       "      <td>0.000499</td>\n",
       "    </tr>\n",
       "    <tr>\n",
       "      <th>3</th>\n",
       "      <td>Asthma</td>\n",
       "      <td>Colic</td>\n",
       "      <td>0.000477</td>\n",
       "    </tr>\n",
       "    <tr>\n",
       "      <th>4</th>\n",
       "      <td>Atherosclerosis</td>\n",
       "      <td>Colic</td>\n",
       "      <td>0.000489</td>\n",
       "    </tr>\n",
       "  </tbody>\n",
       "</table>\n",
       "</div>"
      ],
      "text/plain": [
       "     diseaseId1_name diseaseId2_name   jaccard\n",
       "0  Alzheimer Disease           Colic  0.000294\n",
       "1          Anaplasia           Colic  0.001859\n",
       "2   Arteriosclerosis           Colic  0.000499\n",
       "3             Asthma           Colic  0.000477\n",
       "4    Atherosclerosis           Colic  0.000489"
      ]
     },
     "execution_count": 11,
     "metadata": {},
     "output_type": "execute_result"
    }
   ],
   "source": [
    "DDA_mesh_arr = []  \n",
    "\n",
    "sour_umls_name =list(trans_df[\"UMLS name\"])\n",
    "\n",
    "for ite in tqdm(range(len(ori_DDA_df))):\n",
    "    dis1 = ori_DDA_df.loc[ite,\"diseaseId1_name\"]\n",
    "    dis2 = ori_DDA_df.loc[ite,\"diseaseId2_name\"]\n",
    "    \n",
    "    if (dis1 in sour_umls_name) and (dis2 in sour_umls_name):\n",
    "        jac = ori_DDA_df.loc[ite,\"jaccard_genesPlusVariant\"]\n",
    "        DDA_mesh_arr.append([trans[dis1],trans[dis2],jac])\n",
    "        \n",
    "print(len(DDA_mesh_arr)) \n",
    "\n",
    "DDA_mesh_df = pd.DataFrame(DDA_mesh_arr,columns=[\"diseaseId1_name\",\"diseaseId2_name\",\"jaccard\"])\n",
    "DDA_mesh_df.to_csv(\"DDA_mesh_df.csv\")\n",
    "DDA_mesh_df.head()"
   ]
  },
  {
   "cell_type": "code",
   "execution_count": 19,
   "id": "80142547",
   "metadata": {},
   "outputs": [],
   "source": [
    "# DDA_mesh_df.to_csv(\"DDA_mesh_df.csv\")"
   ]
  },
  {
   "cell_type": "markdown",
   "id": "cfbac9a8",
   "metadata": {},
   "source": [
    "### Extract 5366 UMLS diseases and  corresponding model prediction results"
   ]
  },
  {
   "cell_type": "code",
   "execution_count": 14,
   "id": "b02c5d39",
   "metadata": {},
   "outputs": [
    {
     "name": "stderr",
     "output_type": "stream",
     "text": [
      "/home/yu/anaconda3/envs/jxx/lib/python3.6/site-packages/numpy/lib/arraysetops.py:580: FutureWarning: elementwise comparison failed; returning scalar instead, but in the future will perform elementwise comparison\n",
      "  mask |= (ar1 == a)\n",
      "100%|██████████| 5366/5366 [00:00<00:00, 56785.04it/s]"
     ]
    },
    {
     "name": "stdout",
     "output_type": "stream",
     "text": [
      "5366\n"
     ]
    },
    {
     "name": "stderr",
     "output_type": "stream",
     "text": [
      "\n"
     ]
    },
    {
     "data": {
      "text/plain": [
       "[1279, 3131, 2883, 151, 2921]"
      ]
     },
     "execution_count": 14,
     "metadata": {},
     "output_type": "execute_result"
    }
   ],
   "source": [
    "predict_score = pd.read_csv(\"model_predictAll_result.csv\",index_col=0)\n",
    "\n",
    "dis_index_inSym = []\n",
    "sym_fea_index_lower = [s.lower() for s in sym_fea.index]\n",
    "\n",
    "for dis in tqdm(trans_df[\"MSH name\"]):\n",
    "    index_inSym = sym_fea_index_lower.index(dis.lower())\n",
    "    dis_index_inSym.append(index_inSym)\n",
    "    \n",
    "print(len(dis_index_inSym))\n",
    "dis_index_inSym[:5]"
   ]
  },
  {
   "cell_type": "code",
   "execution_count": null,
   "id": "5e7507ab",
   "metadata": {},
   "outputs": [],
   "source": []
  }
 ],
 "metadata": {
  "kernelspec": {
   "display_name": "Python 3",
   "language": "python",
   "name": "python3"
  },
  "language_info": {
   "codemirror_mode": {
    "name": "ipython",
    "version": 3
   },
   "file_extension": ".py",
   "mimetype": "text/x-python",
   "name": "python",
   "nbconvert_exporter": "python",
   "pygments_lexer": "ipython3",
   "version": "3.7.10"
  },
  "toc": {
   "base_numbering": 1,
   "nav_menu": {},
   "number_sections": true,
   "sideBar": true,
   "skip_h1_title": false,
   "title_cell": "Table of Contents",
   "title_sidebar": "Contents",
   "toc_cell": false,
   "toc_position": {},
   "toc_section_display": true,
   "toc_window_display": true
  }
 },
 "nbformat": 4,
 "nbformat_minor": 5
}
