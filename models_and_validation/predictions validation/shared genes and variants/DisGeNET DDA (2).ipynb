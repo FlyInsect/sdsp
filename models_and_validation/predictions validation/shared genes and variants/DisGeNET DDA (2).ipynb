{
 "cells": [
  {
   "cell_type": "code",
   "execution_count": 1,
   "id": "b313bf96",
   "metadata": {},
   "outputs": [],
   "source": [
    "import pandas as pd\n",
    "import numpy as np\n",
    "from tqdm import tqdm\n",
    "\n",
    "import scipy.stats as stats"
   ]
  },
  {
   "cell_type": "code",
   "execution_count": 2,
   "id": "8cb64abf",
   "metadata": {},
   "outputs": [
    {
     "data": {
      "text/html": [
       "<div>\n",
       "<style scoped>\n",
       "    .dataframe tbody tr th:only-of-type {\n",
       "        vertical-align: middle;\n",
       "    }\n",
       "\n",
       "    .dataframe tbody tr th {\n",
       "        vertical-align: top;\n",
       "    }\n",
       "\n",
       "    .dataframe thead th {\n",
       "        text-align: right;\n",
       "    }\n",
       "</style>\n",
       "<table border=\"1\" class=\"dataframe\">\n",
       "  <thead>\n",
       "    <tr style=\"text-align: right;\">\n",
       "      <th></th>\n",
       "      <th>Pediatric Obesity</th>\n",
       "      <th>Orthostatic Intolerance</th>\n",
       "      <th>Seizures</th>\n",
       "      <th>Muscle Weakness</th>\n",
       "      <th>Persistent Vegetative State</th>\n",
       "      <th>Chills</th>\n",
       "      <th>Sweating Sickness</th>\n",
       "      <th>Ataxia</th>\n",
       "      <th>Nocturia</th>\n",
       "      <th>Fetal Distress</th>\n",
       "      <th>...</th>\n",
       "      <th>Hypercalciuria</th>\n",
       "      <th>Chronic Pain</th>\n",
       "      <th>Hematemesis</th>\n",
       "      <th>Angina Pectoris</th>\n",
       "      <th>Vision, Low</th>\n",
       "      <th>Muscle Hypertonia</th>\n",
       "      <th>Hearing Loss, Functional</th>\n",
       "      <th>Breakthrough Pain</th>\n",
       "      <th>Mutism</th>\n",
       "      <th>Cerebrospinal Fluid Otorrhea</th>\n",
       "    </tr>\n",
       "  </thead>\n",
       "  <tbody>\n",
       "    <tr>\n",
       "      <th>Nevus, Intradermal</th>\n",
       "      <td>0.0</td>\n",
       "      <td>0.0</td>\n",
       "      <td>0.0</td>\n",
       "      <td>0.000000</td>\n",
       "      <td>0.0</td>\n",
       "      <td>0.0</td>\n",
       "      <td>0.0</td>\n",
       "      <td>0.0</td>\n",
       "      <td>0.0</td>\n",
       "      <td>0.0</td>\n",
       "      <td>...</td>\n",
       "      <td>0.0</td>\n",
       "      <td>0.000000</td>\n",
       "      <td>0.0</td>\n",
       "      <td>0.0</td>\n",
       "      <td>0.0</td>\n",
       "      <td>0.0</td>\n",
       "      <td>0.0</td>\n",
       "      <td>0.0</td>\n",
       "      <td>0.0</td>\n",
       "      <td>0.0</td>\n",
       "    </tr>\n",
       "    <tr>\n",
       "      <th>Superinfection</th>\n",
       "      <td>0.0</td>\n",
       "      <td>0.0</td>\n",
       "      <td>0.0</td>\n",
       "      <td>0.635781</td>\n",
       "      <td>0.0</td>\n",
       "      <td>0.0</td>\n",
       "      <td>0.0</td>\n",
       "      <td>0.0</td>\n",
       "      <td>0.0</td>\n",
       "      <td>0.0</td>\n",
       "      <td>...</td>\n",
       "      <td>0.0</td>\n",
       "      <td>1.309646</td>\n",
       "      <td>0.0</td>\n",
       "      <td>0.0</td>\n",
       "      <td>0.0</td>\n",
       "      <td>0.0</td>\n",
       "      <td>0.0</td>\n",
       "      <td>0.0</td>\n",
       "      <td>0.0</td>\n",
       "      <td>0.0</td>\n",
       "    </tr>\n",
       "  </tbody>\n",
       "</table>\n",
       "<p>2 rows × 385 columns</p>\n",
       "</div>"
      ],
      "text/plain": [
       "                    Pediatric Obesity  Orthostatic Intolerance  Seizures  \\\n",
       "Nevus, Intradermal                0.0                      0.0       0.0   \n",
       "Superinfection                    0.0                      0.0       0.0   \n",
       "\n",
       "                    Muscle Weakness  Persistent Vegetative State  Chills  \\\n",
       "Nevus, Intradermal         0.000000                          0.0     0.0   \n",
       "Superinfection             0.635781                          0.0     0.0   \n",
       "\n",
       "                    Sweating Sickness  Ataxia  Nocturia  Fetal Distress  ...  \\\n",
       "Nevus, Intradermal                0.0     0.0       0.0             0.0  ...   \n",
       "Superinfection                    0.0     0.0       0.0             0.0  ...   \n",
       "\n",
       "                    Hypercalciuria  Chronic Pain  Hematemesis  \\\n",
       "Nevus, Intradermal             0.0      0.000000          0.0   \n",
       "Superinfection                 0.0      1.309646          0.0   \n",
       "\n",
       "                    Angina Pectoris  Vision, Low  Muscle Hypertonia  \\\n",
       "Nevus, Intradermal              0.0          0.0                0.0   \n",
       "Superinfection                  0.0          0.0                0.0   \n",
       "\n",
       "                    Hearing Loss, Functional  Breakthrough Pain  Mutism  \\\n",
       "Nevus, Intradermal                       0.0                0.0     0.0   \n",
       "Superinfection                           0.0                0.0     0.0   \n",
       "\n",
       "                    Cerebrospinal Fluid Otorrhea  \n",
       "Nevus, Intradermal                           0.0  \n",
       "Superinfection                               0.0  \n",
       "\n",
       "[2 rows x 385 columns]"
      ]
     },
     "execution_count": 2,
     "metadata": {},
     "output_type": "execute_result"
    }
   ],
   "source": [
    "sym_fea = pd.read_csv(\"2020_TF-IDF_dropdup.csv\",index_col=0)\n",
    "sym_fea[:2]"
   ]
  },
  {
   "cell_type": "code",
   "execution_count": 3,
   "id": "cbcfea5a",
   "metadata": {},
   "outputs": [
    {
     "data": {
      "text/html": [
       "<div>\n",
       "<style scoped>\n",
       "    .dataframe tbody tr th:only-of-type {\n",
       "        vertical-align: middle;\n",
       "    }\n",
       "\n",
       "    .dataframe tbody tr th {\n",
       "        vertical-align: top;\n",
       "    }\n",
       "\n",
       "    .dataframe thead th {\n",
       "        text-align: right;\n",
       "    }\n",
       "</style>\n",
       "<table border=\"1\" class=\"dataframe\">\n",
       "  <thead>\n",
       "    <tr style=\"text-align: right;\">\n",
       "      <th></th>\n",
       "      <th>UMLS name</th>\n",
       "      <th>MSH name</th>\n",
       "    </tr>\n",
       "  </thead>\n",
       "  <tbody>\n",
       "    <tr>\n",
       "      <th>0</th>\n",
       "      <td>Acne Vulgaris</td>\n",
       "      <td>Acne Vulgaris</td>\n",
       "    </tr>\n",
       "    <tr>\n",
       "      <th>1</th>\n",
       "      <td>Adenitis</td>\n",
       "      <td>Lymphadenitis</td>\n",
       "    </tr>\n",
       "    <tr>\n",
       "      <th>2</th>\n",
       "      <td>Alzheimer's Disease</td>\n",
       "      <td>Alzheimer Disease</td>\n",
       "    </tr>\n",
       "    <tr>\n",
       "      <th>3</th>\n",
       "      <td>Amyloidosis</td>\n",
       "      <td>Amyloidosis</td>\n",
       "    </tr>\n",
       "    <tr>\n",
       "      <th>4</th>\n",
       "      <td>Fabry Disease</td>\n",
       "      <td>Fabry Disease</td>\n",
       "    </tr>\n",
       "  </tbody>\n",
       "</table>\n",
       "</div>"
      ],
      "text/plain": [
       "             UMLS name           MSH name\n",
       "0        Acne Vulgaris      Acne Vulgaris\n",
       "1             Adenitis      Lymphadenitis\n",
       "2  Alzheimer's Disease  Alzheimer Disease\n",
       "3          Amyloidosis        Amyloidosis\n",
       "4        Fabry Disease      Fabry Disease"
      ]
     },
     "execution_count": 3,
     "metadata": {},
     "output_type": "execute_result"
    }
   ],
   "source": [
    "trans_df = pd.read_csv(\"trans_df.csv\",index_col=0)\n",
    "trans_df.head()"
   ]
  },
  {
   "cell_type": "code",
   "execution_count": 4,
   "id": "0cf99ed3",
   "metadata": {},
   "outputs": [
    {
     "name": "stderr",
     "output_type": "stream",
     "text": [
      "/home/yu/anaconda3/envs/jxx/lib/python3.6/site-packages/numpy/lib/arraysetops.py:580: FutureWarning: elementwise comparison failed; returning scalar instead, but in the future will perform elementwise comparison\n",
      "  mask |= (ar1 == a)\n",
      "100%|██████████| 5366/5366 [00:00<00:00, 58074.45it/s]"
     ]
    },
    {
     "name": "stdout",
     "output_type": "stream",
     "text": [
      "5366\n"
     ]
    },
    {
     "name": "stderr",
     "output_type": "stream",
     "text": [
      "\n"
     ]
    },
    {
     "data": {
      "text/plain": [
       "[1279, 3131, 2883, 151, 2921]"
      ]
     },
     "execution_count": 4,
     "metadata": {},
     "output_type": "execute_result"
    }
   ],
   "source": [
    "predict_score = pd.read_csv(\"model_predictAll_result.csv\",index_col=0)\n",
    "\n",
    "#提取5366个疾病在4268个中的索引\n",
    "dis_index_inSym = []\n",
    "sym_fea_index_lower = [s.lower() for s in sym_fea.index]\n",
    "\n",
    "for dis in tqdm(trans_df[\"MSH name\"]):\n",
    "    index_inSym = sym_fea_index_lower.index(dis.lower())#从0开始\n",
    "    dis_index_inSym.append(index_inSym)\n",
    "    \n",
    "print(len(dis_index_inSym))\n",
    "dis_index_inSym[:5]"
   ]
  },
  {
   "cell_type": "code",
   "execution_count": 25,
   "id": "5776092e",
   "metadata": {},
   "outputs": [
    {
     "name": "stderr",
     "output_type": "stream",
     "text": [
      "/home/yu/anaconda3/envs/jxx/lib/python3.6/site-packages/numpy/lib/arraysetops.py:580: FutureWarning: elementwise comparison failed; returning scalar instead, but in the future will perform elementwise comparison\n",
      "  mask |= (ar1 == a)\n"
     ]
    },
    {
     "name": "stdout",
     "output_type": "stream",
     "text": [
      "(8876054, 3)\n"
     ]
    },
    {
     "data": {
      "text/html": [
       "<div>\n",
       "<style scoped>\n",
       "    .dataframe tbody tr th:only-of-type {\n",
       "        vertical-align: middle;\n",
       "    }\n",
       "\n",
       "    .dataframe tbody tr th {\n",
       "        vertical-align: top;\n",
       "    }\n",
       "\n",
       "    .dataframe thead th {\n",
       "        text-align: right;\n",
       "    }\n",
       "</style>\n",
       "<table border=\"1\" class=\"dataframe\">\n",
       "  <thead>\n",
       "    <tr style=\"text-align: right;\">\n",
       "      <th></th>\n",
       "      <th>diseaseId1_name</th>\n",
       "      <th>diseaseId2_name</th>\n",
       "      <th>jaccard</th>\n",
       "    </tr>\n",
       "  </thead>\n",
       "  <tbody>\n",
       "    <tr>\n",
       "      <th>0</th>\n",
       "      <td>Alzheimer Disease</td>\n",
       "      <td>Colic</td>\n",
       "      <td>0.000294</td>\n",
       "    </tr>\n",
       "    <tr>\n",
       "      <th>1</th>\n",
       "      <td>Anaplasia</td>\n",
       "      <td>Colic</td>\n",
       "      <td>0.001859</td>\n",
       "    </tr>\n",
       "  </tbody>\n",
       "</table>\n",
       "</div>"
      ],
      "text/plain": [
       "     diseaseId1_name diseaseId2_name   jaccard\n",
       "0  Alzheimer Disease           Colic  0.000294\n",
       "1          Anaplasia           Colic  0.001859"
      ]
     },
     "execution_count": 25,
     "metadata": {},
     "output_type": "execute_result"
    }
   ],
   "source": [
    "DDA_mesh_df = pd.read_csv(\"DDA_mesh_df.csv\",index_col=0)\n",
    "print(DDA_mesh_df.shape)\n",
    "DDA_mesh_df[:2]"
   ]
  },
  {
   "cell_type": "code",
   "execution_count": 26,
   "id": "8013a580",
   "metadata": {
    "scrolled": true
   },
   "outputs": [
    {
     "name": "stderr",
     "output_type": "stream",
     "text": [
      "100%|██████████| 8876054/8876054 [1:11:09<00:00, 2079.08it/s] "
     ]
    },
    {
     "name": "stdout",
     "output_type": "stream",
     "text": [
      "8876054 True\n"
     ]
    },
    {
     "name": "stderr",
     "output_type": "stream",
     "text": [
      "\n"
     ]
    },
    {
     "data": {
      "text/plain": [
       "[0.0002944, 0.001859]"
      ]
     },
     "execution_count": 26,
     "metadata": {},
     "output_type": "execute_result"
    }
   ],
   "source": [
    "scores = []\n",
    "\n",
    "DDA_confs = [] #DDA，数据（0,1）\n",
    "\n",
    "mesh_name_ls = list(trans_df[\"MSH name\"])\n",
    "\n",
    "for ite in tqdm(range(len(DDA_mesh_df))):\n",
    "    disA_index = dis_index_inSym[mesh_name_ls.index(DDA_mesh_df.loc[ite,\"diseaseId1_name\"])]\n",
    "    \n",
    "    disB_index = dis_index_inSym[mesh_name_ls.index(DDA_mesh_df.loc[ite,\"diseaseId2_name\"])]\n",
    "    \n",
    "    scoreAB = predict_score.loc[disA_index*4268+disB_index]\n",
    "    scoreBA = predict_score.loc[disB_index*4268+disA_index]\n",
    "    scores.append(((scoreAB+scoreBA)/2).astype(np.float16))\n",
    "    \n",
    "    sim_score = DDA_mesh_df.loc[ite,\"jaccard\"].astype(np.float16)  #con_df 可能为多行，取均值\n",
    "    DDA_confs.append(sim_score)\n",
    "        \n",
    "print(len(DDA_confs),len(DDA_confs)==len(scores))\n",
    "DDA_confs[:2]"
   ]
  },
  {
   "cell_type": "markdown",
   "id": "e5c62d27",
   "metadata": {},
   "source": [
    "#### Calculate distribution difference"
   ]
  },
  {
   "cell_type": "code",
   "execution_count": 30,
   "id": "eb079e57",
   "metadata": {},
   "outputs": [
    {
     "name": "stderr",
     "output_type": "stream",
     "text": [
      "100%|██████████| 8876054/8876054 [00:23<00:00, 380629.65it/s]"
     ]
    },
    {
     "name": "stdout",
     "output_type": "stream",
     "text": [
      "2373846 -- 6502208\n"
     ]
    },
    {
     "name": "stderr",
     "output_type": "stream",
     "text": [
      "\n"
     ]
    }
   ],
   "source": [
    "DDA_sim = []\n",
    "DDA_unsim = []\n",
    "\n",
    "for i in tqdm(range(len(DDA_confs))):\n",
    "    score = list(scores[i])[0]\n",
    "    if score>=0.5:\n",
    "        DDA_sim.append(DDA_confs[i])\n",
    "    else:\n",
    "        DDA_unsim.append(DDA_confs[i])\n",
    "        \n",
    "print(len(DDA_sim),\"--\",len(DDA_unsim)) #"
   ]
  },
  {
   "cell_type": "code",
   "execution_count": 49,
   "id": "a9423a4f",
   "metadata": {},
   "outputs": [
    {
     "data": {
      "text/plain": [
       "MannwhitneyuResult(statistic=8830065697688.0, pvalue=0.0)"
      ]
     },
     "execution_count": 49,
     "metadata": {},
     "output_type": "execute_result"
    }
   ],
   "source": [
    "distribution_dif = stats.mannwhitneyu(DDA_sim,DDA_unsim,alternative='two-sided')\n",
    "distribution_dif"
   ]
  },
  {
   "cell_type": "code",
   "execution_count": 38,
   "id": "77f90774",
   "metadata": {},
   "outputs": [],
   "source": [
    "# pd.Series(DDA_sim).to_csv(\"DDA_sim.csv\")\n",
    "# pd.Series(DDA_unsim).to_csv(\"DDA_unsim.csv\")"
   ]
  },
  {
   "cell_type": "code",
   "execution_count": 39,
   "id": "b32eed04",
   "metadata": {},
   "outputs": [
    {
     "name": "stdout",
     "output_type": "stream",
     "text": [
      "0.02985\n",
      "0.0205\n"
     ]
    },
    {
     "data": {
      "text/plain": [
       "'相似组的DDA的Jaccard相似性大，√'"
      ]
     },
     "execution_count": 39,
     "metadata": {},
     "output_type": "execute_result"
    }
   ],
   "source": [
    "print(np.mean(DDA_sim))\n",
    "print(np.mean(DDA_unsim))"
   ]
  },
  {
   "cell_type": "code",
   "execution_count": 61,
   "id": "f4e5983f",
   "metadata": {},
   "outputs": [
    {
     "data": {
      "text/plain": [
       "MannwhitneyuResult(statistic=1e+16, pvalue=0.0)"
      ]
     },
     "execution_count": 61,
     "metadata": {},
     "output_type": "execute_result"
    }
   ],
   "source": [
    "distribution_dif = stats.mannwhitneyu([2]*100000000,[1]*100000000,alternative='two-sided')\n",
    "distribution_dif"
   ]
  },
  {
   "cell_type": "code",
   "execution_count": null,
   "id": "aacb9f25",
   "metadata": {},
   "outputs": [],
   "source": []
  }
 ],
 "metadata": {
  "kernelspec": {
   "display_name": "Python 3",
   "language": "python",
   "name": "python3"
  },
  "language_info": {
   "codemirror_mode": {
    "name": "ipython",
    "version": 3
   },
   "file_extension": ".py",
   "mimetype": "text/x-python",
   "name": "python",
   "nbconvert_exporter": "python",
   "pygments_lexer": "ipython3",
   "version": "3.7.10"
  },
  "toc": {
   "base_numbering": 1,
   "nav_menu": {},
   "number_sections": true,
   "sideBar": true,
   "skip_h1_title": false,
   "title_cell": "Table of Contents",
   "title_sidebar": "Contents",
   "toc_cell": false,
   "toc_position": {},
   "toc_section_display": true,
   "toc_window_display": true
  }
 },
 "nbformat": 4,
 "nbformat_minor": 5
}
