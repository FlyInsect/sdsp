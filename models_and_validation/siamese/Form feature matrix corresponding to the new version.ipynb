{
 "cells": [
  {
   "cell_type": "code",
   "execution_count": 1,
   "id": "1bc4558d",
   "metadata": {},
   "outputs": [],
   "source": [
    "import numpy as np\n",
    "import pandas as pd"
   ]
  },
  {
   "cell_type": "code",
   "execution_count": 31,
   "id": "c369f1da",
   "metadata": {},
   "outputs": [
    {
     "name": "stdout",
     "output_type": "stream",
     "text": [
      "(4536, 385)\n"
     ]
    },
    {
     "data": {
      "text/html": [
       "<div>\n",
       "<style scoped>\n",
       "    .dataframe tbody tr th:only-of-type {\n",
       "        vertical-align: middle;\n",
       "    }\n",
       "\n",
       "    .dataframe tbody tr th {\n",
       "        vertical-align: top;\n",
       "    }\n",
       "\n",
       "    .dataframe thead th {\n",
       "        text-align: right;\n",
       "    }\n",
       "</style>\n",
       "<table border=\"1\" class=\"dataframe\">\n",
       "  <thead>\n",
       "    <tr style=\"text-align: right;\">\n",
       "      <th></th>\n",
       "      <th>Pediatric Obesity</th>\n",
       "      <th>Orthostatic Intolerance</th>\n",
       "      <th>Seizures</th>\n",
       "      <th>Muscle Weakness</th>\n",
       "      <th>Persistent Vegetative State</th>\n",
       "      <th>Chills</th>\n",
       "      <th>Sweating Sickness</th>\n",
       "      <th>Ataxia</th>\n",
       "      <th>Nocturia</th>\n",
       "      <th>Fetal Distress</th>\n",
       "      <th>...</th>\n",
       "      <th>Hypercalciuria</th>\n",
       "      <th>Chronic Pain</th>\n",
       "      <th>Hematemesis</th>\n",
       "      <th>Angina Pectoris</th>\n",
       "      <th>Vision, Low</th>\n",
       "      <th>Muscle Hypertonia</th>\n",
       "      <th>Hearing Loss, Functional</th>\n",
       "      <th>Breakthrough Pain</th>\n",
       "      <th>Mutism</th>\n",
       "      <th>Cerebrospinal Fluid Otorrhea</th>\n",
       "    </tr>\n",
       "  </thead>\n",
       "  <tbody>\n",
       "    <tr>\n",
       "      <th>mesothelioma, cystic</th>\n",
       "      <td>0.0</td>\n",
       "      <td>0.000000</td>\n",
       "      <td>0.000000</td>\n",
       "      <td>0.000000</td>\n",
       "      <td>0.0</td>\n",
       "      <td>0.0</td>\n",
       "      <td>0.0</td>\n",
       "      <td>0.000000</td>\n",
       "      <td>0.0</td>\n",
       "      <td>0.0</td>\n",
       "      <td>...</td>\n",
       "      <td>0.0</td>\n",
       "      <td>0.000000</td>\n",
       "      <td>0.00000</td>\n",
       "      <td>0.000000</td>\n",
       "      <td>0.000000</td>\n",
       "      <td>0.000000</td>\n",
       "      <td>0.0</td>\n",
       "      <td>0.0</td>\n",
       "      <td>0.0000</td>\n",
       "      <td>0.0</td>\n",
       "    </tr>\n",
       "    <tr>\n",
       "      <th>palatal neoplasms</th>\n",
       "      <td>0.0</td>\n",
       "      <td>0.000000</td>\n",
       "      <td>0.000000</td>\n",
       "      <td>0.000000</td>\n",
       "      <td>0.0</td>\n",
       "      <td>0.0</td>\n",
       "      <td>0.0</td>\n",
       "      <td>0.779678</td>\n",
       "      <td>0.0</td>\n",
       "      <td>0.0</td>\n",
       "      <td>...</td>\n",
       "      <td>0.0</td>\n",
       "      <td>0.000000</td>\n",
       "      <td>0.00000</td>\n",
       "      <td>0.000000</td>\n",
       "      <td>0.000000</td>\n",
       "      <td>0.000000</td>\n",
       "      <td>0.0</td>\n",
       "      <td>0.0</td>\n",
       "      <td>0.0000</td>\n",
       "      <td>0.0</td>\n",
       "    </tr>\n",
       "    <tr>\n",
       "      <th>hemangiosarcoma</th>\n",
       "      <td>0.0</td>\n",
       "      <td>2.779656</td>\n",
       "      <td>1.116918</td>\n",
       "      <td>1.869995</td>\n",
       "      <td>0.0</td>\n",
       "      <td>0.0</td>\n",
       "      <td>0.0</td>\n",
       "      <td>3.898388</td>\n",
       "      <td>0.0</td>\n",
       "      <td>0.0</td>\n",
       "      <td>...</td>\n",
       "      <td>0.0</td>\n",
       "      <td>0.000000</td>\n",
       "      <td>3.01014</td>\n",
       "      <td>5.623722</td>\n",
       "      <td>0.000000</td>\n",
       "      <td>1.078317</td>\n",
       "      <td>0.0</td>\n",
       "      <td>0.0</td>\n",
       "      <td>2.1545</td>\n",
       "      <td>0.0</td>\n",
       "    </tr>\n",
       "    <tr>\n",
       "      <th>dna repair-deficiency disorders</th>\n",
       "      <td>0.0</td>\n",
       "      <td>0.000000</td>\n",
       "      <td>3.350754</td>\n",
       "      <td>1.246663</td>\n",
       "      <td>0.0</td>\n",
       "      <td>0.0</td>\n",
       "      <td>0.0</td>\n",
       "      <td>1716.070558</td>\n",
       "      <td>0.0</td>\n",
       "      <td>0.0</td>\n",
       "      <td>...</td>\n",
       "      <td>0.0</td>\n",
       "      <td>0.000000</td>\n",
       "      <td>1.50507</td>\n",
       "      <td>1.124744</td>\n",
       "      <td>1.460402</td>\n",
       "      <td>3.234951</td>\n",
       "      <td>0.0</td>\n",
       "      <td>0.0</td>\n",
       "      <td>0.0000</td>\n",
       "      <td>0.0</td>\n",
       "    </tr>\n",
       "    <tr>\n",
       "      <th>nevus, pigmented</th>\n",
       "      <td>0.0</td>\n",
       "      <td>0.000000</td>\n",
       "      <td>11.727640</td>\n",
       "      <td>3.739990</td>\n",
       "      <td>0.0</td>\n",
       "      <td>0.0</td>\n",
       "      <td>0.0</td>\n",
       "      <td>1.559355</td>\n",
       "      <td>0.0</td>\n",
       "      <td>0.0</td>\n",
       "      <td>...</td>\n",
       "      <td>0.0</td>\n",
       "      <td>1.288102</td>\n",
       "      <td>0.00000</td>\n",
       "      <td>0.000000</td>\n",
       "      <td>0.000000</td>\n",
       "      <td>3.234951</td>\n",
       "      <td>0.0</td>\n",
       "      <td>0.0</td>\n",
       "      <td>0.0000</td>\n",
       "      <td>0.0</td>\n",
       "    </tr>\n",
       "  </tbody>\n",
       "</table>\n",
       "<p>5 rows × 385 columns</p>\n",
       "</div>"
      ],
      "text/plain": [
       "                                 Pediatric Obesity  Orthostatic Intolerance  \\\n",
       "mesothelioma, cystic                           0.0                 0.000000   \n",
       "palatal neoplasms                              0.0                 0.000000   \n",
       "hemangiosarcoma                                0.0                 2.779656   \n",
       "dna repair-deficiency disorders                0.0                 0.000000   \n",
       "nevus, pigmented                               0.0                 0.000000   \n",
       "\n",
       "                                  Seizures  Muscle Weakness  \\\n",
       "mesothelioma, cystic              0.000000         0.000000   \n",
       "palatal neoplasms                 0.000000         0.000000   \n",
       "hemangiosarcoma                   1.116918         1.869995   \n",
       "dna repair-deficiency disorders   3.350754         1.246663   \n",
       "nevus, pigmented                 11.727640         3.739990   \n",
       "\n",
       "                                 Persistent Vegetative State  Chills  \\\n",
       "mesothelioma, cystic                                     0.0     0.0   \n",
       "palatal neoplasms                                        0.0     0.0   \n",
       "hemangiosarcoma                                          0.0     0.0   \n",
       "dna repair-deficiency disorders                          0.0     0.0   \n",
       "nevus, pigmented                                         0.0     0.0   \n",
       "\n",
       "                                 Sweating Sickness       Ataxia  Nocturia  \\\n",
       "mesothelioma, cystic                           0.0     0.000000       0.0   \n",
       "palatal neoplasms                              0.0     0.779678       0.0   \n",
       "hemangiosarcoma                                0.0     3.898388       0.0   \n",
       "dna repair-deficiency disorders                0.0  1716.070558       0.0   \n",
       "nevus, pigmented                               0.0     1.559355       0.0   \n",
       "\n",
       "                                 Fetal Distress  ...  Hypercalciuria  \\\n",
       "mesothelioma, cystic                        0.0  ...             0.0   \n",
       "palatal neoplasms                           0.0  ...             0.0   \n",
       "hemangiosarcoma                             0.0  ...             0.0   \n",
       "dna repair-deficiency disorders             0.0  ...             0.0   \n",
       "nevus, pigmented                            0.0  ...             0.0   \n",
       "\n",
       "                                 Chronic Pain  Hematemesis  Angina Pectoris  \\\n",
       "mesothelioma, cystic                 0.000000      0.00000         0.000000   \n",
       "palatal neoplasms                    0.000000      0.00000         0.000000   \n",
       "hemangiosarcoma                      0.000000      3.01014         5.623722   \n",
       "dna repair-deficiency disorders      0.000000      1.50507         1.124744   \n",
       "nevus, pigmented                     1.288102      0.00000         0.000000   \n",
       "\n",
       "                                 Vision, Low  Muscle Hypertonia  \\\n",
       "mesothelioma, cystic                0.000000           0.000000   \n",
       "palatal neoplasms                   0.000000           0.000000   \n",
       "hemangiosarcoma                     0.000000           1.078317   \n",
       "dna repair-deficiency disorders     1.460402           3.234951   \n",
       "nevus, pigmented                    0.000000           3.234951   \n",
       "\n",
       "                                 Hearing Loss, Functional  Breakthrough Pain  \\\n",
       "mesothelioma, cystic                                  0.0                0.0   \n",
       "palatal neoplasms                                     0.0                0.0   \n",
       "hemangiosarcoma                                       0.0                0.0   \n",
       "dna repair-deficiency disorders                       0.0                0.0   \n",
       "nevus, pigmented                                      0.0                0.0   \n",
       "\n",
       "                                 Mutism  Cerebrospinal Fluid Otorrhea  \n",
       "mesothelioma, cystic             0.0000                           0.0  \n",
       "palatal neoplasms                0.0000                           0.0  \n",
       "hemangiosarcoma                  2.1545                           0.0  \n",
       "dna repair-deficiency disorders  0.0000                           0.0  \n",
       "nevus, pigmented                 0.0000                           0.0  \n",
       "\n",
       "[5 rows x 385 columns]"
      ]
     },
     "execution_count": 31,
     "metadata": {},
     "output_type": "execute_result"
    }
   ],
   "source": [
    "dis_fea = pd.read_csv(\"../../extract_pubmed/2020_TF-IDF.csv\",index_col=0)\n",
    "\n",
    "# dis_fea[\"Unnamed: 0\"] = dis_fea[\"Unnamed: 0\"].str.lower()\n",
    "dis_fea.index = dis_fea.index.str.lower()\n",
    "print(dis_fea.shape)\n",
    "dis_fea.head()"
   ]
  },
  {
   "cell_type": "markdown",
   "id": "f2ea3b27",
   "metadata": {},
   "source": [
    "###  Construct symptom feature matrix and label"
   ]
  },
  {
   "cell_type": "code",
   "execution_count": 32,
   "id": "2629ee36",
   "metadata": {},
   "outputs": [
    {
     "name": "stdout",
     "output_type": "stream",
     "text": [
      "(44551, 3)\n"
     ]
    },
    {
     "data": {
      "text/html": [
       "<div>\n",
       "<style scoped>\n",
       "    .dataframe tbody tr th:only-of-type {\n",
       "        vertical-align: middle;\n",
       "    }\n",
       "\n",
       "    .dataframe tbody tr th {\n",
       "        vertical-align: top;\n",
       "    }\n",
       "\n",
       "    .dataframe thead th {\n",
       "        text-align: right;\n",
       "    }\n",
       "</style>\n",
       "<table border=\"1\" class=\"dataframe\">\n",
       "  <thead>\n",
       "    <tr style=\"text-align: right;\">\n",
       "      <th></th>\n",
       "      <th>disease_A</th>\n",
       "      <th>disease_B</th>\n",
       "      <th>s_AB (observed)</th>\n",
       "    </tr>\n",
       "  </thead>\n",
       "  <tbody>\n",
       "    <tr>\n",
       "      <th>0</th>\n",
       "      <td>abnormalities, multiple</td>\n",
       "      <td>actinomycetales infections</td>\n",
       "      <td>0.810442</td>\n",
       "    </tr>\n",
       "    <tr>\n",
       "      <th>1</th>\n",
       "      <td>abnormalities, multiple</td>\n",
       "      <td>adenocarcinoma</td>\n",
       "      <td>0.306936</td>\n",
       "    </tr>\n",
       "    <tr>\n",
       "      <th>2</th>\n",
       "      <td>abnormalities, multiple</td>\n",
       "      <td>adnexal diseases</td>\n",
       "      <td>0.366111</td>\n",
       "    </tr>\n",
       "    <tr>\n",
       "      <th>3</th>\n",
       "      <td>abnormalities, multiple</td>\n",
       "      <td>adrenal gland diseases</td>\n",
       "      <td>0.649266</td>\n",
       "    </tr>\n",
       "    <tr>\n",
       "      <th>4</th>\n",
       "      <td>abnormalities, multiple</td>\n",
       "      <td>albuminuria</td>\n",
       "      <td>0.212946</td>\n",
       "    </tr>\n",
       "  </tbody>\n",
       "</table>\n",
       "</div>"
      ],
      "text/plain": [
       "                 disease_A                   disease_B  s_AB (observed)\n",
       "0  abnormalities, multiple  actinomycetales infections         0.810442\n",
       "1  abnormalities, multiple              adenocarcinoma         0.306936\n",
       "2  abnormalities, multiple            adnexal diseases         0.366111\n",
       "3  abnormalities, multiple      adrenal gland diseases         0.649266\n",
       "4  abnormalities, multiple                 albuminuria         0.212946"
      ]
     },
     "execution_count": 32,
     "metadata": {},
     "output_type": "execute_result"
    }
   ],
   "source": [
    "dis_sim = pd.read_csv(\"../dis_sim.csv\")\n",
    "print(dis_sim.shape)\n",
    "dis_sim.head()"
   ]
  },
  {
   "cell_type": "code",
   "execution_count": 33,
   "id": "90467211",
   "metadata": {},
   "outputs": [
    {
     "name": "stdout",
     "output_type": "stream",
     "text": [
      "                               dif_dis\n",
      "0                        death, sudden\n",
      "1                          body weight\n",
      "2  pathological conditions, anatomical\n",
      "3                 pathologic processes\n",
      "4                      sleep disorders\n",
      "5            urological manifestations\n",
      "6                 metabolic syndrome x\n",
      "7                           overweight\n",
      "8                                death\n",
      "9                   signs and symptoms\n"
     ]
    }
   ],
   "source": [
    "#10 differient diseases between old and 2020 version.\n",
    "dif_dis = pd.read_csv(\"../../python爬虫/dif_dis.csv\",index_col=0)\n",
    "print(dif_dis)\n",
    "\n",
    "#Mapping disease from old to 2020 version: changing names\n",
    "dis_trans = {\"metabolic syndrome x\":\"Metabolic Syndrome\".lower(),\n",
    "            \"sleep disorders\":\"Sleep Wake Disorders\".lower()}"
   ]
  },
  {
   "cell_type": "code",
   "execution_count": 90,
   "id": "a2b0ee18",
   "metadata": {
    "collapsed": true
   },
   "outputs": [
    {
     "name": "stderr",
     "output_type": "stream",
     "text": [
      "100%|██████████████████████████████████████████████████████████████████████████| 44551/44551 [00:18<00:00, 2469.07it/s]\n"
     ]
    },
    {
     "ename": "AttributeError",
     "evalue": "'list' object has no attribute 'value_counts'",
     "output_type": "error",
     "traceback": [
      "\u001b[1;31m---------------------------------------------------------------------------\u001b[0m",
      "\u001b[1;31mAttributeError\u001b[0m                            Traceback (most recent call last)",
      "\u001b[1;32m<ipython-input-90-a5b4426c4415>\u001b[0m in \u001b[0;36m<module>\u001b[1;34m\u001b[0m\n\u001b[0;32m     49\u001b[0m \u001b[0mdisB_fea_mat\u001b[0m\u001b[1;33m.\u001b[0m\u001b[0mindex\u001b[0m \u001b[1;33m=\u001b[0m \u001b[0mdisB_name\u001b[0m\u001b[1;33m\u001b[0m\u001b[1;33m\u001b[0m\u001b[0m\n\u001b[0;32m     50\u001b[0m \u001b[1;33m\u001b[0m\u001b[0m\n\u001b[1;32m---> 51\u001b[1;33m \u001b[0mprint\u001b[0m\u001b[1;33m(\u001b[0m\u001b[0mnew_label\u001b[0m\u001b[1;33m.\u001b[0m\u001b[0mvalue_counts\u001b[0m\u001b[1;33m(\u001b[0m\u001b[1;33m)\u001b[0m\u001b[1;33m)\u001b[0m\u001b[1;33m\u001b[0m\u001b[1;33m\u001b[0m\u001b[0m\n\u001b[0m",
      "\u001b[1;31mAttributeError\u001b[0m: 'list' object has no attribute 'value_counts'"
     ]
    }
   ],
   "source": [
    "from tqdm import tqdm\n",
    "\n",
    "disA_fea_mat = [] \n",
    "disB_fea_mat = []\n",
    "\n",
    "disA_name = [] \n",
    "disB_name = []\n",
    "\n",
    "new_label = [] #label\n",
    "\n",
    "for i in tqdm(range(len(dis_sim))):\n",
    "    disA = dis_sim.loc[i,\"disease_A\"]\n",
    "    disB = dis_sim.loc[i,\"disease_B\"]\n",
    "    \n",
    "    #Skip above different 10 diseases\n",
    "    if (disA in list(dif_dis[\"dif_dis\"])):\n",
    "        #2 disease mappings\n",
    "        if(disA in dis_trans.keys()):\n",
    "            disA = dis_trans.get(disA)\n",
    "        else:\n",
    "            continue\n",
    "    if (disB in list(dif_dis[\"dif_dis\"])):\n",
    "        if(disB in dis_trans.keys()):\n",
    "            disB = dis_trans.get(disB)\n",
    "        else:\n",
    "            continue\n",
    "    \n",
    "#     print(disA,\"\\t\",disB)\n",
    "    \n",
    "    disA_name.append(disA)\n",
    "    disB_name.append(disB)\n",
    "    \n",
    "    disA_fea = dis_fea.loc[disA]\n",
    "    disB_fea = dis_fea.loc[disB]\n",
    "    \n",
    "    disA_fea_mat.append(list(disA_fea))\n",
    "    disB_fea_mat.append(list(disB_fea))\n",
    "    \n",
    "    if dis_sim.loc[i,\"s_AB (observed)\"]>0:\n",
    "        new_label.append(0)\n",
    "    else:\n",
    "        new_label.append(1)\n",
    "    \n",
    "\n",
    "disA_fea_mat = pd.DataFrame(disA_fea_mat,columns=dis_fea.columns)\n",
    "disA_fea_mat.index = disA_name\n",
    "\n",
    "disB_fea_mat = pd.DataFrame(disB_fea_mat,columns=dis_fea.columns)\n",
    "disB_fea_mat.index = disB_name"
   ]
  },
  {
   "cell_type": "markdown",
   "id": "8dbd57a0",
   "metadata": {},
   "source": [
    "#### Positive and negative sample ratio"
   ]
  },
  {
   "cell_type": "code",
   "execution_count": 98,
   "id": "f347329c",
   "metadata": {},
   "outputs": [
    {
     "data": {
      "text/plain": [
       "Counter({0: 39438, 1: 2757})"
      ]
     },
     "execution_count": 98,
     "metadata": {},
     "output_type": "execute_result"
    }
   ],
   "source": [
    "from collections import Counter\n",
    "Counter(new_label)"
   ]
  },
  {
   "cell_type": "markdown",
   "id": "548ef69f",
   "metadata": {},
   "source": [
    "#### 42195 samples/ total 44551"
   ]
  },
  {
   "cell_type": "code",
   "execution_count": 35,
   "id": "d580fa34",
   "metadata": {},
   "outputs": [
    {
     "name": "stdout",
     "output_type": "stream",
     "text": [
      "(42195, 385)\n",
      "42195\n"
     ]
    }
   ],
   "source": [
    "print(disA_fea_mat.shape)\n",
    "print(len(new_label))"
   ]
  },
  {
   "cell_type": "code",
   "execution_count": 10,
   "id": "bb4d8340",
   "metadata": {
    "scrolled": true
   },
   "outputs": [
    {
     "data": {
      "text/html": [
       "<div>\n",
       "<style scoped>\n",
       "    .dataframe tbody tr th:only-of-type {\n",
       "        vertical-align: middle;\n",
       "    }\n",
       "\n",
       "    .dataframe tbody tr th {\n",
       "        vertical-align: top;\n",
       "    }\n",
       "\n",
       "    .dataframe thead th {\n",
       "        text-align: right;\n",
       "    }\n",
       "</style>\n",
       "<table border=\"1\" class=\"dataframe\">\n",
       "  <thead>\n",
       "    <tr style=\"text-align: right;\">\n",
       "      <th></th>\n",
       "      <th>Pediatric Obesity</th>\n",
       "      <th>Orthostatic Intolerance</th>\n",
       "      <th>Seizures</th>\n",
       "      <th>Muscle Weakness</th>\n",
       "      <th>Persistent Vegetative State</th>\n",
       "      <th>Chills</th>\n",
       "      <th>Sweating Sickness</th>\n",
       "      <th>Ataxia</th>\n",
       "      <th>Nocturia</th>\n",
       "      <th>Fetal Distress</th>\n",
       "      <th>...</th>\n",
       "      <th>Hypercalciuria</th>\n",
       "      <th>Chronic Pain</th>\n",
       "      <th>Hematemesis</th>\n",
       "      <th>Angina Pectoris</th>\n",
       "      <th>Vision, Low</th>\n",
       "      <th>Muscle Hypertonia</th>\n",
       "      <th>Hearing Loss, Functional</th>\n",
       "      <th>Breakthrough Pain</th>\n",
       "      <th>Mutism</th>\n",
       "      <th>Cerebrospinal Fluid Otorrhea</th>\n",
       "    </tr>\n",
       "  </thead>\n",
       "  <tbody>\n",
       "    <tr>\n",
       "      <th>abnormalities, multiple</th>\n",
       "      <td>87.013803</td>\n",
       "      <td>8.338968</td>\n",
       "      <td>276.995689</td>\n",
       "      <td>44.879875</td>\n",
       "      <td>2.165972</td>\n",
       "      <td>0.0</td>\n",
       "      <td>0.0</td>\n",
       "      <td>170.74941</td>\n",
       "      <td>2.702773</td>\n",
       "      <td>18.81661</td>\n",
       "      <td>...</td>\n",
       "      <td>12.166744</td>\n",
       "      <td>28.338251</td>\n",
       "      <td>21.070979</td>\n",
       "      <td>20.2454</td>\n",
       "      <td>33.589254</td>\n",
       "      <td>39.897729</td>\n",
       "      <td>3.243651</td>\n",
       "      <td>0.0</td>\n",
       "      <td>4.308999</td>\n",
       "      <td>7.103135</td>\n",
       "    </tr>\n",
       "    <tr>\n",
       "      <th>abnormalities, multiple</th>\n",
       "      <td>87.013803</td>\n",
       "      <td>8.338968</td>\n",
       "      <td>276.995689</td>\n",
       "      <td>44.879875</td>\n",
       "      <td>2.165972</td>\n",
       "      <td>0.0</td>\n",
       "      <td>0.0</td>\n",
       "      <td>170.74941</td>\n",
       "      <td>2.702773</td>\n",
       "      <td>18.81661</td>\n",
       "      <td>...</td>\n",
       "      <td>12.166744</td>\n",
       "      <td>28.338251</td>\n",
       "      <td>21.070979</td>\n",
       "      <td>20.2454</td>\n",
       "      <td>33.589254</td>\n",
       "      <td>39.897729</td>\n",
       "      <td>3.243651</td>\n",
       "      <td>0.0</td>\n",
       "      <td>4.308999</td>\n",
       "      <td>7.103135</td>\n",
       "    </tr>\n",
       "    <tr>\n",
       "      <th>abnormalities, multiple</th>\n",
       "      <td>87.013803</td>\n",
       "      <td>8.338968</td>\n",
       "      <td>276.995689</td>\n",
       "      <td>44.879875</td>\n",
       "      <td>2.165972</td>\n",
       "      <td>0.0</td>\n",
       "      <td>0.0</td>\n",
       "      <td>170.74941</td>\n",
       "      <td>2.702773</td>\n",
       "      <td>18.81661</td>\n",
       "      <td>...</td>\n",
       "      <td>12.166744</td>\n",
       "      <td>28.338251</td>\n",
       "      <td>21.070979</td>\n",
       "      <td>20.2454</td>\n",
       "      <td>33.589254</td>\n",
       "      <td>39.897729</td>\n",
       "      <td>3.243651</td>\n",
       "      <td>0.0</td>\n",
       "      <td>4.308999</td>\n",
       "      <td>7.103135</td>\n",
       "    </tr>\n",
       "    <tr>\n",
       "      <th>abnormalities, multiple</th>\n",
       "      <td>87.013803</td>\n",
       "      <td>8.338968</td>\n",
       "      <td>276.995689</td>\n",
       "      <td>44.879875</td>\n",
       "      <td>2.165972</td>\n",
       "      <td>0.0</td>\n",
       "      <td>0.0</td>\n",
       "      <td>170.74941</td>\n",
       "      <td>2.702773</td>\n",
       "      <td>18.81661</td>\n",
       "      <td>...</td>\n",
       "      <td>12.166744</td>\n",
       "      <td>28.338251</td>\n",
       "      <td>21.070979</td>\n",
       "      <td>20.2454</td>\n",
       "      <td>33.589254</td>\n",
       "      <td>39.897729</td>\n",
       "      <td>3.243651</td>\n",
       "      <td>0.0</td>\n",
       "      <td>4.308999</td>\n",
       "      <td>7.103135</td>\n",
       "    </tr>\n",
       "    <tr>\n",
       "      <th>abnormalities, multiple</th>\n",
       "      <td>87.013803</td>\n",
       "      <td>8.338968</td>\n",
       "      <td>276.995689</td>\n",
       "      <td>44.879875</td>\n",
       "      <td>2.165972</td>\n",
       "      <td>0.0</td>\n",
       "      <td>0.0</td>\n",
       "      <td>170.74941</td>\n",
       "      <td>2.702773</td>\n",
       "      <td>18.81661</td>\n",
       "      <td>...</td>\n",
       "      <td>12.166744</td>\n",
       "      <td>28.338251</td>\n",
       "      <td>21.070979</td>\n",
       "      <td>20.2454</td>\n",
       "      <td>33.589254</td>\n",
       "      <td>39.897729</td>\n",
       "      <td>3.243651</td>\n",
       "      <td>0.0</td>\n",
       "      <td>4.308999</td>\n",
       "      <td>7.103135</td>\n",
       "    </tr>\n",
       "  </tbody>\n",
       "</table>\n",
       "<p>5 rows × 385 columns</p>\n",
       "</div>"
      ],
      "text/plain": [
       "                         Pediatric Obesity  Orthostatic Intolerance  \\\n",
       "abnormalities, multiple          87.013803                 8.338968   \n",
       "abnormalities, multiple          87.013803                 8.338968   \n",
       "abnormalities, multiple          87.013803                 8.338968   \n",
       "abnormalities, multiple          87.013803                 8.338968   \n",
       "abnormalities, multiple          87.013803                 8.338968   \n",
       "\n",
       "                           Seizures  Muscle Weakness  \\\n",
       "abnormalities, multiple  276.995689        44.879875   \n",
       "abnormalities, multiple  276.995689        44.879875   \n",
       "abnormalities, multiple  276.995689        44.879875   \n",
       "abnormalities, multiple  276.995689        44.879875   \n",
       "abnormalities, multiple  276.995689        44.879875   \n",
       "\n",
       "                         Persistent Vegetative State  Chills  \\\n",
       "abnormalities, multiple                     2.165972     0.0   \n",
       "abnormalities, multiple                     2.165972     0.0   \n",
       "abnormalities, multiple                     2.165972     0.0   \n",
       "abnormalities, multiple                     2.165972     0.0   \n",
       "abnormalities, multiple                     2.165972     0.0   \n",
       "\n",
       "                         Sweating Sickness     Ataxia  Nocturia  \\\n",
       "abnormalities, multiple                0.0  170.74941  2.702773   \n",
       "abnormalities, multiple                0.0  170.74941  2.702773   \n",
       "abnormalities, multiple                0.0  170.74941  2.702773   \n",
       "abnormalities, multiple                0.0  170.74941  2.702773   \n",
       "abnormalities, multiple                0.0  170.74941  2.702773   \n",
       "\n",
       "                         Fetal Distress  ...  Hypercalciuria  Chronic Pain  \\\n",
       "abnormalities, multiple        18.81661  ...       12.166744     28.338251   \n",
       "abnormalities, multiple        18.81661  ...       12.166744     28.338251   \n",
       "abnormalities, multiple        18.81661  ...       12.166744     28.338251   \n",
       "abnormalities, multiple        18.81661  ...       12.166744     28.338251   \n",
       "abnormalities, multiple        18.81661  ...       12.166744     28.338251   \n",
       "\n",
       "                         Hematemesis  Angina Pectoris  Vision, Low  \\\n",
       "abnormalities, multiple    21.070979          20.2454    33.589254   \n",
       "abnormalities, multiple    21.070979          20.2454    33.589254   \n",
       "abnormalities, multiple    21.070979          20.2454    33.589254   \n",
       "abnormalities, multiple    21.070979          20.2454    33.589254   \n",
       "abnormalities, multiple    21.070979          20.2454    33.589254   \n",
       "\n",
       "                         Muscle Hypertonia  Hearing Loss, Functional  \\\n",
       "abnormalities, multiple          39.897729                  3.243651   \n",
       "abnormalities, multiple          39.897729                  3.243651   \n",
       "abnormalities, multiple          39.897729                  3.243651   \n",
       "abnormalities, multiple          39.897729                  3.243651   \n",
       "abnormalities, multiple          39.897729                  3.243651   \n",
       "\n",
       "                         Breakthrough Pain    Mutism  \\\n",
       "abnormalities, multiple                0.0  4.308999   \n",
       "abnormalities, multiple                0.0  4.308999   \n",
       "abnormalities, multiple                0.0  4.308999   \n",
       "abnormalities, multiple                0.0  4.308999   \n",
       "abnormalities, multiple                0.0  4.308999   \n",
       "\n",
       "                         Cerebrospinal Fluid Otorrhea  \n",
       "abnormalities, multiple                      7.103135  \n",
       "abnormalities, multiple                      7.103135  \n",
       "abnormalities, multiple                      7.103135  \n",
       "abnormalities, multiple                      7.103135  \n",
       "abnormalities, multiple                      7.103135  \n",
       "\n",
       "[5 rows x 385 columns]"
      ]
     },
     "execution_count": 10,
     "metadata": {},
     "output_type": "execute_result"
    }
   ],
   "source": [
    "disA_fea_mat.head()"
   ]
  },
  {
   "cell_type": "code",
   "execution_count": 36,
   "id": "d28342d8",
   "metadata": {},
   "outputs": [],
   "source": [
    "new_label = pd.DataFrame(new_label,columns=[\"new_label\"])"
   ]
  },
  {
   "cell_type": "code",
   "execution_count": 37,
   "id": "e9d603cc",
   "metadata": {},
   "outputs": [],
   "source": [
    "# disA_fea_mat.to_csv(\"new_disA_fea_mat.csv\")\n",
    "# disB_fea_mat.to_csv(\"new_disB_fea_mat.csv\")\n",
    "# new_label.to_csv(\"new_label.csv\")"
   ]
  },
  {
   "cell_type": "code",
   "execution_count": 13,
   "id": "181dacc7",
   "metadata": {},
   "outputs": [
    {
     "data": {
      "text/plain": [
       "False"
      ]
     },
     "execution_count": 13,
     "metadata": {},
     "output_type": "execute_result"
    }
   ],
   "source": [
    "\"death\" in list(dif_dis[\"dif_dis\"]) #True\n",
    "\"death\" in dif_dis[\"dif_dis\"] #False"
   ]
  },
  {
   "cell_type": "markdown",
   "id": "b0224593",
   "metadata": {},
   "source": [
    "### Construct Mesh one-hot feature mat"
   ]
  },
  {
   "cell_type": "code",
   "execution_count": 38,
   "id": "1caa857f",
   "metadata": {},
   "outputs": [
    {
     "data": {
      "text/html": [
       "<div>\n",
       "<style scoped>\n",
       "    .dataframe tbody tr th:only-of-type {\n",
       "        vertical-align: middle;\n",
       "    }\n",
       "\n",
       "    .dataframe tbody tr th {\n",
       "        vertical-align: top;\n",
       "    }\n",
       "\n",
       "    .dataframe thead th {\n",
       "        text-align: right;\n",
       "    }\n",
       "</style>\n",
       "<table border=\"1\" class=\"dataframe\">\n",
       "  <thead>\n",
       "    <tr style=\"text-align: right;\">\n",
       "      <th></th>\n",
       "      <th>dis_name</th>\n",
       "      <th>mesh_id</th>\n",
       "    </tr>\n",
       "  </thead>\n",
       "  <tbody>\n",
       "    <tr>\n",
       "      <th>0</th>\n",
       "      <td>Infections</td>\n",
       "      <td>C01</td>\n",
       "    </tr>\n",
       "    <tr>\n",
       "      <th>1</th>\n",
       "      <td>Aneurysm, Infected</td>\n",
       "      <td>C01</td>\n",
       "    </tr>\n",
       "    <tr>\n",
       "      <th>2</th>\n",
       "      <td>Arthritis, Infectious</td>\n",
       "      <td>C01</td>\n",
       "    </tr>\n",
       "    <tr>\n",
       "      <th>3</th>\n",
       "      <td>Arthritis, Reactive</td>\n",
       "      <td>C01</td>\n",
       "    </tr>\n",
       "    <tr>\n",
       "      <th>4</th>\n",
       "      <td>Asymptomatic Infections</td>\n",
       "      <td>C01</td>\n",
       "    </tr>\n",
       "  </tbody>\n",
       "</table>\n",
       "</div>"
      ],
      "text/plain": [
       "                  dis_name mesh_id\n",
       "0               Infections     C01\n",
       "1       Aneurysm, Infected     C01\n",
       "2    Arthritis, Infectious     C01\n",
       "3      Arthritis, Reactive     C01\n",
       "4  Asymptomatic Infections     C01"
      ]
     },
     "execution_count": 38,
     "metadata": {},
     "output_type": "execute_result"
    }
   ],
   "source": [
    "meshid = pd.read_csv(\"Mesh_files/mtrees_dis_correct.txt\",sep = \"\\t\",header = None)\n",
    "meshid.columns = [\"dis_name\",\"mesh_id\"]\n",
    "meshid.head()"
   ]
  },
  {
   "cell_type": "code",
   "execution_count": 39,
   "id": "aa4653ab",
   "metadata": {
    "scrolled": false
   },
   "outputs": [
    {
     "name": "stdout",
     "output_type": "stream",
     "text": [
      "(44551, 3)\n"
     ]
    },
    {
     "data": {
      "text/html": [
       "<div>\n",
       "<style scoped>\n",
       "    .dataframe tbody tr th:only-of-type {\n",
       "        vertical-align: middle;\n",
       "    }\n",
       "\n",
       "    .dataframe tbody tr th {\n",
       "        vertical-align: top;\n",
       "    }\n",
       "\n",
       "    .dataframe thead th {\n",
       "        text-align: right;\n",
       "    }\n",
       "</style>\n",
       "<table border=\"1\" class=\"dataframe\">\n",
       "  <thead>\n",
       "    <tr style=\"text-align: right;\">\n",
       "      <th></th>\n",
       "      <th>disease_A</th>\n",
       "      <th>disease_B</th>\n",
       "      <th>s_AB (observed)</th>\n",
       "    </tr>\n",
       "  </thead>\n",
       "  <tbody>\n",
       "    <tr>\n",
       "      <th>0</th>\n",
       "      <td>abnormalities, multiple</td>\n",
       "      <td>actinomycetales infections</td>\n",
       "      <td>0.810442</td>\n",
       "    </tr>\n",
       "    <tr>\n",
       "      <th>1</th>\n",
       "      <td>abnormalities, multiple</td>\n",
       "      <td>adenocarcinoma</td>\n",
       "      <td>0.306936</td>\n",
       "    </tr>\n",
       "    <tr>\n",
       "      <th>2</th>\n",
       "      <td>abnormalities, multiple</td>\n",
       "      <td>adnexal diseases</td>\n",
       "      <td>0.366111</td>\n",
       "    </tr>\n",
       "    <tr>\n",
       "      <th>3</th>\n",
       "      <td>abnormalities, multiple</td>\n",
       "      <td>adrenal gland diseases</td>\n",
       "      <td>0.649266</td>\n",
       "    </tr>\n",
       "    <tr>\n",
       "      <th>4</th>\n",
       "      <td>abnormalities, multiple</td>\n",
       "      <td>albuminuria</td>\n",
       "      <td>0.212946</td>\n",
       "    </tr>\n",
       "  </tbody>\n",
       "</table>\n",
       "</div>"
      ],
      "text/plain": [
       "                 disease_A                   disease_B  s_AB (observed)\n",
       "0  abnormalities, multiple  actinomycetales infections         0.810442\n",
       "1  abnormalities, multiple              adenocarcinoma         0.306936\n",
       "2  abnormalities, multiple            adnexal diseases         0.366111\n",
       "3  abnormalities, multiple      adrenal gland diseases         0.649266\n",
       "4  abnormalities, multiple                 albuminuria         0.212946"
      ]
     },
     "execution_count": 39,
     "metadata": {},
     "output_type": "execute_result"
    }
   ],
   "source": [
    "dis_sim = pd.read_csv(\"../dis_sim.csv\")\n",
    "print(dis_sim.shape)\n",
    "dis_sim.head()"
   ]
  },
  {
   "cell_type": "markdown",
   "id": "4c45b379",
   "metadata": {},
   "source": [
    "#### Match mesh classification to 4536 diseases"
   ]
  },
  {
   "cell_type": "code",
   "execution_count": 47,
   "id": "73fb681a",
   "metadata": {},
   "outputs": [
    {
     "name": "stdout",
     "output_type": "stream",
     "text": [
      "4536\n"
     ]
    }
   ],
   "source": [
    "print(len(set(dis_fea.index)&set(meshid[\"dis_name\"].str.lower())))"
   ]
  },
  {
   "cell_type": "code",
   "execution_count": 75,
   "id": "16786354",
   "metadata": {},
   "outputs": [
    {
     "data": {
      "text/plain": [
       "['C17', 'C11', 'C14', 'C07', 'C16']"
      ]
     },
     "execution_count": 75,
     "metadata": {},
     "output_type": "execute_result"
    }
   ],
   "source": [
    "list(set(meshid.loc[meshid[\"dis_name\"]==\"Behcet Syndrome\"][\"mesh_id\"]))"
   ]
  },
  {
   "cell_type": "code",
   "execution_count": 76,
   "id": "32cf10da",
   "metadata": {},
   "outputs": [
    {
     "name": "stdout",
     "output_type": "stream",
     "text": [
      "dict长度： 4536\n"
     ]
    }
   ],
   "source": [
    "dismesh_dict = dict() \n",
    "\n",
    "for dis in dis_fea.index:\n",
    "    if dis not in dismesh_dict.keys():\n",
    "        dis_cate_df = meshid.loc[meshid[\"dis_name\"].str.lower()==dis]\n",
    "        value = list(set(dis_cate_df[\"mesh_id\"]))\n",
    "        dismesh_dict[dis]= value\n",
    "\n",
    "print(\"dict长度：\",len(dismesh_dict))"
   ]
  },
  {
   "cell_type": "markdown",
   "id": "4b011758",
   "metadata": {},
   "source": [
    "#### Save mesh classification of 4536 diseases\n",
    "    csv\n",
    "    josn"
   ]
  },
  {
   "cell_type": "code",
   "execution_count": 1,
   "id": "86a3a0ed",
   "metadata": {
    "collapsed": true
   },
   "outputs": [
    {
     "ename": "NameError",
     "evalue": "name 'pd' is not defined",
     "output_type": "error",
     "traceback": [
      "\u001b[1;31m---------------------------------------------------------------------------\u001b[0m",
      "\u001b[1;31mNameError\u001b[0m                                 Traceback (most recent call last)",
      "\u001b[1;32m<ipython-input-1-2d0aa5146d68>\u001b[0m in \u001b[0;36m<module>\u001b[1;34m\u001b[0m\n\u001b[0;32m      1\u001b[0m \u001b[1;34m\"\"\"1、python字典转DataFrame不等长的处理\"\"\"\u001b[0m\u001b[1;33m\u001b[0m\u001b[1;33m\u001b[0m\u001b[0m\n\u001b[1;32m----> 2\u001b[1;33m \u001b[0mdis_mesh\u001b[0m \u001b[1;33m=\u001b[0m \u001b[0mpd\u001b[0m\u001b[1;33m.\u001b[0m\u001b[0mDataFrame\u001b[0m\u001b[1;33m(\u001b[0m\u001b[0mdict\u001b[0m\u001b[1;33m(\u001b[0m\u001b[1;33m[\u001b[0m\u001b[1;33m(\u001b[0m\u001b[0mk\u001b[0m\u001b[1;33m,\u001b[0m \u001b[0mpd\u001b[0m\u001b[1;33m.\u001b[0m\u001b[0mSeries\u001b[0m\u001b[1;33m(\u001b[0m\u001b[0mv\u001b[0m\u001b[1;33m)\u001b[0m\u001b[1;33m)\u001b[0m \u001b[1;32mfor\u001b[0m \u001b[0mk\u001b[0m\u001b[1;33m,\u001b[0m \u001b[0mv\u001b[0m \u001b[1;32min\u001b[0m \u001b[0mdismesh_dict\u001b[0m\u001b[1;33m.\u001b[0m\u001b[0mitems\u001b[0m\u001b[1;33m(\u001b[0m\u001b[1;33m)\u001b[0m\u001b[1;33m]\u001b[0m\u001b[1;33m)\u001b[0m\u001b[1;33m)\u001b[0m\u001b[1;33m\u001b[0m\u001b[1;33m\u001b[0m\u001b[0m\n\u001b[0m\u001b[0;32m      3\u001b[0m \u001b[1;33m\u001b[0m\u001b[0m\n\u001b[0;32m      4\u001b[0m \u001b[0mprint\u001b[0m\u001b[1;33m(\u001b[0m\u001b[0mdis_mesh\u001b[0m\u001b[1;33m.\u001b[0m\u001b[0mshape\u001b[0m\u001b[1;33m)\u001b[0m\u001b[1;33m\u001b[0m\u001b[1;33m\u001b[0m\u001b[0m\n\u001b[0;32m      5\u001b[0m \u001b[0mdis_mesh\u001b[0m\u001b[1;33m\u001b[0m\u001b[1;33m\u001b[0m\u001b[0m\n",
      "\u001b[1;31mNameError\u001b[0m: name 'pd' is not defined"
     ]
    }
   ],
   "source": [
    "dis_mesh = pd.DataFrame(dict([(k, pd.Series(v)) for k, v in dismesh_dict.items()]))\n",
    "\n",
    "print(dis_mesh.shape)\n",
    "dis_mesh"
   ]
  },
  {
   "cell_type": "code",
   "execution_count": 80,
   "id": "dcb45f1a",
   "metadata": {
    "scrolled": true
   },
   "outputs": [],
   "source": [
    "# dis_mesh.to_csv(\"Mesh_files/dis_mesh_new.csv\")"
   ]
  },
  {
   "cell_type": "code",
   "execution_count": 81,
   "id": "faf89002",
   "metadata": {},
   "outputs": [],
   "source": [
    "\"\"\"2、dict to json\"\"\"\n",
    "import json\n",
    "\n",
    "with open('Mesh_files/dis_mesh_new.json','a') as outfile:\n",
    "    json.dump(dismesh_dict,outfile,ensure_ascii=False)\n",
    "    outfile.write('\\n')"
   ]
  },
  {
   "cell_type": "markdown",
   "id": "22f89733",
   "metadata": {},
   "source": [
    "#### construct mesh one-hot"
   ]
  },
  {
   "cell_type": "code",
   "execution_count": 84,
   "id": "079df345",
   "metadata": {},
   "outputs": [
    {
     "name": "stdout",
     "output_type": "stream",
     "text": [
      "<class 'dict'>\n",
      "['C14', 'C10']\n"
     ]
    }
   ],
   "source": [
    "import json\n",
    "f=open(\"Mesh_files/dis_mesh_new.json\",\"r\")\n",
    "dict_data=list()\n",
    "\n",
    "for line in f:\n",
    "    dict_data.append(json.loads(line))\n",
    "f.close()\n",
    "\n",
    "print(type(dict_data[0]))\n",
    "print(dict_data[0][\"stroke\"]) #data[0]-dict"
   ]
  },
  {
   "cell_type": "code",
   "execution_count": 85,
   "id": "e98fe140",
   "metadata": {},
   "outputs": [
    {
     "name": "stdout",
     "output_type": "stream",
     "text": [
      "4536 4536\n"
     ]
    },
    {
     "data": {
      "text/plain": [
       "[{'C04'}, {'C04', 'C05', 'C07'}]"
      ]
     },
     "execution_count": 85,
     "metadata": {},
     "output_type": "execute_result"
    }
   ],
   "source": [
    "mul_labels =[] #classifications [{},{},{}]\n",
    "dis=[] \n",
    "\n",
    "for k, v in dict_data[0].items():\n",
    "    dis.append(k.lower())\n",
    "    #print(type(k),type(v)) str,list\n",
    "    mul_labels.append(set(v))\n",
    "    \n",
    "print(len(mul_labels),len(dis))\n",
    "mul_labels[:2]"
   ]
  },
  {
   "cell_type": "code",
   "execution_count": 87,
   "id": "3f76767e",
   "metadata": {},
   "outputs": [
    {
     "name": "stdout",
     "output_type": "stream",
     "text": [
      "24\n"
     ]
    },
    {
     "data": {
      "text/plain": [
       "array([0, 1, 0, 0, 0, 0, 0, 0, 0, 0, 0, 0, 0, 0, 0, 0, 0, 0, 0, 0, 0, 0,\n",
       "       0, 0])"
      ]
     },
     "execution_count": 87,
     "metadata": {},
     "output_type": "execute_result"
    }
   ],
   "source": [
    "\"\"\"label_array :classification label\n",
    "\"\"\"\n",
    "from sklearn.preprocessing import MultiLabelBinarizer\n",
    "\n",
    "mlb = MultiLabelBinarizer()\n",
    "label_array = mlb.fit_transform(mul_labels)\n",
    "\n",
    "print(len(label_array[0]))\n",
    "label_array[0]"
   ]
  },
  {
   "cell_type": "code",
   "execution_count": 88,
   "id": "a674861f",
   "metadata": {},
   "outputs": [],
   "source": [
    "# pd.DataFrame(label_array,index=dis).to_csv(\"Mesh_files/label_array_new.csv\")"
   ]
  },
  {
   "cell_type": "markdown",
   "id": "1fe74dcb",
   "metadata": {},
   "source": [
    "##### construct one-hot mat"
   ]
  },
  {
   "cell_type": "code",
   "execution_count": 102,
   "id": "4ef9c209",
   "metadata": {},
   "outputs": [
    {
     "name": "stdout",
     "output_type": "stream",
     "text": [
      "(4536, 24)\n"
     ]
    },
    {
     "data": {
      "text/html": [
       "<div>\n",
       "<style scoped>\n",
       "    .dataframe tbody tr th:only-of-type {\n",
       "        vertical-align: middle;\n",
       "    }\n",
       "\n",
       "    .dataframe tbody tr th {\n",
       "        vertical-align: top;\n",
       "    }\n",
       "\n",
       "    .dataframe thead th {\n",
       "        text-align: right;\n",
       "    }\n",
       "</style>\n",
       "<table border=\"1\" class=\"dataframe\">\n",
       "  <thead>\n",
       "    <tr style=\"text-align: right;\">\n",
       "      <th></th>\n",
       "      <th>0</th>\n",
       "      <th>1</th>\n",
       "      <th>2</th>\n",
       "      <th>3</th>\n",
       "      <th>4</th>\n",
       "      <th>5</th>\n",
       "      <th>6</th>\n",
       "      <th>7</th>\n",
       "      <th>8</th>\n",
       "      <th>9</th>\n",
       "      <th>...</th>\n",
       "      <th>14</th>\n",
       "      <th>15</th>\n",
       "      <th>16</th>\n",
       "      <th>17</th>\n",
       "      <th>18</th>\n",
       "      <th>19</th>\n",
       "      <th>20</th>\n",
       "      <th>21</th>\n",
       "      <th>22</th>\n",
       "      <th>23</th>\n",
       "    </tr>\n",
       "  </thead>\n",
       "  <tbody>\n",
       "    <tr>\n",
       "      <th>mesothelioma, cystic</th>\n",
       "      <td>0</td>\n",
       "      <td>1</td>\n",
       "      <td>0</td>\n",
       "      <td>0</td>\n",
       "      <td>0</td>\n",
       "      <td>0</td>\n",
       "      <td>0</td>\n",
       "      <td>0</td>\n",
       "      <td>0</td>\n",
       "      <td>0</td>\n",
       "      <td>...</td>\n",
       "      <td>0</td>\n",
       "      <td>0</td>\n",
       "      <td>0</td>\n",
       "      <td>0</td>\n",
       "      <td>0</td>\n",
       "      <td>0</td>\n",
       "      <td>0</td>\n",
       "      <td>0</td>\n",
       "      <td>0</td>\n",
       "      <td>0</td>\n",
       "    </tr>\n",
       "    <tr>\n",
       "      <th>palatal neoplasms</th>\n",
       "      <td>0</td>\n",
       "      <td>1</td>\n",
       "      <td>1</td>\n",
       "      <td>0</td>\n",
       "      <td>1</td>\n",
       "      <td>0</td>\n",
       "      <td>0</td>\n",
       "      <td>0</td>\n",
       "      <td>0</td>\n",
       "      <td>0</td>\n",
       "      <td>...</td>\n",
       "      <td>0</td>\n",
       "      <td>0</td>\n",
       "      <td>0</td>\n",
       "      <td>0</td>\n",
       "      <td>0</td>\n",
       "      <td>0</td>\n",
       "      <td>0</td>\n",
       "      <td>0</td>\n",
       "      <td>0</td>\n",
       "      <td>0</td>\n",
       "    </tr>\n",
       "  </tbody>\n",
       "</table>\n",
       "<p>2 rows × 24 columns</p>\n",
       "</div>"
      ],
      "text/plain": [
       "                      0  1  2  3  4  5  6  7  8  9  ...  14  15  16  17  18  \\\n",
       "mesothelioma, cystic  0  1  0  0  0  0  0  0  0  0  ...   0   0   0   0   0   \n",
       "palatal neoplasms     0  1  1  0  1  0  0  0  0  0  ...   0   0   0   0   0   \n",
       "\n",
       "                      19  20  21  22  23  \n",
       "mesothelioma, cystic   0   0   0   0   0  \n",
       "palatal neoplasms      0   0   0   0   0  \n",
       "\n",
       "[2 rows x 24 columns]"
      ]
     },
     "execution_count": 102,
     "metadata": {},
     "output_type": "execute_result"
    }
   ],
   "source": [
    "mesh_arr = pd.read_csv(\"Mesh_files/label_array_new.csv\",index_col=0)\n",
    "print(mesh_arr.shape)\n",
    "mesh_arr[:2]"
   ]
  },
  {
   "cell_type": "code",
   "execution_count": 105,
   "id": "def97400",
   "metadata": {},
   "outputs": [
    {
     "name": "stderr",
     "output_type": "stream",
     "text": [
      "100%|██████████████████████████████████████████████████████████████████████████| 44551/44551 [00:13<00:00, 3396.81it/s]\n"
     ]
    }
   ],
   "source": [
    "from tqdm import tqdm\n",
    "\n",
    "disA_onehot = []\n",
    "disB_onehot = []\n",
    "\n",
    "disA_name = [] \n",
    "disB_name = []\n",
    "\n",
    "for i in tqdm(range(len(dis_sim))):\n",
    "    disA = dis_sim.loc[i,\"disease_A\"]\n",
    "    disB = dis_sim.loc[i,\"disease_B\"]\n",
    "    \n",
    "    if (disA in list(dif_dis[\"dif_dis\"])):\n",
    "        if(disA in dis_trans.keys()):\n",
    "            disA = dis_trans.get(disA)\n",
    "        else:\n",
    "            continue\n",
    "    if (disB in list(dif_dis[\"dif_dis\"])):\n",
    "        if(disB in dis_trans.keys()):\n",
    "            disB = dis_trans.get(disB)\n",
    "    \n",
    "#     print(disA,\"\\t\",disB)\n",
    "    \n",
    "    disA_name.append(disA)\n",
    "    disB_name.append(disB)\n",
    "    \n",
    "    disA_fea = mesh_arr.loc[disA]\n",
    "    disB_fea = mesh_arr.loc[disB]\n",
    "    \n",
    "    disA_onehot.append(list(disA_fea))\n",
    "    disB_onehot.append(list(disB_fea))\n",
    "    \n",
    "disA_onehot = pd.DataFrame(disA_onehot)\n",
    "disA_onehot.index = disA_name\n",
    "\n",
    "disB_onehot = pd.DataFrame(disB_onehot)\n",
    "disB_onehot.index = disB_name"
   ]
  },
  {
   "cell_type": "code",
   "execution_count": 106,
   "id": "15f6df75",
   "metadata": {},
   "outputs": [
    {
     "name": "stdout",
     "output_type": "stream",
     "text": [
      "(42195, 24)\n"
     ]
    },
    {
     "data": {
      "text/html": [
       "<div>\n",
       "<style scoped>\n",
       "    .dataframe tbody tr th:only-of-type {\n",
       "        vertical-align: middle;\n",
       "    }\n",
       "\n",
       "    .dataframe tbody tr th {\n",
       "        vertical-align: top;\n",
       "    }\n",
       "\n",
       "    .dataframe thead th {\n",
       "        text-align: right;\n",
       "    }\n",
       "</style>\n",
       "<table border=\"1\" class=\"dataframe\">\n",
       "  <thead>\n",
       "    <tr style=\"text-align: right;\">\n",
       "      <th></th>\n",
       "      <th>0</th>\n",
       "      <th>1</th>\n",
       "      <th>2</th>\n",
       "      <th>3</th>\n",
       "      <th>4</th>\n",
       "      <th>5</th>\n",
       "      <th>6</th>\n",
       "      <th>7</th>\n",
       "      <th>8</th>\n",
       "      <th>9</th>\n",
       "      <th>...</th>\n",
       "      <th>14</th>\n",
       "      <th>15</th>\n",
       "      <th>16</th>\n",
       "      <th>17</th>\n",
       "      <th>18</th>\n",
       "      <th>19</th>\n",
       "      <th>20</th>\n",
       "      <th>21</th>\n",
       "      <th>22</th>\n",
       "      <th>23</th>\n",
       "    </tr>\n",
       "  </thead>\n",
       "  <tbody>\n",
       "    <tr>\n",
       "      <th>abnormalities, multiple</th>\n",
       "      <td>0</td>\n",
       "      <td>0</td>\n",
       "      <td>0</td>\n",
       "      <td>0</td>\n",
       "      <td>0</td>\n",
       "      <td>0</td>\n",
       "      <td>0</td>\n",
       "      <td>0</td>\n",
       "      <td>0</td>\n",
       "      <td>0</td>\n",
       "      <td>...</td>\n",
       "      <td>0</td>\n",
       "      <td>0</td>\n",
       "      <td>0</td>\n",
       "      <td>0</td>\n",
       "      <td>0</td>\n",
       "      <td>0</td>\n",
       "      <td>0</td>\n",
       "      <td>0</td>\n",
       "      <td>0</td>\n",
       "      <td>0</td>\n",
       "    </tr>\n",
       "    <tr>\n",
       "      <th>abnormalities, multiple</th>\n",
       "      <td>0</td>\n",
       "      <td>0</td>\n",
       "      <td>0</td>\n",
       "      <td>0</td>\n",
       "      <td>0</td>\n",
       "      <td>0</td>\n",
       "      <td>0</td>\n",
       "      <td>0</td>\n",
       "      <td>0</td>\n",
       "      <td>0</td>\n",
       "      <td>...</td>\n",
       "      <td>0</td>\n",
       "      <td>0</td>\n",
       "      <td>0</td>\n",
       "      <td>0</td>\n",
       "      <td>0</td>\n",
       "      <td>0</td>\n",
       "      <td>0</td>\n",
       "      <td>0</td>\n",
       "      <td>0</td>\n",
       "      <td>0</td>\n",
       "    </tr>\n",
       "    <tr>\n",
       "      <th>abnormalities, multiple</th>\n",
       "      <td>0</td>\n",
       "      <td>0</td>\n",
       "      <td>0</td>\n",
       "      <td>0</td>\n",
       "      <td>0</td>\n",
       "      <td>0</td>\n",
       "      <td>0</td>\n",
       "      <td>0</td>\n",
       "      <td>0</td>\n",
       "      <td>0</td>\n",
       "      <td>...</td>\n",
       "      <td>0</td>\n",
       "      <td>0</td>\n",
       "      <td>0</td>\n",
       "      <td>0</td>\n",
       "      <td>0</td>\n",
       "      <td>0</td>\n",
       "      <td>0</td>\n",
       "      <td>0</td>\n",
       "      <td>0</td>\n",
       "      <td>0</td>\n",
       "    </tr>\n",
       "    <tr>\n",
       "      <th>abnormalities, multiple</th>\n",
       "      <td>0</td>\n",
       "      <td>0</td>\n",
       "      <td>0</td>\n",
       "      <td>0</td>\n",
       "      <td>0</td>\n",
       "      <td>0</td>\n",
       "      <td>0</td>\n",
       "      <td>0</td>\n",
       "      <td>0</td>\n",
       "      <td>0</td>\n",
       "      <td>...</td>\n",
       "      <td>0</td>\n",
       "      <td>0</td>\n",
       "      <td>0</td>\n",
       "      <td>0</td>\n",
       "      <td>0</td>\n",
       "      <td>0</td>\n",
       "      <td>0</td>\n",
       "      <td>0</td>\n",
       "      <td>0</td>\n",
       "      <td>0</td>\n",
       "    </tr>\n",
       "    <tr>\n",
       "      <th>abnormalities, multiple</th>\n",
       "      <td>0</td>\n",
       "      <td>0</td>\n",
       "      <td>0</td>\n",
       "      <td>0</td>\n",
       "      <td>0</td>\n",
       "      <td>0</td>\n",
       "      <td>0</td>\n",
       "      <td>0</td>\n",
       "      <td>0</td>\n",
       "      <td>0</td>\n",
       "      <td>...</td>\n",
       "      <td>0</td>\n",
       "      <td>0</td>\n",
       "      <td>0</td>\n",
       "      <td>0</td>\n",
       "      <td>0</td>\n",
       "      <td>0</td>\n",
       "      <td>0</td>\n",
       "      <td>0</td>\n",
       "      <td>0</td>\n",
       "      <td>0</td>\n",
       "    </tr>\n",
       "  </tbody>\n",
       "</table>\n",
       "<p>5 rows × 24 columns</p>\n",
       "</div>"
      ],
      "text/plain": [
       "                         0   1   2   3   4   5   6   7   8   9   ...  14  15  \\\n",
       "abnormalities, multiple   0   0   0   0   0   0   0   0   0   0  ...   0   0   \n",
       "abnormalities, multiple   0   0   0   0   0   0   0   0   0   0  ...   0   0   \n",
       "abnormalities, multiple   0   0   0   0   0   0   0   0   0   0  ...   0   0   \n",
       "abnormalities, multiple   0   0   0   0   0   0   0   0   0   0  ...   0   0   \n",
       "abnormalities, multiple   0   0   0   0   0   0   0   0   0   0  ...   0   0   \n",
       "\n",
       "                         16  17  18  19  20  21  22  23  \n",
       "abnormalities, multiple   0   0   0   0   0   0   0   0  \n",
       "abnormalities, multiple   0   0   0   0   0   0   0   0  \n",
       "abnormalities, multiple   0   0   0   0   0   0   0   0  \n",
       "abnormalities, multiple   0   0   0   0   0   0   0   0  \n",
       "abnormalities, multiple   0   0   0   0   0   0   0   0  \n",
       "\n",
       "[5 rows x 24 columns]"
      ]
     },
     "execution_count": 106,
     "metadata": {},
     "output_type": "execute_result"
    }
   ],
   "source": [
    "print(disA_onehot.shape)\n",
    "disA_onehot.head()"
   ]
  },
  {
   "cell_type": "code",
   "execution_count": 107,
   "id": "150b1018",
   "metadata": {},
   "outputs": [],
   "source": [
    "# disA_onehot.to_csv(\"concat_mesh_label/mesh_label_A_new.csv\")\n",
    "# disB_onehot.to_csv(\"concat_mesh_label/mesh_label_B_new.csv\")"
   ]
  },
  {
   "cell_type": "code",
   "execution_count": null,
   "id": "7b29b2c8",
   "metadata": {},
   "outputs": [],
   "source": []
  }
 ],
 "metadata": {
  "kernelspec": {
   "display_name": "Python 3",
   "language": "python",
   "name": "python3"
  },
  "language_info": {
   "codemirror_mode": {
    "name": "ipython",
    "version": 3
   },
   "file_extension": ".py",
   "mimetype": "text/x-python",
   "name": "python",
   "nbconvert_exporter": "python",
   "pygments_lexer": "ipython3",
   "version": "3.7.10"
  },
  "toc": {
   "base_numbering": 1,
   "nav_menu": {},
   "number_sections": true,
   "sideBar": true,
   "skip_h1_title": false,
   "title_cell": "Table of Contents",
   "title_sidebar": "Contents",
   "toc_cell": false,
   "toc_position": {
    "height": "calc(100% - 180px)",
    "left": "10px",
    "top": "150px",
    "width": "294.8px"
   },
   "toc_section_display": true,
   "toc_window_display": true
  }
 },
 "nbformat": 4,
 "nbformat_minor": 5
}
